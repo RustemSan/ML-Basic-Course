{
 "cells": [
  {
   "cell_type": "markdown",
   "id": "39a4a2e3-9454-41b3-9765-c3575e7ddf22",
   "metadata": {},
   "source": [
    "# Úkol č. 1 - předzpracování dat a binární klasifikace\n",
    "\n",
    "* Termíny jsou uvedeny na [courses.fit.cvut.cz/BI-ML1/homeworks/index.html](https://courses.fit.cvut.cz/BI-ML1/homeworks/index.html).\n",
    "* Pokud odevzdáte úkol po prvním termínu ale před nejzazším termínem, budete penalizování -12 body, pozdější odevzdání je bez bodu.\n",
    "* V rámci tohoto úkolu se musíte vypořádat s klasifikační úlohou s příznaky různých typů a s chybějícími hodnotami.\n",
    "* Před tím, než na nich postavíte predikční model, je třeba je nějakým způsobem převést do číselné reprezentace.\n",
    "    \n",
    "> **Úkoly jsou zadány tak, aby Vám daly prostor pro invenci. Vymyslet _jak přesně_ budete úkol řešit, je důležitou součástí zadání a originalita či nápaditost bude také hodnocena!**\n",
    "\n",
    "Využívejte buňky typu `Markdown` k vysvětlování Vašeho postupu. Za nepřehlednost budeme strhávat body.\n",
    "\n",
    "## Zdroj dat\n",
    "\n",
    "Budeme se zabývat predikcí přežití pasažérů Titaniku.\n",
    "K dispozici máte trénovací data v souboru `data.csv` a data na vyhodnocení v souboru `evaluation.csv`.\n",
    "\n",
    "#### Seznam příznaků:\n",
    "* survived - zda pasažér přežil, 0 = Ne, 1 = Ano; **vysvětlovaná proměnná**, kterou chcete predikovat\n",
    "* pclass - Třída lodního lístku, 1 = první, 2 = druhá, 3 = třetí\n",
    "* name - jméno\n",
    "* sex - pohlaví\n",
    "* age - věk v letech\n",
    "* sibsp\t- počet sourozenců / manželů, manželek na palubě\n",
    "* parch - počet rodičů / dětí na palubě\n",
    "* ticket - číslo lodního lístku\n",
    "* fare - cena lodního lístku\n",
    "* cabin\t- číslo kajuty\n",
    "* embarked\t- místo nalodění, C = Cherbourg, Q = Queenstown, S = Southampton\n",
    "* home.dest - Bydliště/Cíl\n",
    "\n",
    "## Pokyny k vypracování\n",
    "\n",
    "**Body zadání**, za jejichž (poctivé) vypracování získáte **25 bodů**: \n",
    "  * V notebooku načtěte data ze souboru `data.csv`. Vhodným způsobem si je rozdělte na podmnožiny, které Vám poslouží pro trénování (trénovací), porovnávání modelů (validační) a následnou predikci výkonnosti finálního modelu (testovací).\n",
    "    \n",
    "  * Proveďte základní předzpracování dat:\n",
    "    * Projděte si jednotlivé příznaky a transformujte je do vhodné podoby pro použití ve vybraném klasifikačním modelu.\n",
    "    * Podle potřeby si můžete vytvářet nové příznaky (na základě existujících), například tedy můžete vytvořit příznak měřící délku jména atp.\n",
    "    * Některé příznaky můžete také úplně zahodit.\n",
    "    * Nějakým způsobem (klidně triviálním) se vypořádejte s chybějícími hodnotami. Není potřeba používat sofistikované metody. _Hlavně pozor na metodické chyby!_\n",
    "    * Můžete využívat i vizualizace a vše stručně ale náležitě komentujte.\n",
    "\n",
    "  \n",
    "  * Na připravená data postupně aplikujte **rozhodovací strom** a **metodu nejbližších sousedů**, přičemž pro každý z těchto modelů:\n",
    "    * Okomentujte vhodnost daného modelu pro daný typ úlohy.\n",
    "    * Vyberte si hlavní hyperparametry k ladění a najděte jejich nejlepší hodnoty.\n",
    "    * Pro model s nejlepšími hodnotami hyperparametrů spočtěte F1 skóre, nakreslete ROC křivku a určete AUC. _Pozor na metodické chyby!_\n",
    "    * Získané výsledky vždy řádně okomentujte.\n",
    "\n",
    "        \n",
    "  * Ze všech zkoušených možností v předchozím kroku vyberte finální model (jednoznačně popište o který konkrétně jde) a správně odhadněte, jakou **přesnost** můžete očekávat na nových datech, která jste doposud neměli k dispozici. _Pozor na metodické chyby!_\n",
    "    \n",
    "  * Nakonec načtěte vyhodnocovací data ze souboru `evaluation.csv`. Pomocí finálního modelu napočítejte predikce pro tyto data (vysvětlovaná proměnná v nich již není). Vytvořte soubor `results.csv`, ve kterém získané predikce uložíte do sloupce **survived** a identifikátory do sloupce **ID** (dodržte názvy sloupců!). Tento soubor též odevzdejte (uložte do repozitáře vedle notebooku).\n",
    "\n",
    "      * Snažte se vše udělat tak, aby přesnost odevzdaných predikcí na vyhodocovacím datasetu byla alespoň **75%**. Pokud bude menší, přijdete o **3 body**.\n",
    "      * Ukázka, jak by mělo vypadat prvních několik řádků souboru `results.csv` (obecně s jinými hodnotami survived):\n",
    "  \n",
    "```\n",
    "ID,survived\n",
    "1000,0\n",
    "1001,1\n",
    "...\n",
    "```\n",
    "\n",
    "## Poznámky k odevzdání\n",
    "\n",
    "  * Řiďte se pokyny ze stránky https://courses.fit.cvut.cz/BI-ML1/homeworks/index.html.\n",
    "  * Vytvořte i csv soubor `results.csv` s predikcemi a uložte ho v rámci projektu vedle ipython notebooku."
   ]
  },
  {
<<<<<<< HEAD
   "cell_type": "code",
   "execution_count": 32,
=======
   "cell_type": "markdown",
   "id": "f7dd1f4e-cf43-441a-b60e-f0a2291314cd",
   "metadata": {},
   "source": [
    "# Importing necessary libraries to complete the task."
   ]
  },
  {
   "cell_type": "code",
   "execution_count": 1,
>>>>>>> f44b4cfdf414091b3907688ab60245b28ea9cdef
   "id": "003f7995-4bc0-42d8-a9ac-456638cdd708",
   "metadata": {},
   "outputs": [],
   "source": [
    "# Váš kód zde\n",
    "\n",
    "import math\n",
    "import pandas as pd\n",
    "import numpy as np\n",
    "from scipy import stats\n",
    "\n",
    "import seaborn as sns\n",
<<<<<<< HEAD
    "from sklearn import metrics, datasets\n",
    "from sklearn.model_selection import train_test_split\n",
    "\n",
    "import matplotlib.pyplot as plt\n",
    "import matplotlib\n",
    "%matplotlib inline"
=======
    "from sklearn.metrics import f1_score, roc_curve, roc_auc_score\n",
    "from sklearn import metrics, datasets\n",
    "from sklearn.model_selection import train_test_split\n",
    "from sklearn.tree import  DecisionTreeClassifier\n",
    "from sklearn.metrics import f1_score, roc_auc_score, accuracy_score, roc_curve\n",
    "from sklearn.neighbors import KNeighborsClassifier\n",
    "from sklearn.preprocessing import StandardScaler\n",
    "\n",
    "\n",
    "import matplotlib.pyplot as plt\n",
    "import matplotlib\n",
    "%matplotlib inline\n",
    "\n",
    "random_seed = 333"
   ]
  },
  {
   "cell_type": "markdown",
   "id": "a8397f16-1dc7-41df-84f9-1fff6486cfc1",
   "metadata": {},
   "source": [
    "**Read the data and look at the information about the data.**"
>>>>>>> f44b4cfdf414091b3907688ab60245b28ea9cdef
   ]
  },
  {
   "cell_type": "code",
<<<<<<< HEAD
   "execution_count": 33,
=======
   "execution_count": 2,
>>>>>>> f44b4cfdf414091b3907688ab60245b28ea9cdef
   "id": "004d2d27-d633-43fc-991c-4362b8017f34",
   "metadata": {},
   "outputs": [
    {
     "name": "stdout",
     "output_type": "stream",
     "text": [
      "<class 'pandas.core.frame.DataFrame'>\n",
      "RangeIndex: 1000 entries, 0 to 999\n",
      "Data columns (total 13 columns):\n",
      " #   Column     Non-Null Count  Dtype  \n",
      "---  ------     --------------  -----  \n",
      " 0   ID         1000 non-null   int64  \n",
      " 1   survived   1000 non-null   int64  \n",
      " 2   pclass     1000 non-null   int64  \n",
      " 3   name       1000 non-null   object \n",
      " 4   sex        1000 non-null   object \n",
      " 5   age        796 non-null    float64\n",
      " 6   sibsp      1000 non-null   int64  \n",
      " 7   parch      1000 non-null   int64  \n",
      " 8   ticket     1000 non-null   object \n",
      " 9   fare       1000 non-null   float64\n",
      " 10  cabin      225 non-null    object \n",
      " 11  embarked   1000 non-null   object \n",
      " 12  home.dest  573 non-null    object \n",
      "dtypes: float64(2), int64(5), object(6)\n",
      "memory usage: 101.7+ KB\n"
     ]
    },
    {
     "data": {
      "text/html": [
       "<div>\n",
       "<style scoped>\n",
       "    .dataframe tbody tr th:only-of-type {\n",
       "        vertical-align: middle;\n",
       "    }\n",
       "\n",
       "    .dataframe tbody tr th {\n",
       "        vertical-align: top;\n",
       "    }\n",
       "\n",
       "    .dataframe thead th {\n",
       "        text-align: right;\n",
       "    }\n",
       "</style>\n",
       "<table border=\"1\" class=\"dataframe\">\n",
       "  <thead>\n",
       "    <tr style=\"text-align: right;\">\n",
       "      <th></th>\n",
       "      <th>ID</th>\n",
       "      <th>survived</th>\n",
       "      <th>pclass</th>\n",
       "      <th>age</th>\n",
       "      <th>sibsp</th>\n",
       "      <th>parch</th>\n",
       "      <th>fare</th>\n",
       "    </tr>\n",
       "  </thead>\n",
       "  <tbody>\n",
       "    <tr>\n",
       "      <th>count</th>\n",
       "      <td>1000.000000</td>\n",
       "      <td>1000.000000</td>\n",
       "      <td>1000.000000</td>\n",
       "      <td>796.000000</td>\n",
       "      <td>1000.000000</td>\n",
       "      <td>1000.000000</td>\n",
       "      <td>1000.000000</td>\n",
       "    </tr>\n",
       "    <tr>\n",
       "      <th>mean</th>\n",
       "      <td>499.500000</td>\n",
       "      <td>0.373000</td>\n",
       "      <td>2.309000</td>\n",
       "      <td>29.894996</td>\n",
       "      <td>0.522000</td>\n",
       "      <td>0.390000</td>\n",
       "      <td>32.356224</td>\n",
       "    </tr>\n",
       "    <tr>\n",
       "      <th>std</th>\n",
       "      <td>288.819436</td>\n",
       "      <td>0.483844</td>\n",
       "      <td>0.835594</td>\n",
       "      <td>14.580693</td>\n",
       "      <td>1.092112</td>\n",
       "      <td>0.877879</td>\n",
       "      <td>50.053812</td>\n",
       "    </tr>\n",
       "    <tr>\n",
       "      <th>min</th>\n",
       "      <td>0.000000</td>\n",
       "      <td>0.000000</td>\n",
       "      <td>1.000000</td>\n",
       "      <td>0.166700</td>\n",
       "      <td>0.000000</td>\n",
       "      <td>0.000000</td>\n",
       "      <td>0.000000</td>\n",
       "    </tr>\n",
       "    <tr>\n",
       "      <th>25%</th>\n",
       "      <td>249.750000</td>\n",
       "      <td>0.000000</td>\n",
       "      <td>2.000000</td>\n",
       "      <td>21.000000</td>\n",
       "      <td>0.000000</td>\n",
       "      <td>0.000000</td>\n",
       "      <td>7.895800</td>\n",
       "    </tr>\n",
       "    <tr>\n",
       "      <th>50%</th>\n",
       "      <td>499.500000</td>\n",
       "      <td>0.000000</td>\n",
       "      <td>3.000000</td>\n",
       "      <td>28.000000</td>\n",
       "      <td>0.000000</td>\n",
       "      <td>0.000000</td>\n",
       "      <td>14.458300</td>\n",
       "    </tr>\n",
       "    <tr>\n",
       "      <th>75%</th>\n",
       "      <td>749.250000</td>\n",
       "      <td>1.000000</td>\n",
       "      <td>3.000000</td>\n",
       "      <td>39.000000</td>\n",
       "      <td>1.000000</td>\n",
       "      <td>0.000000</td>\n",
       "      <td>31.068750</td>\n",
       "    </tr>\n",
       "    <tr>\n",
       "      <th>max</th>\n",
       "      <td>999.000000</td>\n",
       "      <td>1.000000</td>\n",
       "      <td>3.000000</td>\n",
       "      <td>80.000000</td>\n",
       "      <td>8.000000</td>\n",
       "      <td>9.000000</td>\n",
       "      <td>512.329200</td>\n",
       "    </tr>\n",
       "  </tbody>\n",
       "</table>\n",
       "</div>"
      ],
      "text/plain": [
       "                ID     survived       pclass         age        sibsp  \\\n",
       "count  1000.000000  1000.000000  1000.000000  796.000000  1000.000000   \n",
       "mean    499.500000     0.373000     2.309000   29.894996     0.522000   \n",
       "std     288.819436     0.483844     0.835594   14.580693     1.092112   \n",
       "min       0.000000     0.000000     1.000000    0.166700     0.000000   \n",
       "25%     249.750000     0.000000     2.000000   21.000000     0.000000   \n",
       "50%     499.500000     0.000000     3.000000   28.000000     0.000000   \n",
       "75%     749.250000     1.000000     3.000000   39.000000     1.000000   \n",
       "max     999.000000     1.000000     3.000000   80.000000     8.000000   \n",
       "\n",
       "             parch         fare  \n",
       "count  1000.000000  1000.000000  \n",
       "mean      0.390000    32.356224  \n",
       "std       0.877879    50.053812  \n",
       "min       0.000000     0.000000  \n",
       "25%       0.000000     7.895800  \n",
       "50%       0.000000    14.458300  \n",
       "75%       0.000000    31.068750  \n",
       "max       9.000000   512.329200  "
      ]
     },
<<<<<<< HEAD
     "execution_count": 33,
=======
     "execution_count": 2,
>>>>>>> f44b4cfdf414091b3907688ab60245b28ea9cdef
     "metadata": {},
     "output_type": "execute_result"
    }
   ],
   "source": [
    "df_data = pd.read_csv(\"data.csv\")\n",
    "df_data.info()\n",
    "df_data.describe()"
   ]
  },
  {
<<<<<<< HEAD
   "cell_type": "code",
   "execution_count": 8,
=======
   "cell_type": "markdown",
   "id": "9dc57670-7e05-4e65-add8-efd414a73fd4",
   "metadata": {},
   "source": [
    "**Check how many duplicate records exist.**"
   ]
  },
  {
   "cell_type": "code",
   "execution_count": 3,
>>>>>>> f44b4cfdf414091b3907688ab60245b28ea9cdef
   "id": "c95e541d-77aa-4f31-8f35-d0df785d2ce1",
   "metadata": {},
   "outputs": [
    {
     "name": "stdout",
     "output_type": "stream",
     "text": [
      "0\n"
     ]
    }
   ],
   "source": [
    "print(df_data.duplicated().sum())"
   ]
  },
  {
<<<<<<< HEAD
   "cell_type": "code",
   "execution_count": 9,
=======
   "cell_type": "markdown",
   "id": "5056776b-a6f5-4fc9-bdc6-5f07a33fe41e",
   "metadata": {},
   "source": [
    "**Check how many missing values are in the data.**"
   ]
  },
  {
   "cell_type": "code",
   "execution_count": 4,
>>>>>>> f44b4cfdf414091b3907688ab60245b28ea9cdef
   "id": "e228186a-f8aa-4530-889d-fc219594f3c3",
   "metadata": {},
   "outputs": [
    {
     "data": {
      "text/plain": [
       "ID             0\n",
       "survived       0\n",
       "pclass         0\n",
       "name           0\n",
       "sex            0\n",
       "age          204\n",
       "sibsp          0\n",
       "parch          0\n",
       "ticket         0\n",
       "fare           0\n",
       "cabin        775\n",
       "embarked       0\n",
       "home.dest    427\n",
       "dtype: int64"
      ]
     },
<<<<<<< HEAD
     "execution_count": 9,
=======
     "execution_count": 4,
>>>>>>> f44b4cfdf414091b3907688ab60245b28ea9cdef
     "metadata": {},
     "output_type": "execute_result"
    }
   ],
   "source": [
    "df_data.isnull().sum()"
   ]
  },
  {
<<<<<<< HEAD
   "cell_type": "code",
   "execution_count": 11,
   "id": "d00b0df8-26b3-4cf8-b327-8bc71945d91c",
   "metadata": {},
   "outputs": [
    {
     "data": {
      "text/plain": [
       "ID             int64\n",
       "survived       int64\n",
       "pclass         int64\n",
       "name          object\n",
       "sex           object\n",
       "age          float64\n",
       "sibsp          int64\n",
       "parch          int64\n",
       "ticket        object\n",
       "fare         float64\n",
       "cabin         object\n",
       "embarked      object\n",
       "home.dest     object\n",
       "dtype: object"
      ]
     },
     "execution_count": 11,
     "metadata": {},
     "output_type": "execute_result"
    }
   ],
   "source": [
    "df_data.dtypes"
   ]
  },
  {
   "cell_type": "markdown",
   "id": "fa52c7d3-7f8c-4ce9-aec9-c5490ffbe04f",
   "metadata": {},
   "source": [
    "# NEED TO SEPARATE DATA ON TRAIN/VALIDATION/TEST"
=======
   "cell_type": "markdown",
   "id": "c8f7ff89-1715-4c4d-875f-4465dcd27f6d",
   "metadata": {},
   "source": [
    "**Removing unnecessary attributes that will not affect the functioning of the model. The 'age' attribute will be processed later.**"
>>>>>>> f44b4cfdf414091b3907688ab60245b28ea9cdef
   ]
  },
  {
   "cell_type": "code",
<<<<<<< HEAD
   "execution_count": 16,
   "id": "db2baaf6-b764-492b-99a1-04f4b20961a2",
=======
   "execution_count": 5,
   "id": "aaa3299c-5260-41d6-ace9-29ed37e601da",
>>>>>>> f44b4cfdf414091b3907688ab60245b28ea9cdef
   "metadata": {},
   "outputs": [
    {
     "name": "stdout",
     "output_type": "stream",
     "text": [
<<<<<<< HEAD
      "28.0\n"
=======
      "Available columns: Index(['ID', 'survived', 'pclass', 'sex', 'age', 'sibsp', 'parch', 'fare',\n",
      "       'embarked'],\n",
      "      dtype='object')\n"
>>>>>>> f44b4cfdf414091b3907688ab60245b28ea9cdef
     ]
    }
   ],
   "source": [
<<<<<<< HEAD
    "#median_age = df_data['age'].median()\n",
    "#print(median_age)\n",
    "#median_age_intakes = df_intakes['Age upon Intake (in months)'].median()\n"
   ]
  },
  {
   "cell_type": "code",
   "execution_count": 23,
   "id": "93dfe10c-d203-4909-ae2e-89aa5712864e",
   "metadata": {},
   "outputs": [
    {
     "data": {
      "text/plain": [
       "ID             0\n",
       "survived       0\n",
       "pclass         0\n",
       "name           0\n",
       "sex            0\n",
       "age          204\n",
       "sibsp          0\n",
       "parch          0\n",
       "ticket         0\n",
       "fare           0\n",
       "cabin        775\n",
       "embarked       0\n",
       "home.dest    427\n",
       "dtype: int64"
      ]
     },
     "execution_count": 23,
     "metadata": {},
     "output_type": "execute_result"
    }
   ],
   "source": [
    "#df_intakes.loc[df_intakes['Age upon Intake (in months)'] < 0, 'Age upon Intake (in months)'] = median_age_intakes\n",
    "#df_data.loc[df_data['age'] < 0, 'age'] = median_age\n",
    "#df_data.isnull().sum()\n",
    "#df_outcomes['Age upon Outcome (in months)'] = df_outcomes['Age upon Outcome (in months)'].\n",
    "#fillna(df_outcomes['Age upon Outcome (in months)'].median())\n",
    "\n",
    "#df_data['age'] = df_data['age'].fillna(median_age)"
=======
    "df_data = df_data.drop(columns=['home.dest', 'name', 'cabin', 'ticket'], errors='ignore')\n",
    "print(\"Available columns:\", df_data.columns)"
   ]
  },
  {
   "cell_type": "markdown",
   "id": "0a6905ee-d43d-4a83-afbf-6754a75ad20b",
   "metadata": {},
   "source": [
    "**Check if there are negative ages in the 'age' attribute.**"
>>>>>>> f44b4cfdf414091b3907688ab60245b28ea9cdef
   ]
  },
  {
   "cell_type": "code",
<<<<<<< HEAD
   "execution_count": 34,
   "id": "6cff0307-f480-4e14-b607-5287877674b3",
   "metadata": {},
   "outputs": [
    {
     "data": {
      "text/plain": [
       "ID             0\n",
       "survived       0\n",
       "pclass         0\n",
       "name           0\n",
       "sex            0\n",
       "age          204\n",
       "sibsp          0\n",
       "parch          0\n",
       "ticket         0\n",
       "fare           0\n",
       "cabin        775\n",
       "embarked       0\n",
       "home.dest    427\n",
       "dtype: int64"
      ]
     },
     "execution_count": 34,
     "metadata": {},
     "output_type": "execute_result"
    }
   ],
   "source": [
    "#df_data['age'] = df_data['age'].fillna(median_age)\n",
    "df_data.isnull().sum()"
   ]
  },
  {
   "cell_type": "code",
   "execution_count": 22,
=======
   "execution_count": 6,
>>>>>>> f44b4cfdf414091b3907688ab60245b28ea9cdef
   "id": "9497c8d0-e72d-4f55-aca2-16429a93ecb5",
   "metadata": {},
   "outputs": [
    {
     "name": "stdout",
     "output_type": "stream",
     "text": [
      "0\n"
     ]
    }
   ],
   "source": [
<<<<<<< HEAD
    "#negative_age_intakes = df_intakes[df_intakes['Age upon Intake (in months)'] < 0]\n",
=======
>>>>>>> f44b4cfdf414091b3907688ab60245b28ea9cdef
    "print((df_data['age'] < 0).sum())"
   ]
  },
  {
<<<<<<< HEAD
   "cell_type": "code",
   "execution_count": 29,
   "id": "7803e2b9-eb32-4825-af16-c033b0ceb772",
   "metadata": {},
   "outputs": [
    {
     "data": {
      "text/plain": [
       "ID           0\n",
       "survived     0\n",
       "pclass       0\n",
       "name         0\n",
       "sex          0\n",
       "age          0\n",
       "sibsp        0\n",
       "parch        0\n",
       "ticket       0\n",
       "fare         0\n",
       "cabin        0\n",
       "embarked     0\n",
       "home.dest    0\n",
       "dtype: int64"
      ]
     },
     "execution_count": 29,
     "metadata": {},
     "output_type": "execute_result"
    }
   ],
   "source": [
    "#df_data['home.dest'] = df_data['home.dest'].fillna('Unknown')\n",
    "#df_data['cabin'] = df_data['cabin'].fillna('Unknown')\n",
    "#df_data.isnull().sum()"
=======
   "cell_type": "markdown",
   "id": "07395c5c-764e-40d2-8620-f3bb90411581",
   "metadata": {},
   "source": [
    "**Replacing the sex of each person with 1 if male and 0 if female.**"
   ]
  },
  {
   "cell_type": "code",
   "execution_count": 7,
   "id": "2c8b7a1a-d839-4e1c-8899-52418e91c224",
   "metadata": {},
   "outputs": [
    {
     "name": "stdout",
     "output_type": "stream",
     "text": [
      "Updated 'sex' column: 0    1\n",
      "1    1\n",
      "2    1\n",
      "3    1\n",
      "4    1\n",
      "Name: sex, dtype: int64\n"
     ]
    }
   ],
   "source": [
    "# Replace sex with a numeric value\n",
    "df_data['sex'] = df_data['sex'].map({'male': 1, 'female': 0})\n",
    "\n",
    "# Check changes\n",
    "print(\"Updated 'sex' column:\", df_data['sex'].head())"
   ]
  },
  {
   "cell_type": "markdown",
   "id": "8a3458ae-c6f4-4324-a746-861b68394816",
   "metadata": {},
   "source": [
    "**We encode categories using One-hot encoding.**"
>>>>>>> f44b4cfdf414091b3907688ab60245b28ea9cdef
   ]
  },
  {
   "cell_type": "code",
<<<<<<< HEAD
   "execution_count": 30,
   "id": "88d3ab94-f01b-4db8-bf3a-05627b684210",
   "metadata": {},
   "outputs": [],
   "source": [
    "#df_data['pclass'] = df_data['pclass'].astype('category')\n",
    "#df_data['sex'] = df_data['sex'].astype('category')\n",
    "#df_data['embarked'] = df_data['embarked'].astype('category')"
=======
   "execution_count": 8,
   "id": "1aae6bd6-58f2-4416-bd62-eec2ad9bd932",
   "metadata": {},
   "outputs": [],
   "source": [
    "df_data = pd.get_dummies(df_data, drop_first=True)"
   ]
  },
  {
   "cell_type": "markdown",
   "id": "cd4c7d04-69b8-44fb-a1f6-78e6957ad157",
   "metadata": {},
   "source": [
    "categorical_columns = ['pclass', 'sex', 'embarked']\n",
    "for col in categorical_columns:\n",
    "    if col in df_data.columns:\n",
    "        df_data[col] = df_data[col].astype('category')\n",
    "\n",
    "# Encoding categorical data\n",
    "existing_columns = [col for col in categorical_columns if col in df_data.columns]\n",
    "df_data = pd.get_dummies(df_data, columns=existing_columns, drop_first=True)"
>>>>>>> f44b4cfdf414091b3907688ab60245b28ea9cdef
   ]
  },
  {
   "cell_type": "code",
<<<<<<< HEAD
   "execution_count": 31,
   "id": "e94b9e63-e30a-4d67-b195-8799fbaf2b0c",
   "metadata": {},
   "outputs": [
    {
=======
   "execution_count": 9,
   "id": "4588e229-d0e0-4ebb-8f16-a00dc24151c5",
   "metadata": {},
   "outputs": [
    {
     "name": "stdout",
     "output_type": "stream",
     "text": [
      "<class 'pandas.core.frame.DataFrame'>\n",
      "RangeIndex: 1000 entries, 0 to 999\n",
      "Data columns (total 10 columns):\n",
      " #   Column      Non-Null Count  Dtype  \n",
      "---  ------      --------------  -----  \n",
      " 0   ID          1000 non-null   int64  \n",
      " 1   survived    1000 non-null   int64  \n",
      " 2   pclass      1000 non-null   int64  \n",
      " 3   sex         1000 non-null   int64  \n",
      " 4   age         796 non-null    float64\n",
      " 5   sibsp       1000 non-null   int64  \n",
      " 6   parch       1000 non-null   int64  \n",
      " 7   fare        1000 non-null   float64\n",
      " 8   embarked_Q  1000 non-null   bool   \n",
      " 9   embarked_S  1000 non-null   bool   \n",
      "dtypes: bool(2), float64(2), int64(6)\n",
      "memory usage: 64.6 KB\n"
     ]
    },
    {
>>>>>>> f44b4cfdf414091b3907688ab60245b28ea9cdef
     "data": {
      "text/plain": [
       "ID              int64\n",
       "survived        int64\n",
<<<<<<< HEAD
       "pclass       category\n",
       "name           object\n",
       "sex          category\n",
       "age           float64\n",
       "sibsp           int64\n",
       "parch           int64\n",
       "ticket         object\n",
       "fare          float64\n",
       "cabin          object\n",
       "embarked     category\n",
       "home.dest      object\n",
       "dtype: object"
      ]
     },
     "execution_count": 31,
=======
       "pclass          int64\n",
       "sex             int64\n",
       "age           float64\n",
       "sibsp           int64\n",
       "parch           int64\n",
       "fare          float64\n",
       "embarked_Q       bool\n",
       "embarked_S       bool\n",
       "dtype: object"
      ]
     },
     "execution_count": 9,
>>>>>>> f44b4cfdf414091b3907688ab60245b28ea9cdef
     "metadata": {},
     "output_type": "execute_result"
    }
   ],
   "source": [
<<<<<<< HEAD
    "#df_data.dtypes"
=======
    "df_data.info()\n",
    "df_data.dtypes"
   ]
  },
  {
   "cell_type": "markdown",
   "id": "c331fabd-c72b-4556-96f3-44a4a5335d8c",
   "metadata": {},
   "source": [
    "# We have finished preparing the data for processing, now we can proceed to model training."
   ]
  },
  {
   "cell_type": "markdown",
   "id": "de7f86c1-8337-4965-bbc6-d0e2625fb7b8",
   "metadata": {},
   "source": [
    "**Splitting into training, validation, and test data.**"
   ]
  },
  {
   "cell_type": "code",
   "execution_count": 10,
   "id": "d01adf40-4a5e-4677-b4db-a3c8e53b4827",
   "metadata": {},
   "outputs": [
    {
     "name": "stdout",
     "output_type": "stream",
     "text": [
      "Training set size: (600, 9)\n",
      "Validation set size: (200, 9)\n",
      "Test set size: (200, 9)\n",
      "Missing values in training set: ID              0\n",
      "pclass          0\n",
      "sex             0\n",
      "age           127\n",
      "sibsp           0\n",
      "parch           0\n",
      "fare            0\n",
      "embarked_Q      0\n",
      "embarked_S      0\n",
      "dtype: int64\n",
      "Missing values in validation set: ID             0\n",
      "pclass         0\n",
      "sex            0\n",
      "age           39\n",
      "sibsp          0\n",
      "parch          0\n",
      "fare           0\n",
      "embarked_Q     0\n",
      "embarked_S     0\n",
      "dtype: int64\n",
      "Missing values in test set: ID             0\n",
      "pclass         0\n",
      "sex            0\n",
      "age           38\n",
      "sibsp          0\n",
      "parch          0\n",
      "fare           0\n",
      "embarked_Q     0\n",
      "embarked_S     0\n",
      "dtype: int64\n"
     ]
    }
   ],
   "source": [
    "from sklearn.model_selection import train_test_split\n",
    "\n",
    "# Define your target variable and features\n",
    "y = df_data['survived']\n",
    "X = df_data.drop(columns=['survived'], errors='ignore')\n",
    "\n",
    "# Split the data into training (60%) and temporary (40%) sets\n",
    "X_train, X_temp, y_train, y_temp = train_test_split(X, y, test_size=0.4, random_state=random_seed)\n",
    "\n",
    "# Now split the temporary set into validation (20%) and test sets (20%)\n",
    "# Since X_temp is 40% of the original data, we can set test_size to 0.5 to split it into two equal parts (20% each)\n",
    "X_val, X_test, y_val, y_test = train_test_split(X_temp, y_temp, test_size=0.5, random_state=random_seed)\n",
    "\n",
    "# Check the sizes of the datasets\n",
    "print(\"Training set size:\", X_train.shape)\n",
    "print(\"Validation set size:\", X_val.shape)\n",
    "print(\"Test set size:\", X_test.shape)\n",
    "\n",
    "# Check for missing values\n",
    "print(\"Missing values in training set:\", X_train.isnull().sum())\n",
    "print(\"Missing values in validation set:\", X_val.isnull().sum())\n",
    "print(\"Missing values in test set:\", X_test.isnull().sum())"
   ]
  },
  {
   "cell_type": "markdown",
   "id": "19b30c73-0834-4f03-9ba3-d043213a945f",
   "metadata": {},
   "source": [
    "**We see that we have missing values, we will replace them with the median. We will make 1 median from 'Train' data part and fill other medians with 'Train' median.**"
   ]
  },
  {
   "cell_type": "code",
   "execution_count": 11,
   "id": "c0071eb1-1815-42c8-b4a8-bedb919b3922",
   "metadata": {},
   "outputs": [
    {
     "name": "stdout",
     "output_type": "stream",
     "text": [
      "Missing values in training set: ID            0\n",
      "pclass        0\n",
      "sex           0\n",
      "age           0\n",
      "sibsp         0\n",
      "parch         0\n",
      "fare          0\n",
      "embarked_Q    0\n",
      "embarked_S    0\n",
      "dtype: int64\n",
      "Missing values in validation set: ID            0\n",
      "pclass        0\n",
      "sex           0\n",
      "age           0\n",
      "sibsp         0\n",
      "parch         0\n",
      "fare          0\n",
      "embarked_Q    0\n",
      "embarked_S    0\n",
      "dtype: int64\n",
      "Missing values in test set: ID            0\n",
      "pclass        0\n",
      "sex           0\n",
      "age           0\n",
      "sibsp         0\n",
      "parch         0\n",
      "fare          0\n",
      "embarked_Q    0\n",
      "embarked_S    0\n",
      "dtype: int64\n"
     ]
    }
   ],
   "source": [
    "median_age = X_train['age'].median()\n",
    "\n",
    "# Fill missing values in age for all datasets\n",
    "X_train['age'] = X_train['age'].fillna(median_age)\n",
    "X_val['age'] = X_val['age'].fillna(median_age)  # Use the median from the training data\n",
    "X_test['age'] = X_test['age'].fillna(median_age)  # Use the median from the training data\n",
    "\n",
    "print(\"Missing values in training set:\", X_train.isnull().sum())\n",
    "print(\"Missing values in validation set:\", X_val.isnull().sum())\n",
    "print(\"Missing values in test set:\", X_test.isnull().sum())"
   ]
  },
  {
   "cell_type": "markdown",
   "id": "cdcaae81-1abb-4d24-9353-ea9fd9e87921",
   "metadata": {},
   "source": [
    "# Decision tree"
   ]
  },
  {
   "cell_type": "markdown",
   "id": "9f5cb35e-b989-4d73-af39-ea7f7f64f19d",
   "metadata": {},
   "source": [
    "**Start with decision tree and first we need to select the best parameter.**"
   ]
  },
  {
   "cell_type": "code",
   "execution_count": 12,
   "id": "d831b7cb-7819-4df2-9bf4-f40ddb872621",
   "metadata": {},
   "outputs": [
    {
     "name": "stdout",
     "output_type": "stream",
     "text": [
      "Max Depth: 3, Accuracy: 0.8500\n",
      "Max Depth: 5, Accuracy: 0.8550\n",
      "Max Depth: 10, Accuracy: 0.8350\n",
      "Max Depth: None, Accuracy: 0.8150\n"
     ]
    }
   ],
   "source": [
    "# Variables to store results\n",
    "max_depths = [3, 5, 10, None]  # Possible values for max_depth\n",
    "results = {}\n",
    "\n",
    "# Looping through max_depth values\n",
    "for depth in max_depths:\n",
    "    # Creating and configuring the model\n",
    "    decision_tree = DecisionTreeClassifier(max_depth=depth, random_state=random_seed)\n",
    "    \n",
    "    # Training the model\n",
    "    decision_tree.fit(X_train, y_train)\n",
    "\n",
    "    # Prediction on the validation set\n",
    "    y_val_pred = decision_tree.predict(X_val)\n",
    "    y_val_proba = decision_tree.predict_proba(X_val)[:, 1]  # Probabilities for class 1\n",
    "\n",
    "    # Calculate accuracy on the validation set\n",
    "    accuracy_val = accuracy_score(y_val, y_val_pred)\n",
    "\n",
    "    # Store results\n",
    "    results[depth] = {\n",
    "        'Accuracy': accuracy_val\n",
    "    }\n",
    "\n",
    "# Print results\n",
    "for depth, metrics in results.items():\n",
    "    print(f\"Max Depth: {depth}, Accuracy: {metrics['Accuracy']:.4f}\")"
   ]
  },
  {
   "cell_type": "markdown",
   "id": "14d1b91f-8571-430e-a97e-d70673f7f217",
   "metadata": {},
   "source": [
    "**Choosing depth = 3, because the chance that the model will not overfit is higher.**"
   ]
  },
  {
   "cell_type": "code",
   "execution_count": 13,
   "id": "02119059-74ee-419d-94d2-4602235272c3",
   "metadata": {},
   "outputs": [
    {
     "name": "stdout",
     "output_type": "stream",
     "text": [
      "Validation F1 Score: 0.7826\n",
      "Validation AUC: 0.8647\n",
      "Validation Accuracy: 0.8500\n"
     ]
    },
    {
     "data": {
      "image/png": "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",
      "text/plain": [
       "<Figure size 640x480 with 1 Axes>"
      ]
     },
     "metadata": {},
     "output_type": "display_data"
    }
   ],
   "source": [
    "# Creating and training the decision tree model\n",
    "best_tree = DecisionTreeClassifier(max_depth=3, random_state=random_seed)\n",
    "\n",
    "# Training the model on the training data\n",
    "best_tree.fit(X_train, y_train)\n",
    "\n",
    "# Prediction on the validation set\n",
    "y_val_pred = best_tree.predict(X_val)\n",
    "y_val_proba = best_tree.predict_proba(X_val)[:, 1]  # Probabilities for class 1\n",
    "\n",
    "# Evaluating the model on the validation set\n",
    "f1_val = f1_score(y_val, y_val_pred)\n",
    "auc_val = roc_auc_score(y_val, y_val_proba)\n",
    "accuracy_val = accuracy_score(y_val, y_val_pred)\n",
    "\n",
    "print(f\"Validation F1 Score: {f1_val:.4f}\")\n",
    "print(f\"Validation AUC: {auc_val:.4f}\")\n",
    "print(f\"Validation Accuracy: {accuracy_val:.4f}\")\n",
    "\n",
    "# ROC curve on the validation set\n",
    "fpr, tpr, thresholds = roc_curve(y_val, y_val_proba)\n",
    "plt.figure()\n",
    "plt.plot(fpr, tpr, label=f\"AUC = {auc_val:.4f}\")\n",
    "plt.plot([0, 1], [0, 1], linestyle='--')\n",
    "plt.xlabel(\"False Positive Rate\")\n",
    "plt.ylabel(\"True Positive Rate\")\n",
    "plt.title(\"ROC Curve on Validation Set\")\n",
    "plt.legend(loc=\"lower right\")\n",
    "plt.show()"
   ]
  },
  {
   "cell_type": "markdown",
   "id": "0e98870f-d79c-49ce-b50e-02f4c7cb4efb",
   "metadata": {},
   "source": [
    "# kNN"
   ]
  },
  {
   "cell_type": "markdown",
   "id": "3f63c7ce-2739-4646-9c99-87dd6d2d24c8",
   "metadata": {},
   "source": [
    "**Now we will try the kNN method and attempt to find the optimal hyperparameter.**\n",
    "\n",
    "\n",
    "**I will train model using kNN and applying normalization**"
   ]
  },
  {
   "cell_type": "code",
   "execution_count": 14,
   "id": "46a635ef-d0e9-4b8f-b2a4-b775a40b3dd0",
   "metadata": {},
   "outputs": [
    {
     "name": "stdout",
     "output_type": "stream",
     "text": [
      "Normalization Results:\n",
      "k=3: Validation Accuracy=0.8100\n",
      "k=4: Validation Accuracy=0.8000\n",
      "k=5: Validation Accuracy=0.8250\n",
      "k=6: Validation Accuracy=0.8200\n",
      "k=7: Validation Accuracy=0.8300\n",
      "k=8: Validation Accuracy=0.8000\n",
      "k=9: Validation Accuracy=0.8150\n",
      "k=10: Validation Accuracy=0.8000\n",
      "k=11: Validation Accuracy=0.8200\n",
      "k=12: Validation Accuracy=0.8150\n",
      "k=13: Validation Accuracy=0.8250\n",
      "k=14: Validation Accuracy=0.8200\n"
     ]
    },
    {
     "data": {
      "image/png": "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",
      "text/plain": [
       "<Figure size 1000x600 with 1 Axes>"
      ]
     },
     "metadata": {},
     "output_type": "display_data"
    }
   ],
   "source": [
    "# Normalization library\n",
    "from sklearn.preprocessing import MinMaxScaler\n",
    "\n",
    "# Merging data to ensure the same features\n",
    "X_temp = pd.concat([X_train, X_val], ignore_index=True)\n",
    "X_temp = pd.get_dummies(X_temp, drop_first=True)\n",
    "\n",
    "# Splitting back into training and validation sets\n",
    "X_train = X_temp.iloc[:X_train.shape[0]]\n",
    "X_val = X_temp.iloc[X_train.shape[0]:]\n",
    "\n",
    "# Ensuring that both sets have the same columns\n",
    "X_train, X_val = X_train.align(X_val, join='outer', axis=1, fill_value=0)\n",
    "\n",
    "# Normalizing the data\n",
    "scaler = MinMaxScaler()\n",
    "X_train_scaled = scaler.fit_transform(X_train)\n",
    "X_val_scaled = scaler.transform(X_val)\n",
    "\n",
    "# Variables to store results\n",
    "normalization_results = {}\n",
    "\n",
    "# Looping through k values and evaluating accuracy on training and validation sets\n",
    "for k in range(3, 15):\n",
    "    clf = KNeighborsClassifier(n_neighbors=k)\n",
    "    clf.fit(X_train_scaled, y_train)\n",
    "    val_accuracy = clf.score(X_val_scaled, y_val)\n",
    "    \n",
    "    # Storing the results\n",
    "    normalization_results[k] = val_accuracy\n",
    "\n",
    "# Print results\n",
    "print(\"Normalization Results:\")\n",
    "for k, acc in normalization_results.items():\n",
    "    print(f\"k={k}: Validation Accuracy={acc:.4f}\")\n",
    "\n",
    "# Plotting the results\n",
    "plt.figure(figsize=(10, 6))\n",
    "plt.plot(normalization_results.keys(), normalization_results.values(), marker='o')\n",
    "plt.title('Validation Accuracy vs Number of Neighbors (k) with Normalization')\n",
    "plt.xlabel('Number of Neighbors (k)')\n",
    "plt.ylabel('Validation Accuracy')\n",
    "plt.xticks(range(3, 15))\n",
    "plt.grid()\n",
    "plt.show()\n"
   ]
  },
  {
   "cell_type": "code",
   "execution_count": 15,
   "id": "c7b8467a-f1ce-4254-8ace-096f08e33747",
   "metadata": {},
   "outputs": [
    {
     "name": "stdout",
     "output_type": "stream",
     "text": [
      "Best k: 7, Validation Accuracy: 0.8300\n",
      "Validation AUC (k-NN): 0.8767\n",
      "Validation F1 Score (k-NN): 0.7424\n"
     ]
    },
    {
     "data": {
      "image/png": "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",
      "text/plain": [
       "<Figure size 640x480 with 1 Axes>"
      ]
     },
     "metadata": {},
     "output_type": "display_data"
    }
   ],
   "source": [
    "# Find the best k\n",
    "best_k = max(normalization_results, key=normalization_results.get)\n",
    "print(f\"Best k: {best_k}, Validation Accuracy: {normalization_results[best_k]:.4f}\")\n",
    "\n",
    "# Create the k-NN model with the best k\n",
    "knn_model = KNeighborsClassifier(n_neighbors=best_k)\n",
    "\n",
    "# Fit the model with the best k on the entire training set\n",
    "knn_model.fit(X_train_scaled, y_train)\n",
    "\n",
    "# Predictions on the validation set\n",
    "y_val_pred = knn_model.predict(X_val_scaled)\n",
    "y_val_proba = knn_model.predict_proba(X_val_scaled)[:, 1]  # Probabilities for class 1\n",
    "\n",
    "# Calculate F1 score\n",
    "f1_val = f1_score(y_val, y_val_pred)\n",
    "\n",
    "# Calculate ROC AUC score\n",
    "auc_val = roc_auc_score(y_val, y_val_proba)\n",
    "\n",
    "# Print ROC AUC score and F1 score\n",
    "print(f\"Validation AUC (k-NN): {auc_val:.4f}\")\n",
    "print(f\"Validation F1 Score (k-NN): {f1_val:.4f}\")\n",
    "\n",
    "# Plot ROC curve\n",
    "fpr, tpr, thresholds = roc_curve(y_val, y_val_proba)\n",
    "plt.figure()\n",
    "plt.plot(fpr, tpr, label=f\"AUC = {auc_val:.4f}\")\n",
    "plt.plot([0, 1], [0, 1], linestyle='--')\n",
    "plt.xlabel(\"False Positive Rate\")\n",
    "plt.ylabel(\"True Positive Rate\")\n",
    "plt.title(\"ROC Curve on Validation Set (k-NN)\")\n",
    "plt.legend(loc=\"lower right\")\n",
    "plt.show()\n"
   ]
  },
  {
   "cell_type": "markdown",
   "id": "bde64bad-901b-4882-90a0-f3bb43fcdc3d",
   "metadata": {},
   "source": [
    "**The decision tree showed better results than kNN, so i will choose it and explain why:**"
   ]
  },
  {
   "cell_type": "markdown",
   "id": "7161e6da-cb2f-41e4-97f5-e299d591ee33",
   "metadata": {},
   "source": [
    "**1.Performance Metrics Comparison:**\n",
    "\n",
    "The decision tree model demonstrated a mean cross-validation score of 0.7433 across different training subsets.\n",
    "In contrast, the k-NN model had a lower mean cross-validation score of 0.7417.\n",
    "\n",
    "\n",
    "**2.Validation F1 Score:**\n",
    "\n",
    "The decision tree achieved a **validation F1 score of 0.7826**, indicating a better balance between precision and recall.\n",
    "This is particularly important for accurately identifying survivors in the dataset.\n",
    "\n",
    "**3.Validation AUC:**\n",
    "\n",
    "While the k-NN model demonstrates a better ability to discriminate between classes (as shown by the AUC), the decision tree outperforms k-NN in terms of accuracy and F1 score. Therefore, if the primary goal is to achieve a higher accuracy and balanced classification performance, the decision tree would be the preferred model.\n",
    "\n",
    "**4.Validation Accuracy:**\n",
    "\n",
    "The validation accuracy for the **decision tree was 0.8500**, which is higher than the best **validation accuracy of 0.8300 for k-NN**.\n",
    "**This indicates that the decision tree generalizes better on unseen data.**"
   ]
  },
  {
   "cell_type": "markdown",
   "id": "26d3b3b8-77fd-43c2-9551-54f330a6dd6a",
   "metadata": {},
   "source": [
    "# Final Decision:\n",
    "\n",
    "Given the superior performance metrics, including F1 score, AUC, and accuracy, along with the **decision tree’s interpretability**, it was selected as the **preferred model** for this analysis."
   ]
  },
  {
   "cell_type": "code",
   "execution_count": 16,
   "id": "e3bac8be-4a83-4b5a-83fd-d976618e897c",
   "metadata": {},
   "outputs": [
    {
     "name": "stdout",
     "output_type": "stream",
     "text": [
      "Test F1 Score: 0.7656\n",
      "Test AUC: 0.8914\n",
      "Test Accuracy: 0.8500\n"
     ]
    },
    {
     "data": {
      "image/png": "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",
      "text/plain": [
       "<Figure size 640x480 with 1 Axes>"
      ]
     },
     "metadata": {},
     "output_type": "display_data"
    }
   ],
   "source": [
    "# Make predictions on the test set\n",
    "y_test_pred = best_tree.predict(X_test)\n",
    "y_test_proba = best_tree.predict_proba(X_test)[:, 1]  # Probabilities for class 1\n",
    "\n",
    "# Evaluating the model on the test set\n",
    "f1_test = f1_score(y_test, y_test_pred)\n",
    "auc_test = roc_auc_score(y_test, y_test_proba)\n",
    "accuracy_test = accuracy_score(y_test, y_test_pred)\n",
    "\n",
    "# Print test scores\n",
    "print(f\"Test F1 Score: {f1_test:.4f}\")\n",
    "print(f\"Test AUC: {auc_test:.4f}\")\n",
    "print(f\"Test Accuracy: {accuracy_test:.4f}\")\n",
    "\n",
    "# Plot ROC curve on the test set\n",
    "fpr, tpr, thresholds = roc_curve(y_test, y_test_proba)\n",
    "plt.figure()\n",
    "plt.plot(fpr, tpr, label=f\"AUC = {auc_test:.4f}\")\n",
    "plt.plot([0, 1], [0, 1], linestyle='--')\n",
    "plt.xlabel(\"False Positive Rate\")\n",
    "plt.ylabel(\"True Positive Rate\")\n",
    "plt.title(\"ROC Curve on Test Set\")\n",
    "plt.legend(loc=\"lower right\")\n",
    "plt.show()\n"
   ]
  },
  {
   "cell_type": "markdown",
   "id": "272308c1-1bbd-4f20-8d23-7305603ada64",
   "metadata": {},
   "source": [
    "# Now, when we have tested the model on the test data, we can make predictions on the evaluation dataset."
   ]
  },
  {
   "cell_type": "markdown",
   "id": "bbc5ab5d-8346-47d4-a0f1-19895bc9b4b4",
   "metadata": {},
   "source": [
    "**First, it is also necessary to convert the data as we did earlier with 'data.csv'.**"
   ]
  },
  {
   "cell_type": "code",
   "execution_count": 17,
   "id": "13be9a96-16cb-4e82-b66f-e17ce74796a2",
   "metadata": {},
   "outputs": [],
   "source": [
    "# Loading new data\n",
    "evaluation_data = pd.read_csv('evaluation.csv')"
   ]
  },
  {
   "cell_type": "code",
   "execution_count": 18,
   "id": "b8023d3f-0ea0-4d91-b271-52761cf79581",
   "metadata": {},
   "outputs": [
    {
     "name": "stdout",
     "output_type": "stream",
     "text": [
      "Available columns: Index(['ID', 'pclass', 'sex', 'age', 'sibsp', 'parch', 'fare', 'embarked'], dtype='object')\n"
     ]
    }
   ],
   "source": [
    "evaluation_data = evaluation_data.drop(columns=['home.dest', 'name', 'cabin', 'ticket'], errors='ignore')\n",
    "print(\"Available columns:\", evaluation_data.columns)"
   ]
  },
  {
   "cell_type": "markdown",
   "id": "2d24f4ac-55f3-4627-9b43-6b40c21d05a7",
   "metadata": {},
   "source": [
    "**Replacing gender with a numeric value**"
   ]
  },
  {
   "cell_type": "code",
   "execution_count": 19,
   "id": "91a19089-fa65-4a0b-a288-0a97765cd859",
   "metadata": {},
   "outputs": [
    {
     "name": "stdout",
     "output_type": "stream",
     "text": [
      "Updated 'sex' column: 0    1\n",
      "1    1\n",
      "2    1\n",
      "3    0\n",
      "4    1\n",
      "Name: sex, dtype: int64\n"
     ]
    }
   ],
   "source": [
    "evaluation_data['sex'] = evaluation_data['sex'].map({'male': 1, 'female': 0})\n",
    "\n",
    "# Checking changes\n",
    "print(\"Updated 'sex' column:\", evaluation_data['sex'].head())"
   ]
  },
  {
   "cell_type": "markdown",
   "id": "6e67b6fb-331e-430b-a08a-4ed15ebbe500",
   "metadata": {},
   "source": [
    "**We check to ensure that there are no missing values left.**"
   ]
  },
  {
   "cell_type": "code",
   "execution_count": 20,
   "id": "9fa3e9b1-7f92-4b71-9495-0d1c1d111901",
   "metadata": {},
   "outputs": [
    {
     "name": "stdout",
     "output_type": "stream",
     "text": [
      "ID          0\n",
      "pclass      0\n",
      "sex         0\n",
      "age         0\n",
      "sibsp       0\n",
      "parch       0\n",
      "fare        1\n",
      "embarked    2\n",
      "dtype: int64\n"
     ]
    }
   ],
   "source": [
    "median_age_eval = evaluation_data['age'].median()\n",
    "evaluation_data['age'] = evaluation_data['age'].fillna(median_age_eval)\n",
    "\n",
    "print(evaluation_data.isnull().sum())"
   ]
  },
  {
   "cell_type": "markdown",
   "id": "0c494c88-6818-4fb0-9f1c-c4d1955c7d16",
   "metadata": {},
   "source": [
    "**We see that there are missing values, and we replace the missing values.**"
   ]
  },
  {
   "cell_type": "code",
   "execution_count": 21,
   "id": "02ce34b4-6b70-43cd-8e9a-8777d516d78e",
   "metadata": {},
   "outputs": [],
   "source": [
    "# Fill missing values in the evaluation data\n",
    "evaluation_data['embarked'] = evaluation_data['embarked'].fillna(evaluation_data['embarked'].mode()[0])\n",
    "evaluation_data['fare'] = evaluation_data['fare'].fillna(evaluation_data['fare'].mean())\n",
    "\n",
    "# One-hot encoding for evaluation data\n",
    "evaluation_data_encoded = pd.get_dummies(evaluation_data, drop_first=True)"
   ]
  },
  {
   "cell_type": "code",
   "execution_count": 22,
   "id": "212bb6f6-32f9-48ac-9ff2-022e6ec0788c",
   "metadata": {},
   "outputs": [
    {
     "name": "stdout",
     "output_type": "stream",
     "text": [
      "Available columns in evaluation_data: Index(['ID', 'pclass', 'sex', 'age', 'sibsp', 'parch', 'fare', 'embarked_Q',\n",
      "       'embarked_S'],\n",
      "      dtype='object')\n"
     ]
    }
   ],
   "source": [
    "print(\"Available columns in evaluation_data:\", evaluation_data_encoded.columns)"
   ]
  },
  {
   "cell_type": "markdown",
   "id": "15a2cedc-ece5-4ca6-85ab-8260152ef644",
   "metadata": {},
   "source": [
    "**We will change the categories of the attributes and encode them using One-hot encoding.**"
   ]
  },
  {
   "cell_type": "code",
   "execution_count": 23,
   "id": "b3697a2e-dac5-4510-b149-81c8c2a1cfae",
   "metadata": {},
   "outputs": [
    {
     "data": {
      "text/plain": [
       "ID            int64\n",
       "pclass        int64\n",
       "sex           int64\n",
       "age         float64\n",
       "sibsp         int64\n",
       "parch         int64\n",
       "fare        float64\n",
       "embarked     object\n",
       "dtype: object"
      ]
     },
     "execution_count": 23,
     "metadata": {},
     "output_type": "execute_result"
    }
   ],
   "source": [
    "evaluation_data.dtypes"
   ]
  },
  {
   "cell_type": "markdown",
   "id": "6d70e145-20e4-48aa-a403-93986daeabba",
   "metadata": {},
   "source": [
    "**Finally, we test the model on 'evaluation.csv' and save the result to the file 'results.csv'.**"
   ]
  },
  {
   "cell_type": "code",
   "execution_count": 24,
   "id": "4bdb707f-3060-4000-a395-04cac075c45a",
   "metadata": {},
   "outputs": [
    {
     "name": "stdout",
     "output_type": "stream",
     "text": [
      "Results saved to results.csv\n"
     ]
    }
   ],
   "source": [
    "# Prediction on new data\n",
    "y_eval_pred = best_tree.predict(evaluation_data_encoded)\n",
    "\n",
    "# Saving results to the file\n",
    "results = pd.DataFrame({'ID': evaluation_data['ID'], 'survived': y_eval_pred})\n",
    "results.to_csv('results.csv', index=False)\n",
    "\n",
    "print(\"Results saved to results.csv\")"
   ]
  },
  {
   "cell_type": "markdown",
   "id": "5fa974e3-bd4c-4e1b-a6d1-899a6cbb6cb9",
   "metadata": {},
   "source": [
    "**We check the number of survivors and deceased.** "
   ]
  },
  {
   "cell_type": "code",
   "execution_count": 25,
   "id": "d6f7f8c3-6537-4eef-acbe-1db8ea30e9c9",
   "metadata": {},
   "outputs": [
    {
     "name": "stdout",
     "output_type": "stream",
     "text": [
      "Number of survivors and deceased:\n",
      "survived\n",
      "0    251\n",
      "1     58\n",
      "Name: count, dtype: int64\n"
     ]
    }
   ],
   "source": [
    "results = pd.read_csv('results.csv')\n",
    "\n",
    "survived_count = results['survived'].value_counts()\n",
    "\n",
    "print(\"Number of survivors and deceased:\")\n",
    "print(survived_count)"
   ]
  },
  {
   "cell_type": "markdown",
   "id": "5d29c6c0-09f2-4fc9-bc0c-27a9d8b133bd",
   "metadata": {},
   "source": [
    "# FINISH🏁🏁"
>>>>>>> f44b4cfdf414091b3907688ab60245b28ea9cdef
   ]
  },
  {
   "cell_type": "code",
   "execution_count": null,
<<<<<<< HEAD
   "id": "0d6458de-6062-4943-860e-ace3bfd575c5",
=======
   "id": "49a13734-9c55-4036-a7dd-3c7511acc7a2",
>>>>>>> f44b4cfdf414091b3907688ab60245b28ea9cdef
   "metadata": {},
   "outputs": [],
   "source": []
  }
 ],
 "metadata": {
  "kernelspec": {
   "display_name": "Python 3 (ipykernel)",
   "language": "python",
   "name": "python3"
  },
  "language_info": {
   "codemirror_mode": {
    "name": "ipython",
    "version": 3
   },
   "file_extension": ".py",
   "mimetype": "text/x-python",
   "name": "python",
   "nbconvert_exporter": "python",
   "pygments_lexer": "ipython3",
   "version": "3.12.7"
  }
 },
 "nbformat": 4,
 "nbformat_minor": 5
}
