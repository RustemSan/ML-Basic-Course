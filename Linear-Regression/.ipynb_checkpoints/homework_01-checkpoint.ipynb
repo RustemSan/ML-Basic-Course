{
 "cells": [
  {
   "cell_type": "markdown",
   "id": "39a4a2e3-9454-41b3-9765-c3575e7ddf22",
   "metadata": {},
   "source": [
    "# Úkol č. 1 - předzpracování dat a binární klasifikace\n",
    "\n",
    "* Termíny jsou uvedeny na [courses.fit.cvut.cz/BI-ML1/homeworks/index.html](https://courses.fit.cvut.cz/BI-ML1/homeworks/index.html).\n",
    "* Pokud odevzdáte úkol po prvním termínu ale před nejzazším termínem, budete penalizování -12 body, pozdější odevzdání je bez bodu.\n",
    "* V rámci tohoto úkolu se musíte vypořádat s klasifikační úlohou s příznaky různých typů a s chybějícími hodnotami.\n",
    "* Před tím, než na nich postavíte predikční model, je třeba je nějakým způsobem převést do číselné reprezentace.\n",
    "    \n",
    "> **Úkoly jsou zadány tak, aby Vám daly prostor pro invenci. Vymyslet _jak přesně_ budete úkol řešit, je důležitou součástí zadání a originalita či nápaditost bude také hodnocena!**\n",
    "\n",
    "Využívejte buňky typu `Markdown` k vysvětlování Vašeho postupu. Za nepřehlednost budeme strhávat body.\n",
    "\n",
    "## Zdroj dat\n",
    "\n",
    "Budeme se zabývat predikcí přežití pasažérů Titaniku.\n",
    "K dispozici máte trénovací data v souboru `data.csv` a data na vyhodnocení v souboru `evaluation.csv`.\n",
    "\n",
    "#### Seznam příznaků:\n",
    "* survived - zda pasažér přežil, 0 = Ne, 1 = Ano; **vysvětlovaná proměnná**, kterou chcete predikovat\n",
    "* pclass - Třída lodního lístku, 1 = první, 2 = druhá, 3 = třetí\n",
    "* name - jméno\n",
    "* sex - pohlaví\n",
    "* age - věk v letech\n",
    "* sibsp\t- počet sourozenců / manželů, manželek na palubě\n",
    "* parch - počet rodičů / dětí na palubě\n",
    "* ticket - číslo lodního lístku\n",
    "* fare - cena lodního lístku\n",
    "* cabin\t- číslo kajuty\n",
    "* embarked\t- místo nalodění, C = Cherbourg, Q = Queenstown, S = Southampton\n",
    "* home.dest - Bydliště/Cíl\n",
    "\n",
    "## Pokyny k vypracování\n",
    "\n",
    "**Body zadání**, za jejichž (poctivé) vypracování získáte **25 bodů**: \n",
    "  * V notebooku načtěte data ze souboru `data.csv`. Vhodným způsobem si je rozdělte na podmnožiny, které Vám poslouží pro trénování (trénovací), porovnávání modelů (validační) a následnou predikci výkonnosti finálního modelu (testovací).\n",
    "    \n",
    "  * Proveďte základní předzpracování dat:\n",
    "    * Projděte si jednotlivé příznaky a transformujte je do vhodné podoby pro použití ve vybraném klasifikačním modelu.\n",
    "    * Podle potřeby si můžete vytvářet nové příznaky (na základě existujících), například tedy můžete vytvořit příznak měřící délku jména atp.\n",
    "    * Některé příznaky můžete také úplně zahodit.\n",
    "    * Nějakým způsobem (klidně triviálním) se vypořádejte s chybějícími hodnotami. Není potřeba používat sofistikované metody. _Hlavně pozor na metodické chyby!_\n",
    "    * Můžete využívat i vizualizace a vše stručně ale náležitě komentujte.\n",
    "\n",
    "  \n",
    "  * Na připravená data postupně aplikujte **rozhodovací strom** a **metodu nejbližších sousedů**, přičemž pro každý z těchto modelů:\n",
    "    * Okomentujte vhodnost daného modelu pro daný typ úlohy.\n",
    "    * Vyberte si hlavní hyperparametry k ladění a najděte jejich nejlepší hodnoty.\n",
    "    * Pro model s nejlepšími hodnotami hyperparametrů spočtěte F1 skóre, nakreslete ROC křivku a určete AUC. _Pozor na metodické chyby!_\n",
    "    * Získané výsledky vždy řádně okomentujte.\n",
    "\n",
    "        \n",
    "  * Ze všech zkoušených možností v předchozím kroku vyberte finální model (jednoznačně popište o který konkrétně jde) a správně odhadněte, jakou **přesnost** můžete očekávat na nových datech, která jste doposud neměli k dispozici. _Pozor na metodické chyby!_\n",
    "    \n",
    "  * Nakonec načtěte vyhodnocovací data ze souboru `evaluation.csv`. Pomocí finálního modelu napočítejte predikce pro tyto data (vysvětlovaná proměnná v nich již není). Vytvořte soubor `results.csv`, ve kterém získané predikce uložíte do sloupce **survived** a identifikátory do sloupce **ID** (dodržte názvy sloupců!). Tento soubor též odevzdejte (uložte do repozitáře vedle notebooku).\n",
    "\n",
    "      * Snažte se vše udělat tak, aby přesnost odevzdaných predikcí na vyhodocovacím datasetu byla alespoň **75%**. Pokud bude menší, přijdete o **3 body**.\n",
    "      * Ukázka, jak by mělo vypadat prvních několik řádků souboru `results.csv` (obecně s jinými hodnotami survived):\n",
    "  \n",
    "```\n",
    "ID,survived\n",
    "1000,0\n",
    "1001,1\n",
    "...\n",
    "```\n",
    "\n",
    "## Poznámky k odevzdání\n",
    "\n",
    "  * Řiďte se pokyny ze stránky https://courses.fit.cvut.cz/BI-ML1/homeworks/index.html.\n",
    "  * Vytvořte i csv soubor `results.csv` s predikcemi a uložte ho v rámci projektu vedle ipython notebooku."
   ]
  },
  {
<<<<<<< HEAD
   "cell_type": "code",
   "execution_count": null,
=======
   "cell_type": "markdown",
   "id": "f7dd1f4e-cf43-441a-b60e-f0a2291314cd",
   "metadata": {},
   "source": [
    "# Импортируем нужные библиотеки для выполнения задания"
   ]
  },
  {
   "cell_type": "code",
   "execution_count": 1,
>>>>>>> f44b4cfdf414091b3907688ab60245b28ea9cdef
   "id": "003f7995-4bc0-42d8-a9ac-456638cdd708",
   "metadata": {},
   "outputs": [],
   "source": [
<<<<<<< HEAD
    "# Váš kód zde\n"
   ]
=======
    "# Váš kód zde\n",
    "\n",
    "import math\n",
    "import pandas as pd\n",
    "import numpy as np\n",
    "from scipy import stats\n",
    "\n",
    "import seaborn as sns\n",
    "from sklearn.metrics import f1_score, roc_curve, roc_auc_score\n",
    "from sklearn import metrics, datasets\n",
    "from sklearn.model_selection import train_test_split\n",
    "\n",
    "import matplotlib.pyplot as plt\n",
    "import matplotlib\n",
    "%matplotlib inline"
   ]
  },
  {
   "cell_type": "markdown",
   "id": "a8397f16-1dc7-41df-84f9-1fff6486cfc1",
   "metadata": {},
   "source": [
    "**Прочитаем данные и посмотрим данные о данных**"
   ]
  },
  {
   "cell_type": "code",
   "execution_count": 2,
   "id": "004d2d27-d633-43fc-991c-4362b8017f34",
   "metadata": {},
   "outputs": [
    {
     "name": "stdout",
     "output_type": "stream",
     "text": [
      "<class 'pandas.core.frame.DataFrame'>\n",
      "RangeIndex: 1000 entries, 0 to 999\n",
      "Data columns (total 13 columns):\n",
      " #   Column     Non-Null Count  Dtype  \n",
      "---  ------     --------------  -----  \n",
      " 0   ID         1000 non-null   int64  \n",
      " 1   survived   1000 non-null   int64  \n",
      " 2   pclass     1000 non-null   int64  \n",
      " 3   name       1000 non-null   object \n",
      " 4   sex        1000 non-null   object \n",
      " 5   age        796 non-null    float64\n",
      " 6   sibsp      1000 non-null   int64  \n",
      " 7   parch      1000 non-null   int64  \n",
      " 8   ticket     1000 non-null   object \n",
      " 9   fare       1000 non-null   float64\n",
      " 10  cabin      225 non-null    object \n",
      " 11  embarked   1000 non-null   object \n",
      " 12  home.dest  573 non-null    object \n",
      "dtypes: float64(2), int64(5), object(6)\n",
      "memory usage: 101.7+ KB\n"
     ]
    },
    {
     "data": {
      "text/html": [
       "<div>\n",
       "<style scoped>\n",
       "    .dataframe tbody tr th:only-of-type {\n",
       "        vertical-align: middle;\n",
       "    }\n",
       "\n",
       "    .dataframe tbody tr th {\n",
       "        vertical-align: top;\n",
       "    }\n",
       "\n",
       "    .dataframe thead th {\n",
       "        text-align: right;\n",
       "    }\n",
       "</style>\n",
       "<table border=\"1\" class=\"dataframe\">\n",
       "  <thead>\n",
       "    <tr style=\"text-align: right;\">\n",
       "      <th></th>\n",
       "      <th>ID</th>\n",
       "      <th>survived</th>\n",
       "      <th>pclass</th>\n",
       "      <th>age</th>\n",
       "      <th>sibsp</th>\n",
       "      <th>parch</th>\n",
       "      <th>fare</th>\n",
       "    </tr>\n",
       "  </thead>\n",
       "  <tbody>\n",
       "    <tr>\n",
       "      <th>count</th>\n",
       "      <td>1000.000000</td>\n",
       "      <td>1000.000000</td>\n",
       "      <td>1000.000000</td>\n",
       "      <td>796.000000</td>\n",
       "      <td>1000.000000</td>\n",
       "      <td>1000.000000</td>\n",
       "      <td>1000.000000</td>\n",
       "    </tr>\n",
       "    <tr>\n",
       "      <th>mean</th>\n",
       "      <td>499.500000</td>\n",
       "      <td>0.373000</td>\n",
       "      <td>2.309000</td>\n",
       "      <td>29.894996</td>\n",
       "      <td>0.522000</td>\n",
       "      <td>0.390000</td>\n",
       "      <td>32.356224</td>\n",
       "    </tr>\n",
       "    <tr>\n",
       "      <th>std</th>\n",
       "      <td>288.819436</td>\n",
       "      <td>0.483844</td>\n",
       "      <td>0.835594</td>\n",
       "      <td>14.580693</td>\n",
       "      <td>1.092112</td>\n",
       "      <td>0.877879</td>\n",
       "      <td>50.053812</td>\n",
       "    </tr>\n",
       "    <tr>\n",
       "      <th>min</th>\n",
       "      <td>0.000000</td>\n",
       "      <td>0.000000</td>\n",
       "      <td>1.000000</td>\n",
       "      <td>0.166700</td>\n",
       "      <td>0.000000</td>\n",
       "      <td>0.000000</td>\n",
       "      <td>0.000000</td>\n",
       "    </tr>\n",
       "    <tr>\n",
       "      <th>25%</th>\n",
       "      <td>249.750000</td>\n",
       "      <td>0.000000</td>\n",
       "      <td>2.000000</td>\n",
       "      <td>21.000000</td>\n",
       "      <td>0.000000</td>\n",
       "      <td>0.000000</td>\n",
       "      <td>7.895800</td>\n",
       "    </tr>\n",
       "    <tr>\n",
       "      <th>50%</th>\n",
       "      <td>499.500000</td>\n",
       "      <td>0.000000</td>\n",
       "      <td>3.000000</td>\n",
       "      <td>28.000000</td>\n",
       "      <td>0.000000</td>\n",
       "      <td>0.000000</td>\n",
       "      <td>14.458300</td>\n",
       "    </tr>\n",
       "    <tr>\n",
       "      <th>75%</th>\n",
       "      <td>749.250000</td>\n",
       "      <td>1.000000</td>\n",
       "      <td>3.000000</td>\n",
       "      <td>39.000000</td>\n",
       "      <td>1.000000</td>\n",
       "      <td>0.000000</td>\n",
       "      <td>31.068750</td>\n",
       "    </tr>\n",
       "    <tr>\n",
       "      <th>max</th>\n",
       "      <td>999.000000</td>\n",
       "      <td>1.000000</td>\n",
       "      <td>3.000000</td>\n",
       "      <td>80.000000</td>\n",
       "      <td>8.000000</td>\n",
       "      <td>9.000000</td>\n",
       "      <td>512.329200</td>\n",
       "    </tr>\n",
       "  </tbody>\n",
       "</table>\n",
       "</div>"
      ],
      "text/plain": [
       "                ID     survived       pclass         age        sibsp  \\\n",
       "count  1000.000000  1000.000000  1000.000000  796.000000  1000.000000   \n",
       "mean    499.500000     0.373000     2.309000   29.894996     0.522000   \n",
       "std     288.819436     0.483844     0.835594   14.580693     1.092112   \n",
       "min       0.000000     0.000000     1.000000    0.166700     0.000000   \n",
       "25%     249.750000     0.000000     2.000000   21.000000     0.000000   \n",
       "50%     499.500000     0.000000     3.000000   28.000000     0.000000   \n",
       "75%     749.250000     1.000000     3.000000   39.000000     1.000000   \n",
       "max     999.000000     1.000000     3.000000   80.000000     8.000000   \n",
       "\n",
       "             parch         fare  \n",
       "count  1000.000000  1000.000000  \n",
       "mean      0.390000    32.356224  \n",
       "std       0.877879    50.053812  \n",
       "min       0.000000     0.000000  \n",
       "25%       0.000000     7.895800  \n",
       "50%       0.000000    14.458300  \n",
       "75%       0.000000    31.068750  \n",
       "max       9.000000   512.329200  "
      ]
     },
     "execution_count": 2,
     "metadata": {},
     "output_type": "execute_result"
    }
   ],
   "source": [
    "df_data = pd.read_csv(\"data.csv\")\n",
    "df_data.info()\n",
    "df_data.describe()"
   ]
  },
  {
   "cell_type": "markdown",
   "id": "9dc57670-7e05-4e65-add8-efd414a73fd4",
   "metadata": {},
   "source": [
    "**Проверим сколько дупликатов**"
   ]
  },
  {
   "cell_type": "code",
   "execution_count": 3,
   "id": "c95e541d-77aa-4f31-8f35-d0df785d2ce1",
   "metadata": {},
   "outputs": [
    {
     "name": "stdout",
     "output_type": "stream",
     "text": [
      "0\n"
     ]
    }
   ],
   "source": [
    "print(df_data.duplicated().sum())"
   ]
  },
  {
   "cell_type": "markdown",
   "id": "5056776b-a6f5-4fc9-bdc6-5f07a33fe41e",
   "metadata": {},
   "source": [
    "**Проверим сколько пропущенных значений**"
   ]
  },
  {
   "cell_type": "code",
   "execution_count": 4,
   "id": "e228186a-f8aa-4530-889d-fc219594f3c3",
   "metadata": {},
   "outputs": [
    {
     "data": {
      "text/plain": [
       "ID             0\n",
       "survived       0\n",
       "pclass         0\n",
       "name           0\n",
       "sex            0\n",
       "age          204\n",
       "sibsp          0\n",
       "parch          0\n",
       "ticket         0\n",
       "fare           0\n",
       "cabin        775\n",
       "embarked       0\n",
       "home.dest    427\n",
       "dtype: int64"
      ]
     },
     "execution_count": 4,
     "metadata": {},
     "output_type": "execute_result"
    }
   ],
   "source": [
    "df_data.isnull().sum()"
   ]
  },
  {
   "cell_type": "markdown",
   "id": "c5955932-508b-42f4-9dd7-d112b22c20ba",
   "metadata": {},
   "source": [
    "**Извлечение первой буквы секции каюты и замена пропусков на 'Unknown'**"
   ]
  },
  {
   "cell_type": "code",
   "execution_count": 5,
   "id": "743952af-e5e3-4bc4-a095-37a80c6268f4",
   "metadata": {},
   "outputs": [
    {
     "name": "stdout",
     "output_type": "stream",
     "text": [
      "cabin_section\n",
      "Unknown    775\n",
      "C           71\n",
      "B           47\n",
      "D           33\n",
      "E           31\n",
      "A           20\n",
      "F           19\n",
      "G            3\n",
      "T            1\n",
      "Name: count, dtype: int64\n"
     ]
    }
   ],
   "source": [
    "# Заполнение пропусков в колонке 'cabin' значением 'Unknown'\n",
    "df_data['cabin'] = df_data['cabin'].fillna('Unknown')\n",
    "\n",
    "# Извлечение секции кабины (первая буква)\n",
    "df_data['cabin_section'] = df_data['cabin'].apply(lambda x: x[0] if x != 'Unknown' else 'Unknown')\n",
    "\n",
    "# Удаление оригинального столбца 'cabin', если он больше не нужен\n",
    "df_data.drop(columns=['cabin'], inplace=True)\n",
    "\n",
    "# Проверка изменений\n",
    "print(df_data['cabin_section'].value_counts())"
   ]
  },
  {
   "cell_type": "markdown",
   "id": "33fed84d-708e-4477-bf22-b57dedc57c8a",
   "metadata": {},
   "source": [
    "**Посмотрим на категории признаков**"
   ]
  },
  {
   "cell_type": "code",
   "execution_count": 6,
   "id": "d00b0df8-26b3-4cf8-b327-8bc71945d91c",
   "metadata": {},
   "outputs": [
    {
     "data": {
      "text/plain": [
       "ID                 int64\n",
       "survived           int64\n",
       "pclass             int64\n",
       "name              object\n",
       "sex               object\n",
       "age              float64\n",
       "sibsp              int64\n",
       "parch              int64\n",
       "ticket            object\n",
       "fare             float64\n",
       "embarked          object\n",
       "home.dest         object\n",
       "cabin_section     object\n",
       "dtype: object"
      ]
     },
     "execution_count": 6,
     "metadata": {},
     "output_type": "execute_result"
    }
   ],
   "source": [
    "df_data.dtypes"
   ]
  },
  {
   "cell_type": "markdown",
   "id": "c8f7ff89-1715-4c4d-875f-4465dcd27f6d",
   "metadata": {},
   "source": [
    "**Уберем лишние признаки, которые не повлияют на работу модели**"
   ]
  },
  {
   "cell_type": "code",
   "execution_count": 7,
   "id": "aaa3299c-5260-41d6-ace9-29ed37e601da",
   "metadata": {},
   "outputs": [
    {
     "name": "stdout",
     "output_type": "stream",
     "text": [
      "Available columns: Index(['ID', 'survived', 'pclass', 'name', 'sex', 'age', 'sibsp', 'parch',\n",
      "       'ticket', 'fare', 'embarked', 'cabin_section'],\n",
      "      dtype='object')\n"
     ]
    }
   ],
   "source": [
    "df_data = df_data.drop(columns=['home.dest'], errors='ignore')\n",
    "print(\"Available columns:\", df_data.columns)"
   ]
  },
  {
   "cell_type": "markdown",
   "id": "01cbf812-be6c-4fc7-ad61-6738d47e531c",
   "metadata": {},
   "source": [
    "**Заменяем имена людей на их титулы, если они имеются**"
   ]
  },
  {
   "cell_type": "code",
   "execution_count": 8,
   "id": "0828bfea-1c02-45d8-b68a-ea214577abe4",
   "metadata": {},
   "outputs": [
    {
     "name": "stdout",
     "output_type": "stream",
     "text": [
      "title\n",
      "Mr          580\n",
      "Miss        191\n",
      "Mrs         155\n",
      "Master       48\n",
      "Dr            7\n",
      "Rev           6\n",
      "Col           4\n",
      "Mlle          1\n",
      "Capt          1\n",
      "Lady          1\n",
      "Sir           1\n",
      "Dona          1\n",
      "Countess      1\n",
      "Ms            1\n",
      "Don           1\n",
      "Mme           1\n",
      "Name: count, dtype: int64\n"
     ]
    }
   ],
   "source": [
    "# Извлечение длины имени\n",
    "df_data['name_length'] = df_data['name'].apply(len)\n",
    "\n",
    "# Извлечение титула\n",
    "df_data['title'] = df_data['name'].str.extract(r' ([A-Za-z]+)\\.', expand=False)\n",
    "# Просмотр уникальных значений титула\n",
    "print(df_data['title'].value_counts())\n",
    "\n",
    "# Удаление оригинального признака `name`\n",
    "df_data = df_data.drop(columns=['name'])"
   ]
  },
  {
   "cell_type": "code",
   "execution_count": 9,
   "id": "d640db89-65ae-4d90-b2e4-60e5b7d2971f",
   "metadata": {},
   "outputs": [
    {
     "data": {
      "image/png": "iVBORw0KGgoAAAANSUhEUgAAA1IAAAIjCAYAAAAJLyrXAAAAOXRFWHRTb2Z0d2FyZQBNYXRwbG90bGliIHZlcnNpb24zLjkuMiwgaHR0cHM6Ly9tYXRwbG90bGliLm9yZy8hTgPZAAAACXBIWXMAAA9hAAAPYQGoP6dpAACGqElEQVR4nOzdeXhU5eH+//eZNfu+E8IS9n1TRFBRqQju2sUW6lJatXXHWmuta/2WqtWi1ortr3Wrti4fdyuKgOCCrIICYQlbAtkTsieTycz5/REyGgEhIeFMJvfrunJJzpyZuYcMODfPc57HME3TRERERERERI6azeoAIiIiIiIi3Y2KlIiIiIiISDupSImIiIiIiLSTipSIiIiIiEg7qUiJiIiIiIi0k4qUiIiIiIhIO6lIiYiIiIiItJOKlIiIiIiISDupSImIiIiIiLSTipSIyHF2zz33YBjGcXmuqVOnMnXq1MD3H330EYZh8Oqrrx6X57/iiivo27fvcXmujqqtreXnP/85aWlpGIbBTTfdZHUkaYe+ffty7rnnWh1DRHogFSkRkWPwzDPPYBhG4CssLIyMjAymT5/OY489Rk1NTac8T0FBAffccw/r16/vlMfrTMGc7Wj88Y9/5JlnnuGXv/wlzz//PD/96U8Pe27fvn0xDIPrr7/+oNuOd0ntTK3lvqyszOooh7R582buuecedu/ebXUUEZEAFSkRkU5w33338fzzz/Pkk08GPmTfdNNNjBw5ki+//LLNub///e9paGho1+MXFBRw7733trusfPDBB3zwwQftuk97fVe2f/zjH2zdurVLn/9YLVmyhJNOOom7776b2bNnM378+CPe5x//+AcFBQXHIZ1AS5G69957VaREJKioSImIdIIZM2Ywe/ZsrrzySm6//Xbef/99PvzwQ0pKSjj//PPbFCeHw0FYWFiX5qmvrwfA5XLhcrm69Lm+i9PpxO12W/b8R6OkpIS4uLijPn/48OH4fD7+9Kc/dV0oEREJeipSIiJd5IwzzuDOO+9kz549/Pvf/w4cP9Q1UosWLWLKlCnExcURFRXF4MGD+d3vfge0TBk74YQTALjyyisD0wifeeYZoOU6qBEjRrB27VpOPfVUIiIiAvf99jVSrXw+H7/73e9IS0sjMjKS888/n/z8/Dbn9O3blyuuuOKg+37zMY+U7VDXSNXV1XHLLbfQu3dv3G43gwcP5s9//jOmabY5zzAMrrvuOt544w1GjBiB2+1m+PDhLFy48NC/4d9SUlLCnDlzSE1NJSwsjNGjR/Pss88Gbm+dirdr1y7efffdQPYjjXr07duXyy677KhGpfbs2cOvfvUrBg8eTHh4OImJifzgBz846Dlap4h+8skn3HDDDSQnJxMXF8fVV19NU1MTlZWVXHbZZcTHxxMfH89vfvObg36//H4/8+fPZ/jw4YSFhZGamsrVV1/N/v37j+r362hs2bKF73//+yQkJBAWFsaECRN46623DvlaPv30U+bOnUtycjKRkZFcdNFFlJaWHpT5nnvuISMjg4iICE4//XQ2b97c5r33zDPP8IMf/ACA008/PfBz+uijj9o81ieffMKJJ55IWFgY/fv357nnnuu01y0icigqUiIiXaj1epvvml63adMmzj33XDweD/fddx8PP/ww559/Pp9++ikAQ4cO5b777gPgqquu4vnnn+f555/n1FNPDTxGeXk5M2bMYMyYMcyfP5/TTz/9O3P9v//3/3j33Xe57bbbuOGGG1i0aBHTpk1r95TDo8n2TaZpcv755/OXv/yFs88+m0ceeYTBgwdz6623Mnfu3IPO/+STT/jVr37FpZdeyoMPPkhjYyOXXHIJ5eXl35mroaGBqVOn8vzzzzNr1iweeughYmNjueKKK3j00UcD2Z9//nmSkpIYM2ZMIHtycvIRX/cdd9xBc3PzEUelVq9ezWeffcall17KY489xjXXXMPixYuZOnVqYNTwm66//nq2b9/Ovffey/nnn8/f//537rzzTs477zx8Ph9//OMfmTJlCg899BDPP/98m/teffXV3HrrrUyePJlHH32UK6+8khdeeIHp06fj9XqP+JqOZNOmTZx00knk5OTw29/+locffpjIyEguvPBCXn/99UO+lg0bNnD33Xfzy1/+krfffpvrrruuzTm333479957LxMmTOChhx5i4MCBTJ8+nbq6usA5p556KjfccAMAv/vd7wI/p6FDhwbOyc3N5fvf/z7f+973ePjhh4mPj+eKK65g06ZNx/y6RUQOyxQRkQ57+umnTcBcvXr1Yc+JjY01x44dG/j+7rvvNr/51+9f/vIXEzBLS0sP+xirV682AfPpp58+6LbTTjvNBMwFCxYc8rbTTjst8P3SpUtNwOzVq5dZXV0dOP7yyy+bgPnoo48GjvXp08e8/PLLj/iY35Xt8ssvN/v06RP4/o033jAB8/77729z3ve//33TMAwzNzc3cAwwXS5Xm2MbNmwwAfPxxx8/6Lm+af78+SZg/vvf/w4ca2pqMidNmmRGRUW1ee19+vQxzznnnO98vEOde+WVV5phYWFmQUGBaZpf/96+8sorgfPr6+sPeowVK1aYgPncc88FjrW+j6ZPn276/f7A8UmTJpmGYZjXXHNN4Fhzc7OZmZnZ5mfw8ccfm4D5wgsvtHmuhQsXHvL4t7W+J7/rPXjmmWeaI0eONBsbGwPH/H6/efLJJ5sDBw486LVMmzatzWu5+eabTbvdblZWVpqmaZpFRUWmw+EwL7zwwjbPc88995hAm/feK6+8YgLm0qVLD8rVp08fEzCXL18eOFZSUmK63W7zlltu+c7XLSJyLDQiJSLSxaKior5z9b7W63PefPNN/H5/h57D7XZz5ZVXHvX5l112GdHR0YHvv//975Oens7//ve/Dj3/0frf//6H3W4PjDC0uuWWWzBNk/fee6/N8WnTppGdnR34ftSoUcTExLBz584jPk9aWho//vGPA8ecTic33HADtbW1LFu27Jhfy+9///sjjkqFh4cHfu31eikvL2fAgAHExcWxbt26g86fM2dOm2mfEydOxDRN5syZEzhmt9uZMGFCm9+DV155hdjYWL73ve9RVlYW+Bo/fjxRUVEsXbr0mF5rRUUFS5Ys4Yc//CE1NTWBxy8vL2f69Ols376dffv2tbnPVVdd1ea1nHLKKfh8Pvbs2QPA4sWLaW5u5le/+lWb+x1qRcQjGTZsGKecckrg++TkZAYPHnzE94mIyLFQkRIR6WK1tbVtSsu3/ehHP2Ly5Mn8/Oc/JzU1lUsvvZSXX365XaWqV69e7VpUYuDAgW2+NwyDAQMGdPmqaHv27CEjI+Og34/WaVqtH7JbZWVlHfQY8fHxR7zuZ8+ePQwcOBCbre3/5g73PB3Rv39/fvrTn/L3v/+dwsLCQ57T0NDAXXfdFbgeLCkpieTkZCorK6mqqjro/G+/3tjYWAB69+590PFv/h5s376dqqoqUlJSSE5ObvNVW1tLSUnJMb3W3NxcTNPkzjvvPOjx7777boCDnuPbryU+Ph4gkLv1ZzBgwIA25yUkJATOPVodfZ+IiBwLh9UBRERC2d69e6mqqjrow+I3hYeHs3z5cpYuXcq7777LwoULeemllzjjjDP44IMPsNvtR3yeb458dJbDbRrs8/mOKlNnONzzmN9aaMEqd9xxB88//zwPPPAAF1544UG3X3/99Tz99NPcdNNNTJo0idjYWAzD4NJLLz1kUT7c6z3U8W/+Hvj9flJSUnjhhRcOef+jue7ru7Rm/fWvf8306dMPec633+PH82cX7O8TEQlNKlIiIl2odUGAw334bGWz2TjzzDM588wzeeSRR/jjH//IHXfcwdKlS5k2bdphS01Hbd++vc33pmmSm5vLqFGjAsfi4+OprKw86L579uyhf//+ge/bk61Pnz58+OGH1NTUtBmV2rJlS+D2ztCnTx++/PJL/H5/m1Gpzn6e7OxsZs+ezVNPPcXEiRMPuv3VV1/l8ssv5+GHHw4ca2xsPOTv67Hm+PDDD5k8eXKXlOrWn7fT6WTatGmd8pitP4Pc3Fz69esXOF5eXn7QSFJnv/9FRDqDpvaJiHSRJUuW8Ic//IF+/foxa9asw55XUVFx0LExY8YA4PF4AIiMjATotA/gzz33XJvrtl599VUKCwuZMWNG4Fh2djaff/45TU1NgWPvvPPOQcuktyfbzJkz8fl8/PWvf21z/C9/+QuGYbR5/mMxc+ZMioqKeOmllwLHmpubefzxx4mKiuK0007rlOeBlmulvF4vDz744EG32e32g0ZFHn/8cXw+X6c9P8APf/hDfD4ff/jDHw66rbm5+ZjfNykpKUydOpWnnnrqkNMYv72s+dE488wzcTgcPPnkk22Of/u9AZ3//hcR6QwakRIR6QTvvfceW7Zsobm5meLiYpYsWcKiRYvo06cPb7311nduwHvfffexfPlyzjnnHPr06UNJSQl/+9vfyMzMZMqUKUBLqYmLi2PBggVER0cTGRnJxIkT2/xLfnskJCQwZcoUrrzySoqLi5k/fz4DBgzgF7/4ReCcn//857z66qucffbZ/PCHP2THjh38+9//brP4Q3uznXfeeZx++unccccd7N69m9GjR/PBBx/w5ptvctNNNx302B111VVX8dRTT3HFFVewdu1a+vbty6uvvsqnn37K/Pnzv/OatfZqHZX65h5Vrc4991yef/55YmNjGTZsGCtWrODDDz8kMTGx054f4LTTTuPqq69m3rx5rF+/nrPOOgun08n27dt55ZVXePTRR/n+979/xMd55JFHiIiIaHPMZrPxu9/9jieeeIIpU6YwcuRIfvGLX9C/f3+Ki4tZsWIFe/fuZcOGDe3KnJqayo033hhY7v/ss89mw4YNvPfeeyQlJbUZhRozZgx2u50HHniAqqoq3G43Z5xxBikpKe16ThGRzqQiJSLSCe666y4AXC4XCQkJjBw5kvnz53PllVce8UP7+eefz+7du/nXv/5FWVkZSUlJnHbaadx7772BxQacTifPPvsst99+O9dccw3Nzc08/fTTHS5Sv/vd7/jyyy+ZN28eNTU1nHnmmfztb39r8yF6+vTpPPzwwzzyyCPcdNNNTJgwgXfeeYdbbrmlzWO1J5vNZuOtt97irrvu4qWXXuLpp5+mb9++PPTQQwc97rEIDw/no48+4re//S3PPvss1dXVDB48mKeffvqQmwwfq9///vf8+9//Pmik6dFHH8Vut/PCCy/Q2NjI5MmT+fDDD4841bMjFixYwPjx43nqqaf43e9+h8PhoG/fvsyePZvJkycf1WPMmzfvoGN2u53f/e53DBs2jDVr1nDvvffyzDPPUF5eTkpKCmPHjg28/9vrgQceICIign/84x98+OGHTJo0iQ8++IApU6a0+ceHtLQ0FixYwLx585gzZw4+n4+lS5eqSImIpQxTV2KKiIhIkKisrCQ+Pp7777+fO+64w+o4IiKHpWukRERExBINDQ0HHZs/fz4AU6dOPb5hRETaSVP7RERExBIvvfQSzzzzDDNnziQqKopPPvmE//znP5x11llHPR1RRMQqKlIiIiJiiVGjRuFwOHjwwQeprq4OLEBx//33Wx1NROSIdI2UiIiIiIhIO+kaKRERERERkXZSkRIREREREWknXSMF+P1+CgoKiI6ObrMBoIiIiIiI9CymaVJTU0NGRgY22+HHnVSkgIKCAnr37m11DBERERERCRL5+flkZmYe9nYVKSA6Ohpo+c2KiYmxOI2IiIiIiFilurqa3r17BzrC4ahIQWA6X0xMjIqUiIiIiIgc8ZIfLTYhIiIiIiLSTipSIiIiIiIi7aQiJSIiIiIi0k4qUiIiIiIiIu2kIiUiIiIiItJOKlIiIiIiIiLtpCIlIiIiIiLSTipSIiIiIiIi7aQiJSIiIiIi0k4qUiIiIiIiIu2kIiUiIiIiItJOKlIiIiIiIiLtpCIlIiIiIiLSTipSIiIiIiIi7aQiJSIiIiIi0k4qUiIiIiIiIu2kIiUiIiIiItJOKlIiIiIiIiLt5LA6gIiElry8PMrKyqyOAUBSUhJZWVlWxxAREZEQpCIlIp0mLy+PIUOH0lBfb3UUAMIjItiSk6MyJSIiIp3O0iK1fPlyHnroIdauXUthYSGvv/46F154YZtzcnJyuO2221i2bBnNzc0MGzaM//u//wt8MGpsbOSWW27hv//9Lx6Ph+nTp/O3v/2N1NRUC16RSM9WVlZGQ309s257iNSsbEuzFOft4IUHbqWsrExFSkRERDqdpUWqrq6O0aNH87Of/YyLL774oNt37NjBlClTmDNnDvfeey8xMTFs2rSJsLCwwDk333wz7777Lq+88gqxsbFcd911XHzxxXz66afH86WIyDekZmWTOXC41TFEREREuoylRWrGjBnMmDHjsLffcccdzJw5kwcffDBwLDv763/lrqqq4p///CcvvvgiZ5xxBgBPP/00Q4cO5fPPP+ekk07quvAiIiIiItJjBe2qfX6/n3fffZdBgwYxffp0UlJSmDhxIm+88UbgnLVr1+L1epk2bVrg2JAhQ8jKymLFihWHfWyPx0N1dXWbLxERERERkaMVtEWqpKSE2tpa/vSnP3H22WfzwQcfcNFFF3HxxRezbNkyAIqKinC5XMTFxbW5b2pqKkVFRYd97Hnz5hEbGxv46t27d1e+FBERERERCTFBW6T8fj8AF1xwATfffDNjxozht7/9Leeeey4LFiw4pse+/fbbqaqqCnzl5+d3RmQREREREekhgnb586SkJBwOB8OGDWtzfOjQoXzyyScApKWl0dTURGVlZZtRqeLiYtLS0g772G63G7fb3SW5RUREREQk9AXtiJTL5eKEE05g69atbY5v27aNPn36ADB+/HicTieLFy8O3L5161by8vKYNGnScc0rIiIiIiI9h6UjUrW1teTm5ga+37VrF+vXrychIYGsrCxuvfVWfvSjH3Hqqady+umns3DhQt5++20++ugjAGJjY5kzZw5z584lISGBmJgYrr/+eiZNmqQV+0REREREpMtYWqTWrFnD6aefHvh+7ty5AFx++eU888wzXHTRRSxYsIB58+Zxww03MHjwYP7v//6PKVOmBO7zl7/8BZvNxiWXXNJmQ14JPXl5eZSVlVkdIyApKUkbvYqIiIj0UJYWqalTp2Ka5nee87Of/Yyf/exnh709LCyMJ554gieeeKKz40kQycvLY8jQoTTU11sdJSA8IoItOTkqUyIiIiI9UNAuNiHyTWVlZTTU1zPrtodIzco+8h26WHHeDl544FbKyspUpERERER6IBUp6VZSs7LJHDjc6hgiIiIi0sMF7ap9IiIiIiIiwUojUiIhIFgW4sjJybE6goiIiMhxoSIl0s0F40IctbW1VkcQERER6VIqUiLdXDAtxJGzahnvPfsojY2NluYQERER6WoqUiIhIhgW4ijO22Hp84uIiIgcL1psQkREREREpJ1UpERERERERNpJRUpERERERKSdVKRERERERETaSUVKRERERESknVSkRERERERE2klFSkREREREpJ1UpERERERERNpJRUpERERERKSdVKRERERERETaSUVKRERERESknVSkRERERERE2klFSkREREREpJ1UpERERERERNpJRUpERERERKSdVKRERERERETaSUVKRERERESknVSkRERERERE2klFSkREREREpJ1UpERERERERNpJRUpERERERKSdVKRERERERETaSUVKRERERESknVSkRERERERE2klFSkREREREpJ1UpERERERERNpJRUpERERERKSdVKRERERERETaSUVKRERERESknVSkRERERERE2klFSkREREREpJ1UpERERERERNpJRUpERERERKSdHFYHEJHuoanZj4mJgYFhgMNmYBiG1bFERERELKEiJSIH8ftN8vfXU1DVSEl1IyU1HuqbfG3OcTtspMeGkREXTq+4cNJjwyxKKyIiInL8qUiJSEB5rYecwhpyiqoPKk7f5mn2s7u8nt3l9QAkRLpIIgYMzRgWERGR0KciJSIUVjWwYmc5+RUNgWPhTjt9EyNIiQkjJdpNYpQL+4GpfH4T9tc3UVDZQEFVI3nl9VTUNVFBLzJ+/iTFzeGYpqmpfyIiIhKyLP2n4+XLl3PeeeeRkZGBYRi88cYbhz33mmuuwTAM5s+f3+Z4RUUFs2bNIiYmhri4OObMmUNtbW3XBhcJEaU1Ht7aUMDLa/aSX9GAzYD+SZGcOyqdOVP6cdbwNMb0jiMjLhy3w47DbsNht+Fy2EiNCWNsVjznjEznZ5P7Mql/Ig6acSb0YktTPAs3FeFp/u5RLREREZHuytIiVVdXx+jRo3niiSe+87zXX3+dzz//nIyMjINumzVrFps2bWLRokW88847LF++nKuuuqqrIouEhEavjyVbSnhxVR67yuowDBiWHsPlk/py3ugMspOjsNuOfjTJ7bRzYr8ETiCXyuXPY2CyrbiW/6zKp6SmsQtfiYiIiIg1LJ3aN2PGDGbMmPGd5+zbt4/rr7+e999/n3POOafNbTk5OSxcuJDVq1czYcIEAB5//HFmzpzJn//850MWLwCPx4PH4wl8X11dfYyvRKR7ME2TrcU1LN9WRoO3ZbRoUGoUJ/VPJD7CdcyPb8ekasVLTP3e2eSSTlWDl5dX72XasBSGpMUc8+OLiIiIBIugvirc7/fz05/+lFtvvZXhw4cfdPuKFSuIi4sLlCiAadOmYbPZWLly5WEfd968ecTGxga+evfu3SX5RYJJnaeZNzcU8P6mYhq8PuIjnFwyrhczRqR3Son6pli7l1kTs+iXFInPNPlgUzFbi2o69TlERERErBTUReqBBx7A4XBwww03HPL2oqIiUlJS2hxzOBwkJCRQVFR02Me9/fbbqaqqCnzl5+d3am6RYJNbUsu/V+5hT3k9dpvBpP6J/GRiFpnxEV32nGFOO+eNSmd4Rgwm8P6mIrYVq0yJiIhIaAjaVfvWrl3Lo48+yrp16zp95S+3243b7e7UxxQJRk3NfpZvL2VTQcv01aQoF2cPTyMx6vi8/w3D4MwhKZgmbC6sZuGmIgwDBqZEH5fnFxEREekqQTsi9fHHH1NSUkJWVhYOhwOHw8GePXu45ZZb6Nu3LwBpaWmUlJS0uV9zczMVFRWkpaVZkFokeBRWNfDiqrxAiRrfJ54fndD7uJWoVoZhcObQFIamRWOasHBjEQWVDUe+o4iIiEgQC9oRqZ/+9KdMmzatzbHp06fz05/+lCuvvBKASZMmUVlZydq1axk/fjwAS5Yswe/3M3HixOOeWSQY+P0mq3ZXsGp3BaYJUW4H04enduk0viOxGQbThqXi9ZvkltTyv42F/PiELCLdQftXkIiIiMh3svRTTG1tLbm5uYHvd+3axfr160lISCArK4vExMQ25zudTtLS0hg8eDAAQ4cO5eyzz+YXv/gFCxYswOv1ct1113HppZcedsU+kVC2v76JDzYVU1TdsuT4oNQozhicgttptzhZS5n63tDUlo1765p4b2MRF4/tha0dy6yLiIiIBAtLp/atWbOGsWPHMnbsWADmzp3L2LFjueuuu476MV544QWGDBnCmWeeycyZM5kyZQp///vfuyqySNDaVWvjxZV5FFU34nLYmD48lRkj0oOiRLVyOWycMzIdl93GvsoGPt1RZnUkERERkQ6xdERq6tSpmKZ51Ofv3r37oGMJCQm8+OKLnZhKpHupbPSRfPHvWVfhAEwy48L53vBUYsKcVkc7pIRIF9OGpfC/r4pYl1dJemw4A1KirI4lIiIi0i5Bu9iEiBzZ4pxibn6/jIiBJ2HDZMqAJC4e1ytoS1SrgSnRjMuKA2DJlhLqm5qtDSQiIiLSTipSIt1QfVMzv3v9K+Y8u4Yqj5+m0j2cntbM+D7xnb5dQFc5OTuJpCgXDV4fy7dpip+IiIh0LypSIt3Mp7llzHj0Y15cmQfAeYMiKXz2JuJcRz9NNhjYbQbThqZiAFuLa9hZVmt1JBEREZGjpiIl0k2U13qY+9J6Zv1/K9lTXk96bBgv/HwiV46JAZ/X6ngdkhoTxtgDU/yWbinF0+yzNpCIiIjIUVKREglyzT4///58D9MeWcZrX+zDMODySX344OZTmTwgyep4x+yk/onEhjup9TTzaW651XFEREREjop2wxQJUqZpsnRrCX/83xZyS1qmvQ1Ji2bexSMZmxVvcbrO47TbOHNICq99sY+v9lUxND2a9Nhwq2OJiIiIfCcVKZEgY5omK3aW8/jiXFbsbBmhiY9wctO0QfxkYhZOe+gNJPdOiGBoejQ5hTV8vL2MH4zP7DaLZoiIiEjPpCIlEiRaR6D+uiSXdXmVALjsNq6Y3JdrTx9AbHhwL2l+rE7un8T24loKqxrJLallYGq01ZFEREREDktFSsRiFXVN/N/avby4Ko9dZXUAuBw2fjghk2tOyyYzPsLihMdHVJiDcX3iWbWrgk93lNM/OQq7TaNSIiIiEpxUpEQs0Oj1sWxbKW9vKOCDTcU0+fwARLrs/GRiFr84pT8pMWEWpzz+xmfFs3FfFVUNXjbsrWRcCF0LJiIiIqFFRUrkOKmoa+LT3DIW5xTzYU4JtZ7mwG0jesXwkxP7cP6YDKLcPfePpcthY1L/RBZvKWHVrgqGpccQ5rRbHUtERETkID33E5tIF2tq9rMubz8fby/l4+1lfLWvCvMbe+amx4Yxc2Q6F4zJYFRmnGU5g82wjBjW51dSXtfEqt0VnDow2epIIiIiIgdRkRLpJKZpsqusjo+3l/Hx9lJW7CinrqntBrND0qI5ZWASZ49IZ2zvOGy6BuggNsNgysAk3lxfwJd7qxifFU9kDx6lExERkeCkTycix8DrM1m2rZT3NxWxbGsp+yob2tyeGOliysAkThmYzCkDk0jtgdc9dUSfhAjSY8MorGpkXd5+TtGolIiIiAQZFSmRdjJNk+IGg8Rz5vKzt4qp8xYFbnPZbUzoGx8oTsPSYzTq1AGGYXBiv4SvR6X6xBPh0l9XIiIiEjz0yUTkKDV6fWwurOarvVVUNjiJGnEGdV6TpCg304enMm1oKhP7J+gDfyfpkxBBaoyb4moP6/IqmTIgyepIIiIiIgH6xCdyBK2LRqzL24/X17JahMMwqVjzLo/9+nJ+/L2J2u+oC7SOSr29oZAv91YyPiuecJdW8BMREZHgYLM6gEiw8psmG/dV8eyK3azcVYHXZ5IY6eKMwSmc08vL/g8XMCzZpRLVhfolRpIc7cbrM/kif7/VcUREREQCNCIlcgiV9U28t7GIkhoPALHhTiZnJzIgJQrDMNi7fa/FCXsGwzCY2C+Bd74sZEN+FeOy4rWvlIiIiAQFFSmRb9lWXMPinBKafH7cDhsn9ktgVGYsDpsGcK3QPymSxCgX5bVNfLWvihP6JlgdSURERERT+0RaNfv8LN5SzHsbi2jy+cmIDWPWxCzGZcWrRFnIMAzGZ8UDsCG/Ep/fPMI9RERERLqePh2KAF6fn7e/LGTjvmoATugbzyXjMokOc1qcTAAGpUYT6bJT1+RjW3GN1XFEREREVKREmpr9vLm+gLyKepx2gwvGZHBydpL2fwoidpvB6N5xAHyRV4lpalRKRERErKUiJT2ap9nHG+v3sa+yAZfdxoVjetE3MdLqWHIII3vF4rAZlNZ62FfZYHUcERER6eFUpKTHavb5eeOLAgqrGnE7bFw0rhcZceFWx5LDCHPaGZoeA8C6vEprw4iIiEiPpyIlPZJpmizeUkJRdUuJunhcL9JiwqyOJUcwNisOgF1ldeyvb7I2jIiIiPRoKlLSI32RX8mWohoMA84ZmU5KtEpUdxAf4aJfUsvUyy80KiUiIiIWUpGSHievop5PtpcBcMqAJHonRFicSNpj3IFRqZzCajzNPmvDiIiISI+lIiU9SlWDl/e+KsQEhqZHM+bASnDSffSKCych0kWz32RLoZZCFxEREWuoSEmPYZomizYX09jsJzXGzRmDUzAMLXHe3RiGwchesQB8ua9KS6GLiIiIJVSkpMf4al8V+yobcNoNZo5Ix2HX27+7GpoejcNmUFHXREFlo9VxREREpAfSJ0npEWoavXyaWw7AydlJxIQ7LU4kx8LtsDM4LRqAL/dVWhtGREREeiQVKQl5pmmyZEsJTT4/6bFhjMqMtTqSdILW6X25JbXUNzVbnEZERER6GhUpCXlbi2vYXV6P3TA4c0gKNl0XFRJSY8JIjXHjN2FzQbXVcURERKSHUZGSkObx+li+rWWp8xP7JZAY5bY4kXSm1lGpr7TohIiIiBxnKlIS0tbs2U+D10d8hJPxfeKtjiOdbFBqNG6HjerGZvaU11sdR0RERHoQFSkJWbWeZtbnVwIweUASdpum9IUap93G0LQYADYVanqfiIiIHD8qUhKyVu2qoNlvkh4bRv+kSKvjSBcZltFSpHaW1tLQ5LM4jYiIiPQUKlISkvbXN7GxoAqAydlJ2ng3hCVHu0mJbll0YmtxjdVxREREpIdQkZKQtGJHOaYJfRMj6BUfbnUc6WLD0g9M7yvQohMiIiJyfKhIScgprm5ke0kt0LL5roS+wWnR2G0GZbVNlNZ4rI4jIiIiPYCKlIScVbsqABiSFk1ytJY77wnCnHayk1uug9OiEyIiInI8qEhJSNlf18TOsjoATuybYHEaOZ5ap/dtLaqh2ee3OI2IiIiEOkuL1PLlyznvvPPIyMjAMAzeeOONwG1er5fbbruNkSNHEhkZSUZGBpdddhkFBQVtHqOiooJZs2YRExNDXFwcc+bMoba29ji/EgkW6/L3A9AvKZL4SJfFaeR46p0QQZTbgafZHyjTIiIiIl3F0iJVV1fH6NGjeeKJJw66rb6+nnXr1nHnnXeybt06XnvtNbZu3cr555/f5rxZs2axadMmFi1axDvvvMPy5cu56qqrjtdLkCBS39RMTmHLqm3js7T5bk9jM4xvLDqh6X0iIiLStRxWPvmMGTOYMWPGIW+LjY1l0aJFbY799a9/5cQTTyQvL4+srCxycnJYuHAhq1evZsKECQA8/vjjzJw5kz//+c9kZGR0+WuQ4PHl3ip8fpOUaDcZcWFWxxELDMuIYdXuCvIq6hmht4CIiIh0oW51jVRVVRWGYRAXFwfAihUriIuLC5QogGnTpmGz2Vi5cuVhH8fj8VBdXd3mS7q3Zp+fL/e27Bs1vk+89o3qoWLDnaTHtjSo/Ppu9debiIiIdDPd5pNGY2Mjt912Gz/+8Y+JiWmZvlNUVERKSkqb8xwOBwkJCRQVFR32sebNm0dsbGzgq3fv3l2aXbpeTlENDV4f0WEOBiRHWR1HLDQ0reXvh7y6bvPXm4iIiHRD3eKThtfr5Yc//CGmafLkk08e8+PdfvvtVFVVBb7y8/M7IaVYxTRNvshrWWRibO84bDaNRvVkA1OjsBsGVV4bzuS+VscRERGREGXpNVJHo7VE7dmzhyVLlgRGowDS0tIoKSlpc35zczMVFRWkpaUd9jHdbjdut/YXChV5FfXsr/fistsYnhFrdRyxWJjTTt+kCHaU1hE5/HSr44iIiEiICuoRqdYStX37dj788EMSExPb3D5p0iQqKytZu3Zt4NiSJUvw+/1MnDjxeMcVi2w+sELbkLRoXI6gfkvLcTLkwPS+yGGn4fObFqcRERGRUGTpiFRtbS25ubmB73ft2sX69etJSEggPT2d73//+6xbt4533nkHn88XuO4pISEBl8vF0KFDOfvss/nFL37BggUL8Hq9XHfddVx66aVasa+HaPD62FHasmfQ8F4xRzhbeoq+SRE4bSZEJ7GptIkTrA4kIiIiIcfSf75fs2YNY8eOZezYsQDMnTuXsWPHctddd7Fv3z7eeust9u7dy5gxY0hPTw98ffbZZ4HHeOGFFxgyZAhnnnkmM2fOZMqUKfz973+36iXJcbalsBqfaZIc7SYlWutdSwuHzUZmhB+AZXsaLE4jIiIiocjSEampU6dimoefdvNdt7VKSEjgxRdf7MxY0k2YphnYeHV4hkajpK2sCD+7au2s2NtIQ5OPcJfd6kgiIiISQnRBiXRbxdUeyuuasNsMhqRGWx1Hgkyi26S5sojGZpMPNh9+OwQRERGRjlCRkm5rU0HLBrwDU6JwOzXaIG0ZBtRt/giAtzcUWhtGREREQo6KlHRLXp+fbcW1gKb1yeHV5SwHYNm2EqrqvRanERERkVCiIiXd0vbiWpp8fmLDnfSKC7c6jgQpb1kefWIdeH0m72/S9D4RERHpPCpS0i3lFH69yIRhGBankWA2uXdL0X5rQ4HFSURERCSUqEhJt1PraWZvZcuS1oO1yIQcwZSslmXxP9tRRmmNx+I0IiIiEipUpKTbyS1puTYqPTaMmHCnxWkk2KVFORjdOw6/Ce9t1KITIiIi0jlUpKTb2VZcA8AgjUbJUTpvVDoAb63X9D4RERHpHCpS0q3UN0NhVSMAA1KiLE4j3cW5ozIwDFizZz/7DkwLFRERETkWKlLSreytb3nLZsaFE+V2WJxGuou02DBO7JsAwLtfalRKREREjp2KlHQr+QeK1MBUjUZJ+5w3OgPQ6n0iIiLSOVSkpNtwxKVT2WTDMDStT9pv5sh07DaDjfuq2VNeZ3UcERER6eZUpKTbiBh6CgC94yOIcGlan7RPQqSLk7MTAfjfV9qcV0RERI6NipR0G5FDWorUIE3rkw6aMaJl9T4tgy4iIiLHSkVKuoW91c24UvphYJKdrCIlHXPW8FRsBny5t4r8inqr44iIiEg3piIl3cKqfS1LnqeEmYQ57Ranke4qKcrNxH4t0/s0KiUiIiLHQkVKuoXVBS1FKiPcb3ES6e5mHticV9dJiYiIyLFQkZKgV1rjYVu5F4B0FSk5RtOHp2IYsD6/UpvzioiISIepSEnQW7KlGBPwFG4jXIv1yTFKiQ7jhAOb8y7cqFEpERER6RgVKQl6izYXA9CwfaXFSSRUzByRBsB7X+k6KREREekYFSkJag1NPj7eXgZAfa6KlHSOGSNbrpNas2c/RVWNFqcRERGR7khFSoLaJ7lleJr9JEfY8ZbutjqOhIjUmDAm9IkHYKFW7xMREZEOUJGSoLZoc8s1LCf2clucREJN66jU/3SdlIiIiHSAipQELZ/fZHFOCQAnZIRZnEZCzYwD10mt3l1BSY2m94mIiEj7qEhJ0FqfX0l5XRPRYQ6GJbusjiMhJiMunLFZcZgmvK9RKREREWknFSkJWq2r9Z0+OAWHzbA4jYSimSO0Oa+IiIh0jIqUBK0lW1qK1JlDUyxOIqHq7APT+1buKqes1mNxGhEREelOVKQkKBVWNbCtuBabAacOTLY6joSo3gkRjMqMxW/CB5uKrY4jIiIi3YiKlASl5dtKARiVGUd8pK6Pkq4z48D0vve0DLqIiIi0g4qUBKXl21o24T1tkEajpGvNHNkyve+zHeVU1DVZnEZERES6CxUpCTrNPj+f5LYUqVNVpKSL9UmMZHhGDD6/Gdi3TERERORIVKQk6GzYW0VVg5eYMAejM2OtjiM9wMyRWr1PRERE2kdFSoJO6/VRpwxMxmHXW1S6XuvmvJ/mllFV77U4jYiIiHQHDqsDiHzbsgNF6tRBSRYnkVCQk5NzVOdlxTrIq2rmnwtXMrVvRJdkSUpKIisrq0seW0RERI4vFSkJKpX1TXy5txLQ9VFybKorWgr57Nmzj+r82CmziJv8Y+Y9/z9ueWNel2QKj4hgS06OypSIiEgIUJGSoPJJbhl+EwalRpEeG251HOnGGmqrATjn6jsYPGr8Ec+vbDJYXAQxQ05m1uOv0dmzSovzdvDCA7dSVlamIiUiIhICVKQkqCzbemBanzbhlU6SmNGHzIHDj3heL9NkVeVuahqbaU7oQ5/kqOOQTkRERLorXckvQcM0TZZvbylSpw1WkZLjyzAMsg+Upx2ltRanERERkWCnIiVBY2txDcXVHsKcNk7om2B1HOmBBhwoUrtK6/D7TYvTiIiISDBTkZKg8WluOQAn9kskzGm3OI30ROlxYYQ77TQ2+9lX2WB1HBEREQliKlISNFbsKANgcnaixUmkp7IZBv2SIgFN7xMREZHvpiIlQaHZ52flzgoAJg/Q/lFineyU1iJVh2lqep+IiIgcmoqUBIWv9lVR42kmNtzJ0PQYq+NID5YVH4HTblDraaa4xmN1HBEREQlSlhap5cuXc95555GRkYFhGLzxxhttbjdNk7vuuov09HTCw8OZNm0a27dvb3NORUUFs2bNIiYmhri4OObMmUNtrabkdDef7Wi5Puqk/gnYbYbFaaQnc9ht9E08MCpVor9LRERE5NAsLVJ1dXWMHj2aJ5544pC3P/jggzz22GMsWLCAlStXEhkZyfTp02lsbAycM2vWLDZt2sSiRYt45513WL58OVddddXxegnSSVYcKFInZ2tan1hPy6CLiIjIkVi6Ie+MGTOYMWPGIW8zTZP58+fz+9//ngsuuACA5557jtTUVN544w0uvfRScnJyWLhwIatXr2bChAkAPP7448ycOZM///nPZGRkHLfXIh3nafaxenfL9VEna6EJCQJ9kyKwGbC/3ktFXRMJkS6rI4mIiEiQsbRIfZddu3ZRVFTEtGnTAsdiY2OZOHEiK1as4NJLL2XFihXExcUFShTAtGnTsNlsrFy5kosuuuiQj+3xePB4vr72obq6uuteSDeXl5dHWVlZlz7HphIPnmY/cWE2qvduY92+g6f25eTkdGkGkW9yO+z0TohgT3k9O0prSYjUvmYiIiLSVtAWqaKiIgBSU1PbHE9NTQ3cVlRUREpKSpvbHQ4HCQkJgXMOZd68edx7772dnDj05OXlMWToUBrq67v0eWKn/IS4yT9h37olTLj3z995rq5/k+MlOzkqUKS0QbSIiIh8W9AWqa50++23M3fu3MD31dXV9O7d28JEwamsrIyG+npm3fYQqVnZXfY8HxU7KPfAKVOm0O/skw95Ts6qZbz37KNtro8T6Ur9kyJZAhRXe6htbCYqrEf+dSkiIiKHEbSfDNLS0gAoLi4mPT09cLy4uJgxY8YEzikpKWlzv+bmZioqKgL3PxS3243b7e780CEqNSubzIHDu+SxvT4/+/N3ADBqyABiw52HPK84b0eXPL/I4US6HaTHhlFY1ciO0lpG946zOpKIiIgEkaDdR6pfv36kpaWxePHiwLHq6mpWrlzJpEmTAJg0aRKVlZWsXbs2cM6SJUvw+/1MnDjxuGeW9iuobMBvQnSYgxj9i78EGa3eJyIiIodj6SfX2tpacnNzA9/v2rWL9evXk5CQQFZWFjfddBP3338/AwcOpF+/ftx5551kZGRw4YUXAjB06FDOPvtsfvGLX7BgwQK8Xi/XXXcdl156qVbs6yby9zcA0Ds+AsPQ/lESXLKTI/kkt4y9lQ00en2EOe1WRxIREZEgYWmRWrNmDaeffnrg+9brli6//HKeeeYZfvOb31BXV8dVV11FZWUlU6ZMYeHChYSFhQXu88ILL3Dddddx5plnYrPZuOSSS3jssceO+2uRjsmvaFnIondCuMVJRA4WF+EiMcpFeW0Tu8rqGJoeY3UkERERCRKWFqmpU6dimuZhbzcMg/vuu4/77rvvsOckJCTw4osvdkU86WKeZh+lNS3L0PeKU5GS4JSdHEV5bQU7SmtVpERERCQgaK+RktBXWNWICcSGO4kOO/QiEyJWG3DgOqk95fV4fX6L04iIiEiw6FCR2rlzZ2fnkB5o34HrozQaJcEsKcpFTJiDZr9JXkXX7qkmIiIi3UeHitSAAQM4/fTT+fe//619faTD9lWqSEnwMwyD/lq9T0RERL6lQ0Vq3bp1jBo1irlz55KWlsbVV1/NqlWrOjubhDCvz09xdUsJ7xWvIiXBrXV6367SOvz+w1/XKSIiIj1Hh4rUmDFjePTRRykoKOBf//oXhYWFTJkyhREjRvDII49QWlra2TklxBRVNeI3Icqt/aMk+KXHhhHutNPY7KegqsHqOCIiIhIEjmmxCYfDwcUXX8wrr7zCAw88QG5uLr/+9a/p3bs3l112GYWFhZ2VU0JM67S+jLgw7R8lQc9mM+iXFAnAjtI6i9OIiIhIMDimIrVmzRp+9atfkZ6eziOPPMKvf/1rduzYwaJFiygoKOCCCy7orJwSYlqLVGZchMVJRI5OdnJrkar9zm0bREREpGfo0JyqRx55hKeffpqtW7cyc+ZMnnvuOWbOnInN1tLL+vXrxzPPPEPfvn07M6uECJ/fpLBK10dJ95KVEIHDZlDT2ExprYeU6LAj30lERERCVoeK1JNPPsnPfvYzrrjiCtLT0w95TkpKCv/85z+PKZyEpuLqRnx+k3CnnfgI7R8l3YPDbqNPYgQ7SuvYUVqnIiUiItLDdahIbd++/YjnuFwuLr/88o48vIQ4XR8l3VV2chQ7SuvYWVrLpP6JVscRERERC3XoGqmnn36aV1555aDjr7zyCs8+++wxh5LQFrg+Kl7XR0n30i8pEsOAstomqhq8VscRERERC3WoSM2bN4+kpKSDjqekpPDHP/7xmENJ6PL7TQorD1wfpY14pZsJc9oD71ttzisiItKzdahI5eXl0a9fv4OO9+nTh7y8vGMOJaGrtNZDk8+Py2EjMcpldRyRdss+sDmvipSIiEjP1qEilZKSwpdffnnQ8Q0bNpCYqOsG5PAKWq+Pig3DpuujpBvqf2AZ9MLKRuqbmi1OIyIiIlbpUJH68Y9/zA033MDSpUvx+Xz4fD6WLFnCjTfeyKWXXtrZGSWEFByY1pehaX3STcWEOUmJdmMCu8q0Oa+IiEhP1aFV+/7whz+we/duzjzzTByOlofw+/1cdtllukZKDss0TQqqWkekVKSk++qfHElJjYcdpXUMz4i1Oo6IiIhYoENFyuVy8dJLL/GHP/yBDRs2EB4ezsiRI+nTp09n55MQUtXgpb7Jh82A1Bi31XFEOiw7OYrPd1aQV1FPU3PLNX8iIiLSs3SoSLUaNGgQgwYN6qwsEuIKq1qm9aXGhOGwh8YHz5ycHKsjBEWGniYx0kVsuJOqBi95FfUMSImyOpKIiIgcZx0qUj6fj2eeeYbFixdTUlKC3+9vc/uSJUs6JZyEltaFJtJjwyxOcuyqK0oBmD17tsVJvlZbq1XkjhfDMMhOjmRdXiU7SmtVpERERHqgDhWpG2+8kWeeeYZzzjmHESNGYGj1NTkKBVWhs9BEQ201AOdcfQeDR423NEvOqmW89+yjNDY2Wpqjp+mfHMW6vEp2ldXh85vYbfp7UEREpCfpUJH673//y8svv8zMmTM7O4+EqEavj4q6JiA0RqRaJWb0IXPgcEszFOftsPT5e6r02DDCnXYavD72VTaQlRBhdSQRERE5jjp0oYrL5WLAgAGdnUVCWOv1UXERTiJcx3RpnkhQsBlGYE+pndqcV0REpMfpUJG65ZZbePTRRzFNs7PzSIj6eiPe7j+tT6RVa5HaUVqnvw9FRER6mA4NDXzyyScsXbqU9957j+HDh+N0Otvc/tprr3VKOAkdrftHpceFzrQ+kaz4CJx2g1pPMyU1HlJj9P4WERHpKTpUpOLi4rjooos6O4uEqGa/n+JqDwC9NCIlIcRht9EnMZLcklp2ltapSImIiPQgHSpSTz/9dGfnkBBWWuPB5zcJd9qJi3Ae+Q4i3Uh2ckuR2lFay6TsRKvjiIiIyHHS4V1Rm5ub+fDDD3nqqaeoqakBoKCgQHvZyEEKKlsWmkiPDdNS+RJy+iZGYjOgvK6J/fVNVscRERGR46RDI1J79uzh7LPPJi8vD4/Hw/e+9z2io6N54IEH8Hg8LFiwoLNzSjdWqOujJISFOe30ig8nv6KBnaV1jO/jsjqSiIiIHAcdGpG68cYbmTBhAvv37yc8/OtrXi666CIWL17caeGk+zNNMzAipRX7JFRlJ0UBsEPLoIuIiPQYHRqR+vjjj/nss89wudr+y2vfvn3Zt29fpwST0FDV4KXB68NmQEq02+o4Il2if3IkH20rpbCqkTpPM5Fu7ZUmIiIS6jo0IuX3+/H5fAcd37t3L9HR0cccSkJHUXXLaFRKdBgOe4cvyRMJatFhTlJjWv6hYFdZncVpRERE5Hjo0Cfbs846i/nz5we+NwyD2tpa7r77bmbOnNlZ2SQEFFa1FKm0WF0fJaGtf7Km94mIiPQkHSpSDz/8MJ9++inDhg2jsbGRn/zkJ4FpfQ888EBnZ5RurKjq6xX7REJZdlIkAPkVDTQ1+y1OIyIiIl2tQxP5MzMz2bBhA//973/58ssvqa2tZc6cOcyaNavN4hPSs3l9fspqWzbiTdNGpRLiEiJdxIU7qWzwsqe8joGpmuYsIiISyjp8RbTD4WD27NmdmUVCTEm1B78JkS470WG6+F5Cm2EYZCdHsTZvPztKVaRERERCXYc+3T733HPfeftll13WoTASWloXmkjTRrzSQ/RPjmRt3n52ldfh85vYbXrfi4iIhKoOFakbb7yxzfder5f6+npcLhcREREqUgJ8YyNe7R8lPUR6bBgRLjv1TT727q+nT2Kk1ZFERESki3RosYn9+/e3+aqtrWXr1q1MmTKF//znP52dUboh0zS/XrFP10dJD2EYBv0PLDqxo1TLoIuIiISyTtvYZ+DAgfzpT386aLRKeqaaxmbqmw5sxBujjXil58g+sAz6zrJaTNO0OI2IiIh0lU7dIdXhcFBQUNCZDyndVOv1UUlRbpzaiFd6kMyEcJx2gzqPj+Jqj9VxREREpIt06Bqpt956q833pmlSWFjIX//6VyZPntwpwaR700a80lM5bDb6JkayvaSWHaW1+jMgIiISojpUpC688MI23xuGQXJyMmeccQYPP/xwZ+SSbk4b8UpPlp0cxfaSWnaW1jF5QJLVcURERKQLdKhI+f3+zs4hIaTZ76e0RhvxSs/VNykCmwEV9U3sr2siPtJldSQRERHpZLp4RTpdaY0Hn2kS7rQTG+60Oo7Iced22OkdHwHAjrJai9OIiIhIV+jQiNTcuXOP+txHHnmkI08BgM/n45577uHf//43RUVFZGRkcMUVV/D73/8+sMGraZrcfffd/OMf/6CyspLJkyfz5JNPMnDgwA4/rxybb14fpY14pafqnxzJnop6dpTUMaFPgtVxREREpJN1qEh98cUXfPHFF3i9XgYPHgzAtm3bsNvtjBs3LnDesX6IfuCBB3jyySd59tlnGT58OGvWrOHKK68kNjaWG264AYAHH3yQxx57jGeffZZ+/fpx5513Mn36dDZv3kxYmKaVWaFIC02I0D85iqVbSymqbqTO02x1HBEREelkHSpS5513HtHR0Tz77LPEx8cDLZv0XnnllZxyyinccsstnRLus88+44ILLuCcc84BoG/fvvznP/9h1apVQMto1Pz58/n973/PBRdcAMBzzz1Hamoqb7zxBpdeeukhH9fj8eDxfL0scXV1dafklRatI1Lpuj5KerAot4O0mDCKqhvZUVqLxqRERERCS4eukXr44YeZN29eoEQBxMfHc//993fqqn0nn3wyixcvZtu2bQBs2LCBTz75hBkzZgCwa9cuioqKmDZtWuA+sbGxTJw4kRUrVhz2cefNm0dsbGzgq3fv3p2WuaerbWym1tOMAaSqSEkPl50SCUBuia6TEhERCTUdKlLV1dWUlpYedLy0tJSamppjDtXqt7/9LZdeeilDhgzB6XQyduxYbrrpJmbNmgVAUVERAKmpqW3ul5qaGrjtUG6//XaqqqoCX/n5+Z2WuacrrG4AIDHKhcuhtUykZxuQHAXA3soGPD6Lw4iIiEin6tDUvosuuogrr7yShx9+mBNPPBGAlStXcuutt3LxxRd3WriXX36ZF154gRdffJHhw4ezfv16brrpJjIyMrj88ss7/Lhutxu3291pOeVruj5K5GtxES6So9yU1noobNA/LIiIiISSDhWpBQsW8Otf/5qf/OQneL3elgdyOJgzZw4PPfRQp4W79dZbA6NSACNHjmTPnj3MmzePyy+/nLS0NACKi4tJT08P3K+4uJgxY8Z0Wg45eoHro2LDLU4iEhwGpERRWuthb72KlIiISCjp0P/ZIyIi+Nvf/kZ5eXlgBb+Kigr+9re/ERkZ2Wnh6uvrsdnaRrTb7YENgfv160daWhqLFy8O3F5dXc3KlSuZNGlSp+WQo+Pzm5Qc2IhXC02ItBiQ0jK9r6TRwHB33t+PIiIiYq0OjUi1KiwspLCwkFNPPZXw8HBM0+zUfYPOO+88/t//+39kZWUxfPhwvvjiCx555BF+9rOfAS3Lq990003cf//9DBw4MLD8eUZGBhdeeGGn5ZCjU1brwec3cTtsxEVoI14RgIRIFwmRLirqmojIPsHqOCIiItJJOlSkysvL+eEPf8jSpUsxDIPt27fTv39/5syZQ3x8fKet3Pf4449z55138qtf/YqSkhIyMjK4+uqrueuuuwLn/OY3v6Guro6rrrqKyspKpkyZwsKFC7WHlAW0Ea/IoQ1IjmJVXQURgydbHUVEREQ6SYem9t188804nU7y8vKIiIgIHP/Rj37EwoULOy1cdHQ08+fPZ8+ePTQ0NLBjxw7uv/9+XC5X4BzDMLjvvvsoKiqisbGRDz/8kEGDBnVaBjl6Rdo/SuSQWqf3hfUbR4PXb3EaERER6QwdGpH64IMPeP/998nMzGxzfODAgezZs6dTgkn3U1jVsvS5VuwTaSspykWkw6QON+uKPGhcSkREpPvr0IhUXV1dm5GoVhUVFVpWvIeq8zRT3dgMqEiJfJthGPSKaBmJWrG30eI0IiIi0hk6VKROOeUUnnvuucD3hmHg9/t58MEHOf300zstnHQfxdUtHw4TI124HXaL04gEn17hLUVqXaGHRq925xUREenuOjS178EHH+TMM89kzZo1NDU18Zvf/IZNmzZRUVHBp59+2tkZpRso1Ea8It8p3mXSXFVCY2wKy7aVMn14mtWRRERE5Bh0aERqxIgRbNu2jSlTpnDBBRdQV1fHxRdfzBdffEF2dnZnZ5RuoEhFSuQ7GQbUb/sMgIUbiyxOIyIiIseq3SNSXq+Xs88+mwULFnDHHXd0RSbpZvx+k6JqrdgnciT1Wz8l5oQL+TCnGE+zT9NgRUREurF2j0g5nU6+/PLLrsgi3VR5XRPNfhOX3UZCpOvIdxDpoTz7thAfZqOmsZnPcsutjiMiIiLHoENT+2bPns0///nPzs4i3dQ3lz3XRrwi38XkpMyWUdv3NhZanEVERESORYcWm2hubuZf//oXH374IePHjycyMrLN7Y888kinhJPuIXB9lKb1iRzRSZlhvJdbz6LNxTT7/DjsHfr3LBEREbFYu4rUzp076du3Lxs3bmTcuHEAbNu2rc05GpHoeQpbr4/SQhMiRzQsyUVCpIuKuiZW7qpg8oAkqyOJiIhIB7SrSA0cOJDCwkKWLl0KwI9+9CMee+wxUlNTuyScBL8Gr4/Kei+gFftEjobdZnDWsFT+uzqf/31VqCIlIiLSTbVrTolpmm2+f++996irq+vUQNK9tE7ri49wEubUCmQiR2PGyHQA3t9UjM9vHuFsERERCUbHNDn/28VKeh7tHyXSfpP6JxIT5qCs1sOa3RVWxxEREZEOaFeRMgzjoGugdE1Uz1ZYfWDFPi00IXLUXA4b3xuWBsD/vtLqfSIiIt1Ru66RMk2TK664ArfbDUBjYyPXXHPNQav2vfbaa52XUIKW3zQprvIAkB4bbnEake7l3FHp/N+6vfxvYxF3nTccu03/KCUiItKdtKtIXX755W2+nz17dqeGke6loq6JJp8fp90gURvxirTL5AFJxIY7Ka3xsGpXBZOyE62OJCIiIu3QriL19NNPd1UO6YZar49KjQnDpn9NF2kXl8PG9OGpvLxmL+98WaAiJSIi0s1oJ0jpsEJtxCtyTM4dlQHAwo1FNPv8FqcRERGR9lCRkg4r0ka8Isfk5OxE4iOclNc1sWJnudVxREREpB1UpKRDPF4fFXVNgJY+F+koh93G2SNa9pR6Z4NW7xMREelOVKSkQ1pHo2LDnUS42nWpnYh8w3mjWorUwk1FeDW9T0REpNtQkZIO0Ua8Ip1jYv9EkqJcVDV4+SS3zOo4IiIicpRUpKRDCluvj9JCEyLHxG4zmKHpfSIiIt2OipS0m2maGpES6UTnHpje98GmIhq9PovTiIiIyNFQkZJ221/vxdPsx2EzSIpyWx1HpNs7oW8CaTFh1Hia+WhrqdVxRERE5CioSEm7tY5GpcS4sWsjXpFjZrMZnD+mZU+ptzbssziNiIiIHA0VKWm3wuoGANJjwi1OIhI6zh/dUqQ+zCmhptFrcRoRERE5EhUpaTddHyXS+YZnxJCdHElTs5/3NxVbHUdERESOQEVK2qWp2U95rTbiFelshmFwwZheALy5XtP7REREgp2KlLRLcXUjJhAd5iDKrY14RTpT6/S+T3PLKK3xWJxGREREvouKlLSL9o8S6Tp9kyIZ3TsOvwnvfllgdRwRERH5DipS0i66Pkqka11wYFTqzQ0qUiIiIsFMRUqO2jc34k2P1Yp9Il3h3FHp2Az4Iq+SvPJ6q+OIiIjIYahIyVGravDS4PVhNwySol1WxxEJSSkxYZycnQRo0QkREZFgpiIlR+2bG/E6bHrriHSVC8e2rN73+hf7ME3T4jQiIiJyKPo0LEetdaGJNC00IdKlzh6RRrjTzs6yOtbnV1odR0RERA5BRUqOmhaaEDk+otwOzh6RBsBr6zS9T0REJBipSMlR8fr8lNa27GuTriIl0uUuHtcyve/tLwvwNPssTiMiIiLfpiIlR6Wk2oNpQqTbro14RY6Dk7OTSI1xU1nvZemWUqvjiIiIyLeoSMlRKahqACAjNhzDMCxOIxL67DYjsOjEa+v2WpxGREREvk1FSo5KYWD/KE3rEzleLh6bCcDSrSVU1DVZnEZERES+SUVKjsg0ofDAiJQ24hU5fganRTOiVwxen8k7XxZYHUdERES+QUVKjqi2GRq9fuw2g+Rot9VxRHqU1lGp/9PqfSIiIkEl6IvUvn37mD17NomJiYSHhzNy5EjWrFkTuN00Te666y7S09MJDw9n2rRpbN++3cLEoafc0/I2SY1xY7fp+iiR4+n8MRk4bAYb8ivZVlxjdRwRERE5IKiL1P79+5k8eTJOp5P33nuPzZs38/DDDxMfHx8458EHH+Sxxx5jwYIFrFy5ksjISKZPn05jY6OFyUNLuaelPGlan8jxlxTl5vQhKQC8vDrf4jQiIiLSKqiL1AMPPEDv3r15+umnOfHEE+nXrx9nnXUW2dnZQMto1Pz58/n973/PBRdcwKhRo3juuecoKCjgjTfesDZ8CKloailSGVpoQsQSP5rQG4DXvthHU7Pf4jQiIiICQV6k3nrrLSZMmMAPfvADUlJSGDt2LP/4xz8Ct+/atYuioiKmTZsWOBYbG8vEiRNZsWLFYR/X4/FQXV3d5ksOzXBHUu1teZukqUiJWGLq4GRSot1U1DWxOKfY6jgiIiJCkBepnTt38uSTTzJw4EDef/99fvnLX3LDDTfw7LPPAlBUVARAampqm/ulpqYGbjuUefPmERsbG/jq3bt3172Ibs6dMRiAuHAnES5txCtiBYfdxiXjWxadeGmNpveJiIgEg6AuUn6/n3HjxvHHP/6RsWPHctVVV/GLX/yCBQsWHNPj3n777VRVVQW+8vP1weRw3L2GApAep9EoESv98MD0vuXbSgPbEYiIiIh1grpIpaenM2zYsDbHhg4dSl5eHgBpaWkAFBe3nepSXFwcuO1Q3G43MTExbb7k0AJFSgtNiFiqX1IkJ/ZLwG/Cq2v2Wh1HRESkxwvqIjV58mS2bt3a5ti2bdvo06cPAP369SMtLY3FixcHbq+urmblypVMmjTpuGYNRT6/iTt9EADpuj5KxHKti068vDYfv9+0OI2IiEjPFtRF6uabb+bzzz/nj3/8I7m5ubz44ov8/e9/59prrwXAMAxuuukm7r//ft566y2++uorLrvsMjIyMrjwwgutDR8C8qqasbkjcBgmiZEuq+OI9HgzR6YT7XaQX9HA5zvLrY4jIiLSowV1kTrhhBN4/fXX+c9//sOIESP4wx/+wPz585k1a1bgnN/85jdcf/31XHXVVZxwwgnU1taycOFCwsI0gnKstpQ3AZDgNjEMbcQrYrVwl53zxmQA8B/tKSUiImKpoF+G7dxzz+Xcc8897O2GYXDfffdx3333HcdUPcPWspYilejWvjUiweInJ2bx4so8Fm4spLRmGMnRbqsjiYiI9EhBPSIl1tpa7gUg0aVrMUSCxYhesYzpHYfXZ/KylkIXERGxjIqUHFJJdSPFdT5M00+CW0VKJJjMPqllwZ0XV+bh06ITIiIillCRkkNal7cfAG/pHpx6l4gElXNHpRMb7mRfZQPLtpVYHUdERKRH0kdkOaS1e1qKlGdfjsVJROTbwpx2fjA+E4B/f55ncRoREZGeSUVKDklFSiS4zTowvW/p1hLyK+otTiMiItLzqEjJQRq9PjbuqwZUpESCVb+kSKYMSMI04cVVGpUSERE53lSk5CCbCqpo8vmJddtoriyyOo6IHMbsk7IAeHl1Pp5mn8VpREREehYVKTnIuj2VAAxOclobRES+07ShqaTFhFFe18TbGwqtjiMiItKjqEjJQVqvjxqS6LI4iYh8F4fdxmUnt1wr9a9PdmGaWgpdRETkeFGRkjZM02TtgaXPByepSIkEu5+cmEWY08bmwmo+31lhdRwREZEeQ0VK2ti7v4HSGg9Ou0F2vKb2iQS7uAgXl4xrWQr9n5/ssjiNiIhIz6EiJW20Tusb0SsWl92wOI2IHI2fTekHwOItxewuq7M4jYiISM+gIiVttBap8VnxFicRkaOVnRzF6YOTMU145rPdVscRERHpEVSkpI1AkeqjIiXSnbSOSr28Jp+qBq/FaUREREKfipQE1Hqa2VLUshHvOBUpkW5lyoAkBqdGU9/k46XV2qBXRESkq6lIScAXefvxm9ArLpzUmDCr44hIOxiGwZwDo1L/+mS3NugVERHpYipSErB6V8vSyRP7JVicREQ64oKxGaTGuCmqbuT1dfusjiMiIhLSVKQkYOWBInWCipRIt+R22PnFKf0BWLBsBz6/NugVERHpKipSAoCn2cf6/EoATuirIiXSXf34xCziI5zsLq/nf18VWh1HREQkZKlICQAb91XhafaTGOkiOznS6jgi0kGRbgdXnNxyrdTfPtqBaWpUSkREpCuoSAkAq3a1LHt+Qt8EDEMb8Yp0Z5ef3IdIl52cwmo+2lpqdRwREZGQpCIlAKzaVQ7o+iiRUBAX4WL2SX0AeGJprsVpREREQpOKlODzm6w5sBHvibo+SiQkzJnSD5fDxpo9+/lsR5nVcUREREKOipSwtaiGmsZmIl12hqZHWx1HRDpBSkwYPz6hNwAPf7BN10qJiIh0MhUpYfXulmXPx/WJx2HXW0IkVFx7+gDCnDbW7tmva6VEREQ6mT41C6u0Ea9ISEqJCePySX0B+PMHW/FrXykREZFOoyLVw5mmyaoDI1LaP0ok9FxzWjZRbgebCqp5f1OR1XFERERChopUD7envJ7SGg8uu43RveOsjiMinSw+0sXPprTsK/Xwom34NColIiLSKVSkerjW0ahRmbGEOe0WpxGRrvDzU/oRG+4kt6SWN9fvszqOiIhISFCR6uFar486UddHiYSsmDAn15yWDbSs4Nfo9VmcSEREpPtTkerhVmojXpEe4YqT+5IeG8a+ygb++ckuq+OIiIh0eypSPdje/fXkVzRgtxlaaEIkxIW77Px2xhAAnliaS0l1o8WJREREujcVqR7s851fXx8V5XZYnEZEutr5ozMYmxVHfZOPP3+w1eo4IiIi3ZqKVA/2+c6WaX0n9U+0OImIHA+GYXDnucMAeGXtXjbuq7I4kYiISPelItWDrdihIiXS04zLiufCMRmYJtz3zmZMU8uhi4iIdISKVA+VX1HPvsoGHDaDCX3irY4jIsfRb84eQpjTxqpdFby1ocDqOCIiIt2SilQPteLAtL5RmbFE6vookR4lIy6ca6cOAOAP72ymsr7J4kQiIiLdj4pUD9V6fdSkbE3rE+mJrj4tm4EpUZTVNjHvf1usjiMiItLtqEj1QKZpsvLAin26PkqkZ3I5bMy7eCQAL63JD1wzKSIiIkdHRaoHyq9oYF9lA067wXhdHyXSY03om8CsiVkA3PH6VzR6fRYnEhER6T5UpHqg1ml9ozPjiHDp+iiRnuw3Zw8hJdrNzrI6/rY01+o4IiIi3YaKVA+0QtdHicgBseFO7j1/OABPfLSDL/L2W5xIRESke1CR6mFM09RGvCLSxoyR6Zw/OgOf3+Tml9ZT52m2OpKIiEjQ61ZF6k9/+hOGYXDTTTcFjjU2NnLttdeSmJhIVFQUl1xyCcXFxdaFDHJ7yusprGrEaTcYl6Xro0SkxR8uHEGvuHB2l9dz39ubrY4jIiIS9LpNkVq9ejVPPfUUo0aNanP85ptv5u233+aVV15h2bJlFBQUcPHFF1uUMvh9uqMMgLG94wl32S1OIyLBIjbcycM/HI1htKzit3BjkdWRREREglq3KFK1tbXMmjWLf/zjH8THfz2KUlVVxT//+U8eeeQRzjjjDMaPH8/TTz/NZ599xueff25h4uD1yfaWIjVlYJLFSUQk2JzUP5FrTssG4LevfUlhVYPFiURERIJXt1iy7dprr+Wcc85h2rRp3H///YHja9euxev1Mm3atMCxIUOGkJWVxYoVKzjppJMO+XgejwePxxP4vrq6uuvCBxGf3+SzA3vFqEiJWCMnJ8fqCAAkJSWRlZV10PGbpw3i4+2lbNxXzS//vY6Xrj4Jt0Oj1yIiIt8W9EXqv//9L+vWrWP16tUH3VZUVITL5SIuLq7N8dTUVIqKDj8tZd68edx7772dHTXobdxXRVWDl+gwB6N6xVodR6RHqa4oBWD27NkWJ2kRHhHBlpycg8qUy2HjiZ+M4/y/fsr6/ErueWsT8y4edZhHERER6bmCukjl5+dz4403smjRIsLCwjrtcW+//Xbmzp0b+L66uprevXt32uMHq09yW6b1TeqfiMPeLWZ1ioSMhtqWke9zrr6DwaPGW5qlOG8HLzxwK2VlZYccleqTGMmjl47hymdW859V+YzsFcdPJh58noiISE8W1EVq7dq1lJSUMG7cuMAxn8/H8uXL+etf/8r7779PU1MTlZWVbUaliouLSUtLO+zjut1u3G53V0YPSro+SsR6iRl9yBw43OoYRzR1cAq/PmswD72/lbvf2sjgtGjG99FKnyIiIq2CeljizDPP5KuvvmL9+vWBrwkTJjBr1qzAr51OJ4sXLw7cZ+vWreTl5TFp0iQLkwefhiYfa/e0bLQ5ZYCKlIgc2a+mZjNjRBpen8nVz68lv6Le6kgiIiJBI6hHpKKjoxkxYkSbY5GRkSQmJgaOz5kzh7lz55KQkEBMTAzXX389kyZNOuxCEz3Vqt0VNPn89IoLp19SpNVxRKQbMAyDh34wml1ldWwpquGyf63i1WsmkRjV80b0RUREvi2oR6SOxl/+8hfOPfdcLrnkEk499VTS0tJ47bXXrI4VdD7Z3nKh++QBiRiGYXEaEekuotwOnv3ZifSKC2dXWR0/e2Y1dZ5mq2OJiIhYrtsVqY8++oj58+cHvg8LC+OJJ56goqKCuro6Xnvtte+8Pqqn+jhwfVSyxUlEpLtJjQnjuTknEh/hZMPeKn71wjq8Pr/VsURERCzV7YqUtF9pjYctRTUAnJydaHEaEemOspOj+NcVJxDutLNsWynXv/gFTc0qUyIi0nOpSPUAn+1oGY0alh5Dkq5tEJEOGpsVz5Ozx+Gy21i4qYhfvbAOT7PP6lgiIiKWUJHqAVqn9Z2iZc9F5BhNHZzCPy6fgNth48OcYq55fi2NXpUpERHpeVSkQpxpmnwcWGhCRUpEjt1pg5L51xUnEOa0sXRrKXOeXU11o9fqWCIiIseVilSIyymsobjaQ7jTzon9EqyOIyIhYvKAJJ658kQiXHY+zS3nB0+uYF9lg9WxREREjhsVqRC3dGsJ0LLseZjTbnEaEQklJ/VP5OWrJ5ES7WZrcQ0XPvEpX+2tsjqWiIjIcaEiFeI+OlCkThucYnESEQlFI3rF8sa1kxmSFk1pjYcfPrWCd74ssDqWiIhIl1ORCmFV9V7W5VUCMHWQ9o8Ska6RERfOK9dM4rRByTR4fVz34hfc/eZGregnIiIhzWF1AOk6H+eW4vObDEyJondChNVxRCSERYc5+eflE3hk0Tb+9tEOnl2xh/X5lfz1J+OO+PdPXl4eZWVlxynpd0tKSiIrK8vqGCIi0g2oSIWwpVtaVus7fYim9YlI13PYbfzm7CFM6BvPzS9tYMPeKmY+9jH3nDeci8f1wjCMg+6Tl5fHkKFDaaivtyDxwcIjItiSk6MyJSIiR6QiFaL8fpNl21qK1NTBmtYnIsfPGUNSefeGKVz/ny/4Iq+SW17ZwMJNRfy/i0aQEh3W5tyysjIa6uuZddtDpGZlW5S4RXHeDl544FbKyspUpERE5IhUpELUpoJqymo9RLrsTOijZc9F5PjKjI/glasn8dTyncz/cBuLNhezZncFd547jIvGHjw6lZqVTebA4RalFRERaT8tNhGiWpc9nzIwCZdDP2YROf4cdhvXnj6At66bwrD0GPbXe5n78gZ+9PfP2VpUY3U8ERGRY6JP2CGqtUidrmXPRcRiQ9NjeOPayfzm7MGEO+2s2lXBOY99zP97dzN1TX6r44mIiHSIilQIqqhrYn1+JQBTVaREJAi4HDZ+NXUAi+aeylnDUmn2m/zj41386n8lRI87F79pdUIREZH2UZEKQcu2lWCaMCQtmrTYsCPfQUTkOMmMj+Dvl03g6StOYEBKFDVNJgnfu4YPCp1sK67Bb6pRiYhI96AiFYIWbS4G4HvDUi1OIiJyaKcPSWHhjadw9fgYfHX7qWs2eG9jES98nsfWIhUqEREJfipSIabR6+OjrS3Lnp81LM3iNCIih+ew25ieHcm+v1/FsNhm3A4bFfVNLNxUxL8/38OWomoVKhERCVoqUiHm09wy6pt8ZMSGMaJXjNVxRESOyGxqYGisnysn92VS/0TcDhv76728v6lYhUpERIKW9pEKMR9sapnWd9bwtIP2aRER+aacnByrI7TJ4HbYObFfAqN7x7Ihv4ov8vYHCtXnOysY2zuOYRkxOO36N0AREbGeilQI8flNPsw5UKR0fZSIHEZ1Rcv039mzZ1uc5Gu1tbWBX7cpVHur+GLPfqoavHy0rZTPd5YzKjOOUZmxRLr1vzAREbGO/i8UQtbu2U95XROx4U5O6JdgdRwRCVINtdUAnHP1HQweNd7SLDmrlvHes4/S2Nh40G1uh50T+yYwtnccmwuq+SK/kqoGL6t2V7A2bz9D06IZmxVPQqTLguQiItLTqUiFkA82FQFw5pAUTX0RkSNKzOhD5sDhlmYozttxxHOcdhuje8cxMjOWHaW1rNtTSVF1IxsLqtlYUE3fxAjG9I4jKyFCU5q7UF5eHmVlZVbHACApKYmsrCyrY4hID6ciFSJM0+SDza3XR2lan4iEHpthMDAlmgHJURRUNbJuz352ltWxu7ye3eX1xEU4GZ0Zx9D0aNwOu9VxQ0peXh5Dhg6lob7e6igAhEdEsCUnR2VKRCylIhUithbXkFdRj9th49RByVbHERHpMoZh0CsunF5x4eyvb+LLvVVsLqimst7Lsm2lfLajjGHpMYzOjCNe0/46RVlZGQ319cy67SFSs7ItzVKct4MXHriVsrIyFSkRsZSKVIhoXa3vlIFJRLj0YxWRniE+wsVpg5KZ1D+RnKJqNuRXsr/ey4a9VWzYW0VWQgSje8fSLzFS0/46QWpWtuXTQUVEgoU+cYeI9w9cH3XWcG3CKyI9j8thY3RmHKN6xZK/v4EN+ZXsLKsjr6KevIp6YsOdjMqMZVh6DGFOTfsTEZFjpyIVAnaW1rKpoBq7zWDaUF0fJSI9l2EYZCVEkJUQQVWDly/3VrKpoJqqBi8fby/jsx3lDEiOYkSvGHrFhWuUSkREOkxFKgS882UhAFMGJGkZYBGRA2LDnZwyMJmT+ieytaiGL/dWUVrrYWtxDVuLa4iLcDIiI5ah6dGaEi0iIu2m/3N0c6Zp8taGAgDOG51hcRoRkeDjtNsY0SuW4RkxlNR42Liviq3FNVTWe/kkt4zPdpSRnRxFsmmATdP+RETk6KhIdXNbi2vILanFZbdp2XMRke9gGAapMWGkxoRxysBkthXXsLGgiuJqD9tLatmOk8xrn+Pva6v4RWIF47LiNfVPREQOS0Wqm3v7wGjU1MHJxIQ5LU4jItI9uBwto1QjesVSWuNhc0E1OQX78UTEsnBHPQufXEHvhHAuGN2LC8dmMCAl2urIIiISZGxWB5COM02Ttze0XB+laX0iIh2THO3mtMHJzOzlpfjluzitTziRLjv5FQ38dWku0x5Zzll/Wcaf39/KV3urME3T6sgiIhIENCLVjX25t4q8inrCnXbOHJpidRwRkW7NZkDjrnXcODGOoSNGsyinmDe/2MeybaVsK65lW3Euf12aS1pMGKcOSuLUQclMGZBEXIQW+RER6YlUpLqx1ml904alasUpEZFOFO6yc/7oDM4fnUFVvZclW4v5YFMxH20tpai6kZfX7OXlNXuxGTA0PYYT+iZwYr8EJvSNJyU6zOr4IiJyHOjTdzfl95uBZc/PG5VucRoRkdAVG+HkorGZXDQ2k0avj1W7Kli+rZTl21tGqjYVVLOpoJpnPtsNQGqMm5G9YhmeEcug1Gj6J0fSLynS8o2Am31+6r0+6j0+6pqaMU0wDLAZBg6bQbjLToTLTrjTrkU2RESOgopUN7Vmz36KqhuJDnNw2uBkq+OIiPQIYU47pw5K5tRBLX/vFlc3smpXBat3V7BqVwVbi2sorvZQXF3ChzklgfsZBqTHhJEeF05abBjpMWEkRLmIDXcSG+4kOsyJy27D5bDhdrRcvuz1+fH5Tbw+k2a/n2afidfnx9Psp87TTF2Tj/oD/235vjlQkuo8zdQ3+QLHaj3NeJr9R/UaDaNlD66kKDeJkS5SYsJweqqJHPk9ShsNEpqaNQtCRAQVqW7rtXV7AZg+PA23Q/ueiIhYITUmjPNGZwQW/KnzNJNTWM3GfVVsLKhmR2ktO0vrqGrwUlDVSEFVo8WJwW4ziHDZsRkGpmlimuD1+2n0thQt04TKei+V9V5yv3G/pJk3srwElpfsItJlJynaTXKUm/S4MDJiwy0fcRMROd5UpLqh+qbmwPVRPxifaXEaERFpFel2MKFvAhP6JgSOmaZJRV0Tu8vrKa5upKiqkaLqRirqmqhq8FLV4KWmsZmmZh9NPj9NB0aOHDYbTruBw27DYTNw2m3YbQZuh40ot4NIt4NIt50Il4NIl52I1mOuA8fc9gPfO4hwtfw6wmXH7bAdcuqe32/S2NwyelVZ76Ws1kNZbRPFVY2s3bqH1xd9TNKgcdQ1Gy2jYOX17Cmvhz0t90+MdJEZH06fxEgy48Nx2rUwsIiENhWpbui9r4qoa/LRNzGCE/slHPkOIiJiGcMwSIxykxjltjrKd7LZDCJcDiJcDlKiwxiU+vXeWeOjKnnqqruZ/cRrpPYfSlmth9IaD8XVHgqrGthf76W8ronyuiY27K3CbjPoFRdO/+RIBiRHEenWxw0RCT36m60benlNPgDfH5+pC4JFROS4ctptpMeGkx4bHjhW39RMQWUjeyrq2FNeT01jM3kV9eRV1PPR1lLSY1uK2eDUaMJdmgIoIqFBRaqb2VNex8pdFRgGXKJpfSIinS4nJ8fqCAFJSUlkZWVZHeOIIlwOBqREMSAlCtM02V/vZVdZHbkltRRVN1JY1fL18fZS+iVFMiw9hj6Jkdht+sdAEem+VKS6mVfXtiwyccrA5Db/GigiIsemuqIUgNmzZ1uc5GvhERFsycnpFmWqlWEYJES6SIh0Mb5PPDWNXnJLatlSVENJjYcdpXXsKK0j3GlnSFo0Q9NjSI4O7mmPIiKHoiLVjfj8ZqBI/XCCRqNERDpTQ201AOdcfQeDR423OA0U5+3ghQdupaysrFsVqW+LDnMyNiuesVnxlNV6yCmsZktRDfVNPr7Ir+SL/EpSot2M6BXL4NRoXA4tUiEi3UPQF6l58+bx2muvsWXLFsLDwzn55JN54IEHGDx4cOCcxsZGbrnlFv773//i8XiYPn06f/vb30hNTbUweef7NLeMwqpG4iKcfG9YaL02EZFgkZjRh8yBw62OEZKSotycMjCZk7OT2FNRR05BDTvLaimp8bBkSwkfby9lSFoMI3vFapRKRIJe0P+zz7Jly7j22mv5/PPPWbRoEV6vl7POOou6urrAOTfffDNvv/02r7zyCsuWLaOgoICLL77YwtRdo3WRiQtGZ2jvKBER6bbsNoP+SVGcMyqdn5/Sn1MGJhEX4cTrM/lqXxUvrsrjpdX5bC6oxus7uo2ERUSOt6AfkVq4cGGb75955hlSUlJYu3Ytp556KlVVVfzzn//kxRdf5IwzzgDg6aefZujQoXz++eecdNJJBz2mx+PB4/EEvq+uru7aF9EJymo9fLCpGIAfTOhtcRoREZHOEe60My4rnrG949i7v4GN+6rILW1ZpKKoupHl20sZmhbDiF4xQb+EvIj0LEFfpL6tqqoKgISElv2T1q5di9frZdq0aYFzhgwZQlZWFitWrDhkkZo3bx733nvv8QncSf6zMo8mn5/RveMY0SvW6jgiIiKdyjAMeidE0DshgjpPM5sLq9m4r4rqxmbW761k/d5KMuLC6GW3gb3bfXwRkRAU9FP7vsnv93PTTTcxefJkRowYAUBRUREul4u4uLg256amplJUVHTIx7n99tupqqoKfOXn53d19GPi9fn598qWreOvPLmvtWFERES6WKTbwQl9E7ji5L5cOCaD7ORIDAMKKhtZXe4g81fP8uyGanaV1R35wUREuki3+ieda6+9lo0bN/LJJ58c0+O43W7c7u4zPeD9TUUUV3tIinIzc2S61XFERESOC8Mw6JMYSZ/ESGobm9lUUMWGvHIaImJ5c2sdb279iMkDEpk1sQ/fG5aK096t/n1YRLq5bvM3znXXXcc777zD0qVLycz8eunvtLQ0mpqaqKysbHN+cXExaWlpxzll13j2s90A/GRilpaFFRGRHikqzMHE/omcneGl5NX7GJfuxjDg09xyfvXCOk7+0xIeen8L+RX1VkcVkR4i6D+Vm6bJddddx+uvv86SJUvo169fm9vHjx+P0+lk8eLFgWNbt24lLy+PSZMmHe+4nW7jvipW796Pw2Ywe2L33UdERESkM9gMaNixit+fksDyW0/nutMHkBTlprTGwxNLd3DqQ0u58ulVLNpcTLNW/BORLhT0U/uuvfZaXnzxRd58802io6MD1z3FxsYSHh5ObGwsc+bMYe7cuSQkJBATE8P111/PpEmTDrnQRHfTOho1c2Q6KTFh1oYREZHjLicnx+oIQZHhUHonRPDr6YO5cdpAPtxczAsr8/gkt4ylW0tZurWU9NgwfnRCby49IYu02K75f2heXh5lZWVd8tjtlZSU1K03bxbpboK+SD355JMATJ06tc3xp59+miuuuAKAv/zlL9hsNi655JI2G/J2dxV1Tby5oQCAy7XIhIhIj1JdUQrA7NmzLU7ytdraWqsjHJLTbmPGyHRmjExnd1kd/1mVx8tr8imsamT+h9t5fEkupw1K5txR6XxvWCrRYc5Oed68vDyGDB1KQ31wTCcMj4hgS06OypTIcRL0Rco0zSOeExYWxhNPPMETTzxxHBIdPy+u3ENTs5+RvWIZlxVndRwRETmOGmpb9jg85+o7GDxqvKVZclYt471nH6WxsdHSHEejb1Ikt88cytyzBrFwYxEvrMxj1a4KlmwpYcmWElwOG1MHJXPu6AzOHJJCpLvjH4XKyspoqK9n1m0PkZqV3Ymvov2K83bwwgO3UlZWpiIlcpwEfZHqqeqbmvnnJ7sA+Pkp/TAMw+JEIiJihcSMPmQOHG5phuK8HZY+f0e4HXYuGNOLC8b0Ireklrc3FPDOlwXsKK3jg83FfLC5mDCnjTOGpDBzZDqnDUru8EhVala25T8jETn+VKSC1Isr89hf76VPYgTnaMlzERGRDhuQEsXN3xvETdMGsqWohne+LOCdLwvZU17P/74q4n9fFeG0G5zUP5HvDUvlzKGp9IoLtzq2iAQ5Fakg1Oj18fflOwH41dRsHNoXQ0RE5JgZhsHQ9BiGpsfw67MGs3FfNe98VcCiTcXsLKvj4+1lfLy9jLve3MSw9BimDUtl2tAURmTEYrNpZoiItKUiFYReWbuXkhoPGbFhXDQ288h3EBERkXYxDIORmbGMzIzl9hlD2VFay4ebi/kwp5i1e/azubCazYXVPLZ4O0lRbqYOTub0wSmcMiiJmE5arEJEujcVqSDj9flZ8FHLXPSrT8vWBrwiIiLHQXZyFNmnRXH1adlU1DWxdEsJizYX8/H2UspqPby6di+vrt2Lw2Ywvk88pw9JIc3vtTq2iFhIRSrIvPHFPvZVNpAU5eZHJ/S2Oo6IiEiPkxDp4pLxmVwyPpOmZj9rdlewdGvLqn87SutYuauClbsqAOh1zT/5osJOU1ktveMjcGo6vkiPoSIVRHx+k78dGI36+Sn9CHPaLU4kIiLSs7kcNk4ekMTJA5K445xh5JXX89G2llL1WW4pxKaysxZ2bijEbjPIjA+nb2IkfRMjiItwWR1fRLqQilQQ2VpUQ3F1I7HhTmaf1MfqOCIiIvItWYkRXDapL5dN6suKVWs548fXMOnKOyltdlPT2Mye8nr2lNezDIiPcLaUqqRIesWFY9eCFSIhRUUqiAzLiOGT285gS1E1UcewQaCIiIh0PbfDoHHnGsYm+Og1oC/7673sLqtjV3kdBZUN7K/3sr++ki/yK3E5bPRPimRAShR9EiK0Iq9ICNCn9SCTEOni5Owkq2OIiIhIOxiGQUKki4RIF+P6xONp9pFf0cCusjp2l9dR3+RjS1ENW4pqcNgM+iZFMiA5in5JkVpYSqSbUpESERGRbicnJ8fqCN+Zwe2wMyAligEpUZimSWFVI7klteSW1lLT2Nzy65Ja7DaDPgkRDEmLpl9SpEaqRLoRFSkRERHpNqorSgGYPXu2xUm+Vltb+523G4ZBRlw4GXHhnDIwiZIaT6BUVdZ72VlWx86yOlx2G9kpkQxOjaZ3fIQ2ARYJcipSIiIi0m001FYDcM7VdzB41HhLs+SsWsZ7zz5KY2PjUd/HMAxSY8JIjQnj5OxEyuua2FpUw9biGmoam8kprCGnsIYIl51BqdEMSYsmJdqNYahUiQQbFSkRERHpdhIz+pA5cLilGYrzdhzT/Q3DICnKTdIANydnJ1JQ1cjWohq2F9dQ3+RjfX4l6/MrSYxyMTw9hsFp0US49NFNJFjoT6OIiIiIxQzDoFdcOL3iwjltUDJ7KurYWljDjrI6ymubWL69jE9yy+ifFMWwjBj6JGjqn4jVVKREREREgojdZtA/KYr+SVE0en1sLa5hc0F1y7VVpS3XVkW67QxNi2FYRgzx2vhXxBIqUiIiIiJBKsxpZ3RmHKMz4yit8bC5sJotRdXUeXys2bOfNXv2kxEXRrrNhuEMszquSI+iIiUiIiLSDSRHuzktOpnJAxLZVVrHpsJq8srrKahspAAHmdc+x99WV/LLxP2My4rTAhUiXUxFSkRERKQbcdhsDEyNZmBqNLWNzeQUVbNhTxl1RPDhrgY+fPIzBqRE8cMJmVw0NpPkaLfVkUVCknZ9ExEREemmosIcnNA3genpXopeuI2pfcIJc9rILanlj//bwqR5i7nquTUszimm2ee3Oq5ISNGIlIiIiEg3Zxjg2buJGybG8fiwkby9oZCX1+SzPr+SDzYX88HmYpKj3VwyLpMfTsikf3KU1ZFFuj0VKREREZEQEh3m5CcTs/jJxCy2FtXwypp8XvtiH6U1HhYs28GCZTs4oW88P5zQm5kj04l06+OgSEfoT46IiIhIiBqcFs3vzx3Gb84ewpItxby0Op9l20pZvXs/q3fv5563NjFjZDoXjunFpOxE7NqbSuSoqUiJiIiIhDiXw8bZI9I5e0Q6RVWN/N+6vby8Jp895fW8unYvr67dS3K0m/NGZXDh2AxG9orVqn8iR6AiFYTy8vIoKyuzOgY5OTlWRxAREZFOlhYbxrWnD+BXU7NZvXs/b6zfx/++KqS0xsO/Pt3Fvz7dRf+kSM4fk8F5ozPI1vVUIoekIhVk8vLyGDJ0KA319VZHCaitrbU6goiIiHQywzA4sV8CJ/ZL4J7zhrN8WylvrN/HhznF7CyrY/6H25n/4XYGpUZx9vA0zh6RztD0aI1UiRygIhVkysrKaKivZ9ZtD5GalW1plpxVy3jv2UdpbGy0NIeIiIh0LZfDxrRhqUwblkqtp5kPNhXx5voCPttRxrbiWrYV5/LYklz6JEZw9og0ZoxIZ3Smpv9Jz6YiFaRSs7LJHDjc0gzFeTssfX4RERE5/qLcDi4el8nF4zKpavCyOKeY9zYWsXxbKXvK63lq2U6eWraTlGg3pw9O4fQhKUwZmESUVv+THkbveBERERE5pNhwZ6BU1Xma+WhrKe9tLGTplhJKajy8tCafl9bk47S3TBNsLVb9kyI1WiUhT0VKRERERI4o0u3gnFHpnDMqnUavj1W7KliypYSlW0vYU17Pp7nlfJpbzv3v5pAZH87k7CROHpDIydlJJEe7rY4v0ulUpERERESkXcKcdk4dlMypg5K5h+HsLK1l6dZSlm4pYeWucvbubwiMVgEMTo3m5AGJTM5O4sT+CcSEOS1+BSLHTkVKRERERI5J/+Qo+idHMWdKP+o8zazaXcFnuWV8mlvO5sJqthbXsLW4hqc/3Y3NgMFpMZzQN54JfRM4oW886bHhVr8EkXZTkRIRERGRThPpdnD64BSywxuZkd5ItSecjSUevipp4stiD4W1PnIKq8kprOa5FXsASI6wMyTJyZAkFwMTnPSJdeK0d941VklJSWRlZXXa44mAipSIiIiIdLLv2hfTHhmPO3NYy1evYbhS+1NaD6V5Pj7Oa9lyxWz20lSyE0/hdpoKt+Ep2kZz+T7A7FCe8IgItuTkqExJp1KREhEREZFO1Z59MZv9Piqa/JQ12qhoMtjfZNDkcOLOGIw7Y3DgPIdhEusyiXW2/DfOaRLjNHHYvjtLcd4OXnjgVsrKylSkpFOpSImIiIiEiJycHKsjAF/nONp9Mft+49emaVLd2ExRVSPF1S1fJTUemv1Q7jEo93x9rgHERThJinKTEOkiMdJFfKSLuAgnDtsRGpbIMVKREhEREenmqitKAZg9e7bFSdqqra1t930MwyA23ElsuJPBadEA+P0m++ubKK31UFbT8t/SGg8NXh/7673sr/d+6zFa9sBKiHDhbLITNeosvirxkFrZQHpMGDab9riSY6ciJSIiItLNNdRWA3DO1XcweNR4i9NAzqplvPfsozQ2NnbK49lsBolRbhKj3JDWcsw0TeqbfC3lqtZDRV0T++u8VNQ10eTzU1nvpbLeC9hJnHEDd39Uwd0fLcFlt5GZEE6fhAj6JEaSHhtGelw4GbFhpMWGkRoThtOu0Sw5MhUpERERkRCRmNHnqKbSdbXivB1d/hyGYRDpdhDpdtA3MTJw3DRN6jw+KuqbqKhrIr+giE1fridzyBgqvXaafH52ltaxs7QOKD34cYH4cBuJ4XZiw2zEuW3EhdmJdduIDTvw5bYR5bIR6bThsrdkOVpaQTB0qEiJiIiISMgwDIOoMAdRYQ6yEiJwFaxn6St3UwJg2HDEJOOIS8MRl97y3+gk7DFJLf+NTgS7k4oGPxUN/qN6PrPZi99Ti7+xDr/nwFdj7YFf12N66vF7GzG9HsxmD04bLHjiMbIy0gl32Ql3tnyFuWyBXzs0ItYtqEiJiIiISMhqz7RH0zTx+JtoaDao94HHZ+DxQ+OB/3p8RuBYkx/AwHA4sTvisUfGH3Wm297dA+w57O0OG7jsRuDL+Y3v3a3HvnG7y972/O88bvv61/iaiIsM69Q9u45FdxutU5ESERERkZDX2dMeTdPE6zPxNPvwNPvxeP1f/7rZT1Pz1983+02afX4qK8rZtzsXw+HGcLqxOd2BXxtON4bRMhLV7Idmv0m9t2P7ZrX7tfi8+JsaMJsaD/y3AX9T/SGPmU0NLSNsTQ0Hjtfj99QfGImrw/R2/Lq47rbfl4qUiIiIiEg7GYaBy2HgctiIPsr7rF28hnUv/vaQo2Om2Ywf8Jng80OzCX7TaPm+zVfLMf8hjrU9fvB9A4/nh2a/H9Owt7wWuxN7uBPCY4799wUTp42WL+Mbv7aZX//XaHvMZYOqoj289pfbu9V+XyFTpJ544gkeeughioqKGD16NI8//jgnnnii1bFERERERNoIhkVB1i5+ixcevI2f3P0Ug8dNwuszafL58Tb72/y35dcHbvO1jLS13t56n9bRN78JJgZN35j6ePQGkHDmVV30artGSBSpl156iblz57JgwQImTpzI/PnzmT59Olu3biUlJcXqeCIiIiIiwcf04zBMosOcx/5Qpkmz3zwwzdFHk691uuPhpzw2fWNKZKO3Gb+nrhNe1PETEkXqkUce4Re/+AVXXnklAAsWLODdd9/lX//6F7/97W8tTiciIiIiEtoMo2UBDKfdRpS7/RVj7/ZNPPKnfwK/7PxwXaTbF6mmpibWrl3L7bffHjhms9mYNm0aK1asOOR9PB4PHo8n8H1VVRUA1dXVXRv2KLTuAL53+yY8DfWWZmndA6Jo9zZ2REYoyzcEUx5lCf4sEFx5lCX4s0Bw5VEWZWmvYMqjLMGfBaB07y7ApLa21vLP5K3Pb5rfvdiHYR7pjCBXUFBAr169+Oyzz5g0aVLg+G9+8xuWLVvGypUrD7rPPffcw7333ns8Y4qIiIiISDeSn59PZmbmYW/v9iNSHXH77bczd+7cwPd+v5+KigoSExMPuzN1dXU1vXv3Jj8/n5iYY1/RRLoX/fxF74GeTT//nk0//55NP/+exzRNampqyMjI+M7zun2RSkpKwm63U1xc3OZ4cXExaWlph7yP2+3G7Xa3ORYXF3dUzxcTE6M/RD2Yfv6i90DPpp9/z6aff8+mn3/PEhsbe8RzbMchR5dyuVyMHz+exYsXB475/X4WL17cZqqfiIiIiIhIZ+n2I1IAc+fO5fLLL2fChAmceOKJzJ8/n7q6usAqfiIiIiIiIp0pJIrUj370I0pLS7nrrrsoKipizJgxLFy4kNTU1E57Drfbzd13333QlEDpGfTzF70Hejb9/Hs2/fx7Nv385XC6/ap9IiIiIiIix1u3v0ZKRERERETkeFOREhERERERaScVKRERERERkXZSkRIREREREWknFalvWb58Oeeddx4ZGRkYhsEbb7zR5nbTNLnrrrtIT08nPDycadOmsX37dmvCSqebN28eJ5xwAtHR0aSkpHDhhReydevWNuc0NjZy7bXXkpiYSFRUFJdccslBG0JL9/Tkk08yatSowKaLkyZN4r333gvcrp99z/KnP/0JwzC46aabAsf0Hghd99xzD4ZhtPkaMmRI4Hb97EPfvn37mD17NomJiYSHhzNy5EjWrFkTuF2fAeXbVKS+pa6ujtGjR/PEE08c8vYHH3yQxx57jAULFrBy5UoiIyOZPn06jY2NxzmpdIVly5Zx7bXX8vnnn7No0SK8Xi9nnXUWdXV1gXNuvvlm3n77bV555RWWLVtGQUEBF198sYWppbNkZmbypz/9ibVr17JmzRrOOOMMLrjgAjZt2gToZ9+TrF69mqeeeopRo0a1Oa73QGgbPnw4hYWFga9PPvkkcJt+9qFt//79TJ48GafTyXvvvcfmzZt5+OGHiY+PD5yjz4ByEFMOCzBff/31wPd+v99MS0szH3roocCxyspK0+12m//5z38sSChdraSkxATMZcuWmabZ8vN2Op3mK6+8EjgnJyfHBMwVK1ZYFVO6UHx8vPn//X//n372PUhNTY05cOBAc9GiReZpp51m3njjjaZp6s9/qLv77rvN0aNHH/I2/exD32233WZOmTLlsLfrM6Acikak2mHXrl0UFRUxbdq0wLHY2FgmTpzIihUrLEwmXaWqqgqAhIQEANauXYvX623zHhgyZAhZWVl6D4QYn8/Hf//7X+rq6pg0aZJ+9j3ItddeyznnnNPmZw36898TbN++nYyMDPr378+sWbPIy8sD9LPvCd566y0mTJjAD37wA1JSUhg7diz/+Mc/ArfrM6AciopUOxQVFQGQmpra5nhqamrgNgkdfr+fm266icmTJzNixAig5T3gcrmIi4trc67eA6Hjq6++IioqCrfbzTXXXMPrr7/OsGHD9LPvIf773/+ybt065s2bd9Bteg+EtokTJ/LMM8+wcOFCnnzySXbt2sUpp5xCTU2NfvY9wM6dO3nyyScZOHAg77//Pr/85S+54YYbePbZZwF9BpRDc1gdQCRYXXvttWzcuLHNHHkJfYMHD2b9+vVUVVXx6quvcvnll7Ns2TKrY8lxkJ+fz4033siiRYsICwuzOo4cZzNmzAj8etSoUUycOJE+ffrw8ssvEx4ebmEyOR78fj8TJkzgj3/8IwBjx45l48aNLFiwgMsvv9zidBKsNCLVDmlpaQAHrdJTXFwcuE1Cw3XXXcc777zD0qVLyczMDBxPS0ujqamJysrKNufrPRA6XC4XAwYMYPz48cybN4/Ro0fz6KOP6mffA6xdu5aSkhLGjRuHw+HA4XCwbNkyHnvsMRwOB6mpqXoP9CBxcXEMGjSI3Nxc/fnvAdLT0xk2bFibY0OHDg1M79RnQDkUFal26NevH2lpaSxevDhwrLq6mpUrVzJp0iQLk0lnMU2T6667jtdff50lS5bQr1+/NrePHz8ep9PZ5j2wdetW8vLy9B4IUX6/H4/Ho599D3DmmWfy1VdfsX79+sDXhAkTmDVrVuDXeg/0HLW1tezYsYP09HT9+e8BJk+efNB2J9u2baNPnz6APgPKoWlq37fU1taSm5sb+H7Xrl2sX7+ehIQEsrKyuOmmm7j//vsZOHAg/fr148477yQjI4MLL7zQutDSaa699lpefPFF3nzzTaKjowPznmNj///27j+kqvuP4/jrdsvqamm5uJrMhFZmdCOztbRlkkONEdofGVZqGS2quVwJITUGC/xBDea2/rE/bERbBP0ipCxBCyzSispguIp+dzEq29Yqpdvn+0d02P3q2o5mt63nAw54Pp/Pvef9uefKvS/OjxuqwYMHKzQ0VEuXLtWaNWs0fPhwDR06VIWFhUpMTNS0adMCXD16q6SkRLNnz1Z0dLR+//13/fjjj2poaFBtbS37/i0wZMgQ63rIF4KDgxUeHm618x747youLtacOXM0atQo3b59W19++aWcTqdycnL4/38LfP7550pKSlJpaamys7PV1NSkqqoqVVVVSZL1m3J8B4SfQN828E1TX19vJHVZ8vPzjTHPb3/5xRdfGLfbbQYOHGhSU1NNa2trYIvGK9PdvpdkqqurrTGPHz82K1euNMOGDTMul8vMnTvXeL3ewBWNV6agoMCMGjXKBAUFmREjRpjU1FRz+PBhq599//b58+3PjeE98F82f/58ExkZaYKCgkxUVJSZP3++uXTpktXPvv/vO3DggJkwYYIZOHCgGTdunKmqqvLr5zsg/p/DGGMClOEAAAAA4F+Ja6QAAAAAwCaCFAAAAADYRJACAAAAAJsIUgAAAABgE0EKAAAAAGwiSAEAAACATQQpAAAAALCJIAUAAAAANhGkAAD4F2hoaJDD4dCDBw8CXQoAQAQpAEAfWbx4sRwOh8rLy/3a9+3bJ4fDEaCqXu5NCSspKSkqKioKaA0AgJcjSAEA+sygQYNUUVGh9vb2QJcCAMArRZACAPSZjz76SBERESorK/vLMffu3VNOTo6ioqLkcrnk8Xj0008/+Y1JSUlRYWGhioqKNGzYMLndbm3dulV//PGHlixZoiFDhui9997TwYMH/R534cIFzZ49WyEhIXK73crNzdXdu3d7PJ+Ojg4VFxcrKipKwcHB+uCDD9TQ0GD1b9u2TWFhYaqtrVVcXJxCQkKUkZEhr9drjXn69Kk+++wzhYWFKTw8XOvWrVN+fr6ysrIkPT+Sd/ToUVVWVsrhcMjhcOjq1avW40+fPq0pU6bI5XIpKSlJra2tPZ4PAKDnCFIAgD7jdDpVWlqq7777Tjdv3ux2zJMnT5SQkKCamhpduHBBn3zyiXJzc9XU1OQ37ocfftA777yjpqYmFRYWasWKFZo3b56SkpJ05swZpaWlKTc3V48ePZIkPXjwQLNmzVJ8fLxOnTqlQ4cOqa2tTdnZ2T2ez6effqoTJ05o586dOn/+vObNm6eMjAxdvHjRGvPo0SNt3rxZ27dv17Fjx3T9+nUVFxdb/RUVFdqxY4eqq6vV2Nio3377Tfv27bP6KysrlZiYqGXLlsnr9crr9erdd9+1+tevX6+vv/5ap06dUv/+/VVQUNDj+QAAesEAANAH8vPzTWZmpjHGmGnTppmCggJjjDF79+41f/fx8/HHH5u1a9da6zNnzjQffvihtf706VMTHBxscnNzrTav12skmRMnThhjjNm4caNJS0vze94bN24YSaa1tbXb7dbX1xtJpr29vUvftWvXjNPpNLdu3fJrT01NNSUlJcYYY6qrq40kc+nSJat/y5Ytxu12W+tut9ts2rTJby7R0dHWa/VivqtXr+62trq6OqutpqbGSDKPHz/udj4AgL7TP4AZDgDwlqioqNCsWbP8jsy84PP5VFpaql27dunWrVvq7OxUR0eHXC6X37iJEydafzudToWHh8vj8VhtbrdbknTnzh1J0rlz51RfX6+QkJAu27x8+bLGjh1raw4tLS3y+XxdHtfR0aHw8HBr3eVyafTo0dZ6ZGSkVdOvv/6qtrY2TZ061W8uCQkJevbs2T+q48+vQ2RkpKTnc46OjrY1HwBA7xCkAAB9Ljk5Wenp6SopKdHixYv9+jZt2qTKykp988038ng8Cg4OVlFRkTo7O/3GDRgwwG/d4XD4tb24E+CLQPLw4UPNmTNHFRUVXep5EUDsePjwoZxOp06fPi2n0+nX9+ew1l2dxhjb2/srL5szAOD1IUgBAF6L8vJyTZo0SbGxsX7tjY2NyszM1KJFiyQ9DwW//PKLxo8f36vtTZ48Wbt371ZMTIz69+/9x118fLx8Pp/u3LmjGTNm9Og5QkND5Xa71dzcrOTkZEnPj8idOXNGkyZNssYFBQXJ5/P1umYAQN/hZhMAgNfC4/Fo4cKF+vbbb/3ax4wZoyNHjuj48eP6+eeftXz5crW1tfV6e6tWrdL9+/eVk5Oj5uZmXb58WbW1tVqyZMnfhpSWlhadPXvWWs6dO6exY8dq4cKFysvL0549e3TlyhU1NTWprKxMNTU1/7iuwsJClZWVaf/+/WptbdXq1avV3t7u99taMTExOnnypK5evaq7d+9yxAkA3kAEKQDAa/PVV191CQUbNmzQ5MmTlZ6erpSUFEVERFi3Au+NkSNHqrGxUT6fT2lpafJ4PCoqKlJYWJj69Xv5x19ycrLi4+OtJSEhQZJUXV2tvLw8rV27VrGxscrKylJzc7Ot65PWrVunnJwc5eXlKTExUSEhIUpPT9egQYOsMcXFxXI6nRo/frxGjBih69ev9+xFAAD0GYd5lSduAwAAW549e6a4uDhlZ2dr48aNgS4HAPAPcY0UAACv0bVr13T48GHNnDlTHR0d+v7773XlyhUtWLAg0KUBAGzg1D4AAF6jfv36adu2bXr//fc1ffp0tbS0qK6uTnFxcYEuDQBgA6f2AQAAAIBNHJECAAAAAJsIUgAAAABgE0EKAAAAAGwiSAEAAACATQQpAAAAALCJIAUAAAAANhGkAAAAAMAmghQAAAAA2PQ/Wabl4B1FGbIAAAAASUVORK5CYII=",
      "text/plain": [
       "<Figure size 1000x600 with 1 Axes>"
      ]
     },
     "metadata": {},
     "output_type": "display_data"
    },
    {
     "data": {
      "image/png": "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",
      "text/plain": [
       "<Figure size 1200x600 with 1 Axes>"
      ]
     },
     "metadata": {},
     "output_type": "display_data"
    }
   ],
   "source": [
    "# Гистограмма длины имени\n",
    "plt.figure(figsize=(10, 6))\n",
    "sns.histplot(df_data['name_length'], bins=20, kde=True)\n",
    "plt.title(\"Distribution of Name Length\")\n",
    "plt.xlabel(\"Name Length\")\n",
    "plt.ylabel(\"Frequency\")\n",
    "plt.show()\n",
    "\n",
    "# Гистограмма распределения титулов\n",
    "plt.figure(figsize=(12, 6))\n",
    "sns.countplot(y='title', data=df_data, order=df_data['title'].value_counts().index)\n",
    "plt.title(\"Distribution of Titles\")\n",
    "plt.xlabel(\"Frequency\")\n",
    "plt.ylabel(\"Title\")\n",
    "plt.show()"
   ]
  },
  {
   "cell_type": "markdown",
   "id": "0a6905ee-d43d-4a83-afbf-6754a75ad20b",
   "metadata": {},
   "source": [
    "**Проверим присутствуют ли отрицательные возраста в датасете**"
   ]
  },
  {
   "cell_type": "code",
   "execution_count": 10,
   "id": "9497c8d0-e72d-4f55-aca2-16429a93ecb5",
   "metadata": {},
   "outputs": [
    {
     "name": "stdout",
     "output_type": "stream",
     "text": [
      "0\n"
     ]
    }
   ],
   "source": [
    "print((df_data['age'] < 0).sum())"
   ]
  },
  {
   "cell_type": "code",
   "execution_count": null,
   "id": "55dde23a-29b8-4128-96d5-e855522f11be",
   "metadata": {},
   "outputs": [],
   "source": []
  },
  {
   "cell_type": "markdown",
   "id": "5a7575eb-e501-44ba-8899-763cafee5234",
   "metadata": {},
   "source": [
    "**Поменяем категории признаков**"
   ]
  },
  {
   "cell_type": "code",
   "execution_count": 11,
   "id": "88d3ab94-f01b-4db8-bf3a-05627b684210",
   "metadata": {},
   "outputs": [],
   "source": [
    "df_data['pclass'] = df_data['pclass'].astype('category')\n",
    "df_data['sex'] = df_data['sex'].astype('category')\n",
    "df_data['embarked'] = df_data['embarked'].astype('category')\n",
    "df_data['title'] = df_data['title'].astype('category')"
   ]
  },
  {
   "cell_type": "code",
   "execution_count": 12,
   "id": "89d80261-0316-44e2-bcdd-8c72235f890d",
   "metadata": {},
   "outputs": [
    {
     "data": {
      "text/plain": [
       "ID                  int64\n",
       "survived            int64\n",
       "pclass           category\n",
       "sex              category\n",
       "age               float64\n",
       "sibsp               int64\n",
       "parch               int64\n",
       "ticket             object\n",
       "fare              float64\n",
       "embarked         category\n",
       "cabin_section      object\n",
       "name_length         int64\n",
       "title            category\n",
       "dtype: object"
      ]
     },
     "execution_count": 12,
     "metadata": {},
     "output_type": "execute_result"
    }
   ],
   "source": [
    "df_data.dtypes"
   ]
  },
  {
   "cell_type": "markdown",
   "id": "07395c5c-764e-40d2-8620-f3bb90411581",
   "metadata": {},
   "source": [
    "**Заменим пол каждого человека на 1 если мужчина и 0 если женщина**"
   ]
  },
  {
   "cell_type": "code",
   "execution_count": 13,
   "id": "2c8b7a1a-d839-4e1c-8899-52418e91c224",
   "metadata": {},
   "outputs": [
    {
     "name": "stdout",
     "output_type": "stream",
     "text": [
      "Updated 'sex' column: 0    1\n",
      "1    1\n",
      "2    1\n",
      "3    1\n",
      "4    1\n",
      "Name: sex, dtype: category\n",
      "Categories (2, int64): [0, 1]\n"
     ]
    }
   ],
   "source": [
    "# Замена пола на числовое значение\n",
    "df_data['sex'] = df_data['sex'].map({'male': 1, 'female': 0})\n",
    "\n",
    "# Проверка изменений\n",
    "print(\"Updated 'sex' column:\", df_data['sex'].head())"
   ]
  },
  {
   "cell_type": "markdown",
   "id": "79493e25-436b-4b07-861a-ec9dc0b20dd3",
   "metadata": {},
   "source": [
    "**Проверим какие данные у нас в признаке 'ticket'**"
   ]
  },
  {
   "cell_type": "code",
   "execution_count": 14,
   "id": "90b8cc6e-54b4-46dc-aa5c-26b3d506318d",
   "metadata": {},
   "outputs": [
    {
     "data": {
      "text/plain": [
       "0     C.A. 31030\n",
       "1         349911\n",
       "2           2697\n",
       "3           7534\n",
       "4         230080\n",
       "5          12749\n",
       "6       PC 17760\n",
       "7       PC 17477\n",
       "8         349243\n",
       "9         237798\n",
       "10        349910\n",
       "11       CA 2144\n",
       "12        226875\n",
       "13          2223\n",
       "14      PC 17597\n",
       "15      PC 17604\n",
       "16        349204\n",
       "17         33638\n",
       "18        347743\n",
       "19         28664\n",
       "Name: ticket, dtype: object"
      ]
     },
     "execution_count": 14,
     "metadata": {},
     "output_type": "execute_result"
    }
   ],
   "source": [
    "df_data['ticket'].head(20)"
   ]
  },
  {
   "cell_type": "markdown",
   "id": "92c39757-8d7f-4dca-ab08-cd052284d306",
   "metadata": {},
   "source": [
    "**Преобразуем данные о билетах**"
   ]
  },
  {
   "cell_type": "code",
   "execution_count": 15,
   "id": "734de7a7-f33c-4f12-96b8-9a57738ec071",
   "metadata": {
    "editable": true,
    "slideshow": {
     "slide_type": ""
    },
    "tags": []
   },
   "outputs": [
    {
     "name": "stdout",
     "output_type": "stream",
     "text": [
      "    ticket_prefix  ticket_length\n",
      "0               C             10\n",
      "1        NoPrefix              6\n",
      "2        NoPrefix              4\n",
      "3        NoPrefix              4\n",
      "4        NoPrefix              6\n",
      "..            ...            ...\n",
      "995      NoPrefix              6\n",
      "996      NoPrefix              6\n",
      "997      NoPrefix              5\n",
      "998      NoPrefix              6\n",
      "999      NoPrefix              6\n",
      "\n",
      "[1000 rows x 2 columns]\n"
     ]
    }
   ],
   "source": [
    "# Извлечение буквенного префикса из билета\n",
    "df_data['ticket_prefix'] = df_data['ticket'].str.extract(r'([A-Za-z]+)', expand=False)\n",
    "df_data['ticket_prefix'] = df_data['ticket_prefix'].fillna('NoPrefix')  # Префиксы, которых нет, обозначаем как NoPrefix\n",
    "\n",
    "# Сгруппируем редкие префиксы в категорию \"Other\"\n",
    "prefix_counts = df_data['ticket_prefix'].value_counts()\n",
    "rare_prefixes = prefix_counts[prefix_counts < 10].index  # Порог для редкости можно настроить\n",
    "df_data['ticket_prefix'] = df_data['ticket_prefix'].replace(rare_prefixes, 'Other')\n",
    "\n",
    "# Извлечение длины номера билета\n",
    "df_data['ticket_length'] = df_data['ticket'].apply(len)\n",
    "\n",
    "# Удаление оригинального столбца `ticket`, так как мы извлекли нужные признаки\n",
    "df_data = df_data.drop(columns=['ticket'])\n",
    "\n",
    "# Проверка изменений\n",
    "print(df_data[['ticket_prefix', 'ticket_length']])"
   ]
  },
  {
   "cell_type": "code",
   "execution_count": 16,
   "id": "3280eaad-705c-4988-a8a7-a2d9054ebe7f",
   "metadata": {},
   "outputs": [],
   "source": [
    "categorical_columns = ['pclass', 'sex', 'embarked', 'cabin_section', 'title', 'ticket_prefix']\n",
    "for col in categorical_columns:\n",
    "    if col in df_data.columns:\n",
    "        df_data[col] = df_data[col].astype('category')\n",
    "\n",
    "\n",
    "# Кодирование категориальных данных\n",
    "existing_columns = [col for col in categorical_columns if col in df_data.columns]\n",
    "df_data = pd.get_dummies(df_data, columns=existing_columns, drop_first=True)"
   ]
  },
  {
   "cell_type": "code",
   "execution_count": 17,
   "id": "4588e229-d0e0-4ebb-8f16-a00dc24151c5",
   "metadata": {},
   "outputs": [
    {
     "name": "stdout",
     "output_type": "stream",
     "text": [
      "<class 'pandas.core.frame.DataFrame'>\n",
      "RangeIndex: 1000 entries, 0 to 999\n",
      "Data columns (total 47 columns):\n",
      " #   Column                  Non-Null Count  Dtype  \n",
      "---  ------                  --------------  -----  \n",
      " 0   ID                      1000 non-null   int64  \n",
      " 1   survived                1000 non-null   int64  \n",
      " 2   age                     796 non-null    float64\n",
      " 3   sibsp                   1000 non-null   int64  \n",
      " 4   parch                   1000 non-null   int64  \n",
      " 5   fare                    1000 non-null   float64\n",
      " 6   name_length             1000 non-null   int64  \n",
      " 7   ticket_length           1000 non-null   int64  \n",
      " 8   pclass_2                1000 non-null   bool   \n",
      " 9   pclass_3                1000 non-null   bool   \n",
      " 10  sex_1                   1000 non-null   bool   \n",
      " 11  embarked_Q              1000 non-null   bool   \n",
      " 12  embarked_S              1000 non-null   bool   \n",
      " 13  cabin_section_B         1000 non-null   bool   \n",
      " 14  cabin_section_C         1000 non-null   bool   \n",
      " 15  cabin_section_D         1000 non-null   bool   \n",
      " 16  cabin_section_E         1000 non-null   bool   \n",
      " 17  cabin_section_F         1000 non-null   bool   \n",
      " 18  cabin_section_G         1000 non-null   bool   \n",
      " 19  cabin_section_T         1000 non-null   bool   \n",
      " 20  cabin_section_Unknown   1000 non-null   bool   \n",
      " 21  title_Col               1000 non-null   bool   \n",
      " 22  title_Countess          1000 non-null   bool   \n",
      " 23  title_Don               1000 non-null   bool   \n",
      " 24  title_Dona              1000 non-null   bool   \n",
      " 25  title_Dr                1000 non-null   bool   \n",
      " 26  title_Lady              1000 non-null   bool   \n",
      " 27  title_Master            1000 non-null   bool   \n",
      " 28  title_Miss              1000 non-null   bool   \n",
      " 29  title_Mlle              1000 non-null   bool   \n",
      " 30  title_Mme               1000 non-null   bool   \n",
      " 31  title_Mr                1000 non-null   bool   \n",
      " 32  title_Mrs               1000 non-null   bool   \n",
      " 33  title_Ms                1000 non-null   bool   \n",
      " 34  title_Rev               1000 non-null   bool   \n",
      " 35  title_Sir               1000 non-null   bool   \n",
      " 36  ticket_prefix_C         1000 non-null   bool   \n",
      " 37  ticket_prefix_CA        1000 non-null   bool   \n",
      " 38  ticket_prefix_F         1000 non-null   bool   \n",
      " 39  ticket_prefix_NoPrefix  1000 non-null   bool   \n",
      " 40  ticket_prefix_Other     1000 non-null   bool   \n",
      " 41  ticket_prefix_PC        1000 non-null   bool   \n",
      " 42  ticket_prefix_S         1000 non-null   bool   \n",
      " 43  ticket_prefix_SC        1000 non-null   bool   \n",
      " 44  ticket_prefix_SOTON     1000 non-null   bool   \n",
      " 45  ticket_prefix_STON      1000 non-null   bool   \n",
      " 46  ticket_prefix_W         1000 non-null   bool   \n",
      "dtypes: bool(39), float64(2), int64(6)\n",
      "memory usage: 100.7 KB\n"
     ]
    }
   ],
   "source": [
    "df_data.info()"
   ]
  },
  {
   "cell_type": "markdown",
   "id": "c331fabd-c72b-4556-96f3-44a4a5335d8c",
   "metadata": {},
   "source": [
    "# Мы закончили подготовку данных к работе, теперь можем приступать к тренировке модели "
   ]
  },
  {
   "cell_type": "markdown",
   "id": "de7f86c1-8337-4965-bbc6-d0e2625fb7b8",
   "metadata": {},
   "source": [
    "**Разделение на треноваци, валидачни и тестоваци дату**"
   ]
  },
  {
   "cell_type": "code",
   "execution_count": 37,
   "id": "d01adf40-4a5e-4677-b4db-a3c8e53b4827",
   "metadata": {},
   "outputs": [
    {
     "name": "stdout",
     "output_type": "stream",
     "text": [
      "Training set size: (700, 46)\n",
      "Validation set size: (200, 46)\n",
      "Test set size: (100, 46)\n",
      "Missing values in training set: ID                          0\n",
      "age                       148\n",
      "sibsp                       0\n",
      "parch                       0\n",
      "fare                        0\n",
      "name_length                 0\n",
      "ticket_length               0\n",
      "pclass_2                    0\n",
      "pclass_3                    0\n",
      "sex_1                       0\n",
      "embarked_Q                  0\n",
      "embarked_S                  0\n",
      "cabin_section_B             0\n",
      "cabin_section_C             0\n",
      "cabin_section_D             0\n",
      "cabin_section_E             0\n",
      "cabin_section_F             0\n",
      "cabin_section_G             0\n",
      "cabin_section_T             0\n",
      "cabin_section_Unknown       0\n",
      "title_Col                   0\n",
      "title_Countess              0\n",
      "title_Don                   0\n",
      "title_Dona                  0\n",
      "title_Dr                    0\n",
      "title_Lady                  0\n",
      "title_Master                0\n",
      "title_Miss                  0\n",
      "title_Mlle                  0\n",
      "title_Mme                   0\n",
      "title_Mr                    0\n",
      "title_Mrs                   0\n",
      "title_Ms                    0\n",
      "title_Rev                   0\n",
      "title_Sir                   0\n",
      "ticket_prefix_C             0\n",
      "ticket_prefix_CA            0\n",
      "ticket_prefix_F             0\n",
      "ticket_prefix_NoPrefix      0\n",
      "ticket_prefix_Other         0\n",
      "ticket_prefix_PC            0\n",
      "ticket_prefix_S             0\n",
      "ticket_prefix_SC            0\n",
      "ticket_prefix_SOTON         0\n",
      "ticket_prefix_STON          0\n",
      "ticket_prefix_W             0\n",
      "dtype: int64\n",
      "Missing values in validation set: ID                         0\n",
      "age                       36\n",
      "sibsp                      0\n",
      "parch                      0\n",
      "fare                       0\n",
      "name_length                0\n",
      "ticket_length              0\n",
      "pclass_2                   0\n",
      "pclass_3                   0\n",
      "sex_1                      0\n",
      "embarked_Q                 0\n",
      "embarked_S                 0\n",
      "cabin_section_B            0\n",
      "cabin_section_C            0\n",
      "cabin_section_D            0\n",
      "cabin_section_E            0\n",
      "cabin_section_F            0\n",
      "cabin_section_G            0\n",
      "cabin_section_T            0\n",
      "cabin_section_Unknown      0\n",
      "title_Col                  0\n",
      "title_Countess             0\n",
      "title_Don                  0\n",
      "title_Dona                 0\n",
      "title_Dr                   0\n",
      "title_Lady                 0\n",
      "title_Master               0\n",
      "title_Miss                 0\n",
      "title_Mlle                 0\n",
      "title_Mme                  0\n",
      "title_Mr                   0\n",
      "title_Mrs                  0\n",
      "title_Ms                   0\n",
      "title_Rev                  0\n",
      "title_Sir                  0\n",
      "ticket_prefix_C            0\n",
      "ticket_prefix_CA           0\n",
      "ticket_prefix_F            0\n",
      "ticket_prefix_NoPrefix     0\n",
      "ticket_prefix_Other        0\n",
      "ticket_prefix_PC           0\n",
      "ticket_prefix_S            0\n",
      "ticket_prefix_SC           0\n",
      "ticket_prefix_SOTON        0\n",
      "ticket_prefix_STON         0\n",
      "ticket_prefix_W            0\n",
      "dtype: int64\n",
      "Missing values in test set: ID                         0\n",
      "age                       20\n",
      "sibsp                      0\n",
      "parch                      0\n",
      "fare                       0\n",
      "name_length                0\n",
      "ticket_length              0\n",
      "pclass_2                   0\n",
      "pclass_3                   0\n",
      "sex_1                      0\n",
      "embarked_Q                 0\n",
      "embarked_S                 0\n",
      "cabin_section_B            0\n",
      "cabin_section_C            0\n",
      "cabin_section_D            0\n",
      "cabin_section_E            0\n",
      "cabin_section_F            0\n",
      "cabin_section_G            0\n",
      "cabin_section_T            0\n",
      "cabin_section_Unknown      0\n",
      "title_Col                  0\n",
      "title_Countess             0\n",
      "title_Don                  0\n",
      "title_Dona                 0\n",
      "title_Dr                   0\n",
      "title_Lady                 0\n",
      "title_Master               0\n",
      "title_Miss                 0\n",
      "title_Mlle                 0\n",
      "title_Mme                  0\n",
      "title_Mr                   0\n",
      "title_Mrs                  0\n",
      "title_Ms                   0\n",
      "title_Rev                  0\n",
      "title_Sir                  0\n",
      "ticket_prefix_C            0\n",
      "ticket_prefix_CA           0\n",
      "ticket_prefix_F            0\n",
      "ticket_prefix_NoPrefix     0\n",
      "ticket_prefix_Other        0\n",
      "ticket_prefix_PC           0\n",
      "ticket_prefix_S            0\n",
      "ticket_prefix_SC           0\n",
      "ticket_prefix_SOTON        0\n",
      "ticket_prefix_STON         0\n",
      "ticket_prefix_W            0\n",
      "dtype: int64\n"
     ]
    }
   ],
   "source": [
    "# Отделяем целевой столбец (например, 'survived') от признаков\n",
    "y = df_data['survived']\n",
    "X = df_data.drop(columns=['survived'], errors='ignore')\n",
    "\n",
    "# Разделение данных на тренировочные и временные (валидация + тест) наборы\n",
    "X_train, X_temp, y_train, y_temp = train_test_split(X, y, test_size=0.3, random_state=333)\n",
    "\n",
    "# Разделение временного набора на валидационный и тестовый наборы\n",
    "X_val, X_test, y_val, y_test = train_test_split(X_temp, y_temp, test_size=1/3, random_state=333)\n",
    "\n",
    "# Проверка размеров наборов данных\n",
    "print(\"Training set size:\", X_train.shape)\n",
    "print(\"Validation set size:\", X_val.shape)\n",
    "print(\"Test set size:\", X_test.shape)\n",
    "\n",
    "# Проверьте наличие пропусков\n",
    "print(\"Missing values in training set:\", X_train.isnull().sum())\n",
    "print(\"Missing values in validation set:\", X_val.isnull().sum())\n",
    "print(\"Missing values in test set:\", X_test.isnull().sum())"
   ]
  },
  {
   "cell_type": "code",
   "execution_count": null,
   "id": "484fb990-2953-4d6c-94e6-7ea57ce304f3",
   "metadata": {},
   "outputs": [],
   "source": []
  },
  {
   "cell_type": "markdown",
   "id": "19b30c73-0834-4f03-9ba3-d043213a945f",
   "metadata": {},
   "source": [
    "**Рассчёт медианы для каждого набора**"
   ]
  },
  {
   "cell_type": "code",
   "execution_count": 38,
   "id": "c0071eb1-1815-42c8-b4a8-bedb919b3922",
   "metadata": {},
   "outputs": [
    {
     "name": "stdout",
     "output_type": "stream",
     "text": [
      "Missing values in training set: ID                        0\n",
      "age                       0\n",
      "sibsp                     0\n",
      "parch                     0\n",
      "fare                      0\n",
      "name_length               0\n",
      "ticket_length             0\n",
      "pclass_2                  0\n",
      "pclass_3                  0\n",
      "sex_1                     0\n",
      "embarked_Q                0\n",
      "embarked_S                0\n",
      "cabin_section_B           0\n",
      "cabin_section_C           0\n",
      "cabin_section_D           0\n",
      "cabin_section_E           0\n",
      "cabin_section_F           0\n",
      "cabin_section_G           0\n",
      "cabin_section_T           0\n",
      "cabin_section_Unknown     0\n",
      "title_Col                 0\n",
      "title_Countess            0\n",
      "title_Don                 0\n",
      "title_Dona                0\n",
      "title_Dr                  0\n",
      "title_Lady                0\n",
      "title_Master              0\n",
      "title_Miss                0\n",
      "title_Mlle                0\n",
      "title_Mme                 0\n",
      "title_Mr                  0\n",
      "title_Mrs                 0\n",
      "title_Ms                  0\n",
      "title_Rev                 0\n",
      "title_Sir                 0\n",
      "ticket_prefix_C           0\n",
      "ticket_prefix_CA          0\n",
      "ticket_prefix_F           0\n",
      "ticket_prefix_NoPrefix    0\n",
      "ticket_prefix_Other       0\n",
      "ticket_prefix_PC          0\n",
      "ticket_prefix_S           0\n",
      "ticket_prefix_SC          0\n",
      "ticket_prefix_SOTON       0\n",
      "ticket_prefix_STON        0\n",
      "ticket_prefix_W           0\n",
      "dtype: int64\n",
      "Missing values in validation set: ID                        0\n",
      "age                       0\n",
      "sibsp                     0\n",
      "parch                     0\n",
      "fare                      0\n",
      "name_length               0\n",
      "ticket_length             0\n",
      "pclass_2                  0\n",
      "pclass_3                  0\n",
      "sex_1                     0\n",
      "embarked_Q                0\n",
      "embarked_S                0\n",
      "cabin_section_B           0\n",
      "cabin_section_C           0\n",
      "cabin_section_D           0\n",
      "cabin_section_E           0\n",
      "cabin_section_F           0\n",
      "cabin_section_G           0\n",
      "cabin_section_T           0\n",
      "cabin_section_Unknown     0\n",
      "title_Col                 0\n",
      "title_Countess            0\n",
      "title_Don                 0\n",
      "title_Dona                0\n",
      "title_Dr                  0\n",
      "title_Lady                0\n",
      "title_Master              0\n",
      "title_Miss                0\n",
      "title_Mlle                0\n",
      "title_Mme                 0\n",
      "title_Mr                  0\n",
      "title_Mrs                 0\n",
      "title_Ms                  0\n",
      "title_Rev                 0\n",
      "title_Sir                 0\n",
      "ticket_prefix_C           0\n",
      "ticket_prefix_CA          0\n",
      "ticket_prefix_F           0\n",
      "ticket_prefix_NoPrefix    0\n",
      "ticket_prefix_Other       0\n",
      "ticket_prefix_PC          0\n",
      "ticket_prefix_S           0\n",
      "ticket_prefix_SC          0\n",
      "ticket_prefix_SOTON       0\n",
      "ticket_prefix_STON        0\n",
      "ticket_prefix_W           0\n",
      "dtype: int64\n",
      "Missing values in test set: ID                        0\n",
      "age                       0\n",
      "sibsp                     0\n",
      "parch                     0\n",
      "fare                      0\n",
      "name_length               0\n",
      "ticket_length             0\n",
      "pclass_2                  0\n",
      "pclass_3                  0\n",
      "sex_1                     0\n",
      "embarked_Q                0\n",
      "embarked_S                0\n",
      "cabin_section_B           0\n",
      "cabin_section_C           0\n",
      "cabin_section_D           0\n",
      "cabin_section_E           0\n",
      "cabin_section_F           0\n",
      "cabin_section_G           0\n",
      "cabin_section_T           0\n",
      "cabin_section_Unknown     0\n",
      "title_Col                 0\n",
      "title_Countess            0\n",
      "title_Don                 0\n",
      "title_Dona                0\n",
      "title_Dr                  0\n",
      "title_Lady                0\n",
      "title_Master              0\n",
      "title_Miss                0\n",
      "title_Mlle                0\n",
      "title_Mme                 0\n",
      "title_Mr                  0\n",
      "title_Mrs                 0\n",
      "title_Ms                  0\n",
      "title_Rev                 0\n",
      "title_Sir                 0\n",
      "ticket_prefix_C           0\n",
      "ticket_prefix_CA          0\n",
      "ticket_prefix_F           0\n",
      "ticket_prefix_NoPrefix    0\n",
      "ticket_prefix_Other       0\n",
      "ticket_prefix_PC          0\n",
      "ticket_prefix_S           0\n",
      "ticket_prefix_SC          0\n",
      "ticket_prefix_SOTON       0\n",
      "ticket_prefix_STON        0\n",
      "ticket_prefix_W           0\n",
      "dtype: int64\n"
     ]
    }
   ],
   "source": [
    "# Вычисляем медиану возраста из тренировочных данных\n",
    "median_age_train = X_train['age'].median()\n",
    "median_age_test = X_test['age'].median()\n",
    "median_age_val = X_val['age'].median()\n",
    "\n",
    "# Заполняем пропуски в age для всех наборов данных\n",
    "X_train['age'] = X_train['age'].fillna(median_age_train)\n",
    "X_val['age'] = X_val['age'].fillna(median_age_val)  # Используем медиану из тренировочных данных\n",
    "X_test['age'] = X_test['age'].fillna(median_age_test)  # Используем медиану из тренировочных данных\n",
    "\n",
    "# Проверка на пропуски после заполнения\n",
    "print(\"Missing values in training set:\", X_train.isnull().sum())\n",
    "print(\"Missing values in validation set:\", X_val.isnull().sum())\n",
    "print(\"Missing values in test set:\", X_test.isnull().sum())\n"
   ]
  },
  {
   "cell_type": "markdown",
   "id": "d133d6a8-f3cd-487c-8cf7-9d1dcc5802a8",
   "metadata": {},
   "source": [
    "**asdasdsa**"
   ]
  },
  {
   "cell_type": "code",
   "execution_count": 39,
   "id": "a0f371d4-c4b3-455c-bba7-8222680fc8a3",
   "metadata": {},
   "outputs": [
    {
     "name": "stdout",
     "output_type": "stream",
     "text": [
      "Лучшие параметры для решающего дерева: {'max_depth': None, 'min_samples_leaf': 2, 'min_samples_split': 10}\n"
     ]
    }
   ],
   "source": [
    "from sklearn.tree import DecisionTreeClassifier\n",
    "from sklearn.model_selection import GridSearchCV\n",
    "from sklearn.metrics import f1_score, roc_auc_score, accuracy_score\n",
    "\n",
    "\n",
    "# Шаг 1: Определение параметров для настройки решающего дерева\n",
    "tree_params = {\n",
    "    'max_depth': [3, 5, 10, None],  # Глубина дерева\n",
    "    'min_samples_split': [2, 5, 10],  # Минимальное количество образцов для разделения\n",
    "    'min_samples_leaf': [1, 2, 5],     # Минимальное количество образцов в листе\n",
    "}\n",
    "\n",
    "# Шаг 2: Создание и настройка модели\n",
    "decision_tree = DecisionTreeClassifier(random_state=333)\n",
    "grid_search = GridSearchCV(decision_tree, tree_params, scoring='f1', cv=5)\n",
    "\n",
    "# Шаг 3: Обучение модели с использованием GridSearchCV\n",
    "grid_search.fit(X_train, y_train)\n",
    "\n",
    "# Шаг 4: Извлечение лучшей модели и её параметров\n",
    "best_tree = grid_search.best_estimator_\n",
    "best_params = grid_search.best_params_\n",
    "print(\"Лучшие параметры для решающего дерева:\", best_params)"
   ]
  },
  {
   "cell_type": "code",
   "execution_count": 40,
   "id": "d831b7cb-7819-4df2-9bf4-f40ddb872621",
   "metadata": {},
   "outputs": [
    {
     "name": "stdout",
     "output_type": "stream",
     "text": [
      "Validation F1 Score: 0.7838\n",
      "Validation AUC: 0.8357\n",
      "Validation Accuracy: 0.8400\n"
     ]
    },
    {
     "data": {
      "image/png": "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",
      "text/plain": [
       "<Figure size 640x480 with 1 Axes>"
      ]
     },
     "metadata": {},
     "output_type": "display_data"
    }
   ],
   "source": [
    "# Объединение данных и кодирование\n",
    "X_temp = pd.concat([X_train, X_val, X_test], ignore_index=True)\n",
    "X_temp = pd.get_dummies(X_temp, drop_first=True)\n",
    "\n",
    "# Разделение обратно на тренировочные, валидационные и тестовые наборы\n",
    "X_train = X_temp.iloc[:X_train.shape[0]]\n",
    "X_val = X_temp.iloc[X_train.shape[0]:X_train.shape[0] + X_val.shape[0]]\n",
    "X_test = X_temp.iloc[X_train.shape[0] + X_val.shape[0]:]\n",
    "\n",
    "# Убедитесь, что все наборы имеют одинаковые столбцы\n",
    "X_train, X_val = X_train.align(X_val, join='outer', axis=1, fill_value=0)\n",
    "X_train, X_test = X_train.align(X_test, join='outer', axis=1, fill_value=0)\n",
    "\n",
    "# Обучение модели\n",
    "best_tree = DecisionTreeClassifier(max_depth=5, random_state=42)\n",
    "best_tree.fit(X_train, y_train)\n",
    "\n",
    "# Оценка на валидационном наборе\n",
    "y_val_pred = best_tree.predict(X_val)\n",
    "y_val_proba = best_tree.predict_proba(X_val)[:, 1]  # Вероятности для класса 1\n",
    "\n",
    "# Вычисление метрик\n",
    "f1_val = f1_score(y_val, y_val_pred)\n",
    "auc_val = roc_auc_score(y_val, y_val_proba)\n",
    "accuracy_val = accuracy_score(y_val, y_val_pred)\n",
    "\n",
    "print(f\"Validation F1 Score: {f1_val:.4f}\")\n",
    "print(f\"Validation AUC: {auc_val:.4f}\")\n",
    "print(f\"Validation Accuracy: {accuracy_val:.4f}\")\n",
    "\n",
    "# ROC-кривая на валидационном наборе\n",
    "fpr, tpr, thresholds = roc_curve(y_val, y_val_proba)\n",
    "plt.figure()\n",
    "plt.plot(fpr, tpr, label=f\"AUC = {auc_val:.4f}\")\n",
    "plt.plot([0, 1], [0, 1], linestyle='--')\n",
    "plt.xlabel(\"False Positive Rate\")\n",
    "plt.ylabel(\"True Positive Rate\")\n",
    "plt.title(\"ROC Curve on Validation Set\")\n",
    "plt.legend(loc=\"lower right\")\n",
    "plt.show()\n"
   ]
  },
  {
   "cell_type": "code",
   "execution_count": null,
   "id": "02119059-74ee-419d-94d2-4602235272c3",
   "metadata": {},
   "outputs": [],
   "source": []
  },
  {
   "cell_type": "code",
   "execution_count": 41,
   "id": "46a635ef-d0e9-4b8f-b2a4-b775a40b3dd0",
   "metadata": {},
   "outputs": [
    {
     "data": {
      "image/png": "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",
      "text/plain": [
       "<Figure size 1000x600 with 1 Axes>"
      ]
     },
     "metadata": {},
     "output_type": "display_data"
    }
   ],
   "source": [
    "from sklearn.neighbors import KNeighborsClassifier\n",
    "from sklearn.preprocessing import StandardScaler\n",
    "# Масштабирование данных\n",
    "scaler = StandardScaler()\n",
    "X_train_scaled = scaler.fit_transform(X_train)\n",
    "X_val_scaled = scaler.transform(X_val)\n",
    "\n",
    "# Переменные для хранения точности\n",
    "val_acc = []\n",
    "train_acc = []\n",
    "\n",
    "# Диапазон значений для k\n",
    "kneighbors = range(3, 15)\n",
    "\n",
    "# Перебор значений k и оценка точности на тренировочном и валидационном наборах\n",
    "for k in kneighbors:\n",
    "    clf = KNeighborsClassifier(n_neighbors=k)\n",
    "    clf.fit(X_train_scaled, y_train)\n",
    "    train_acc.append(clf.score(X_train_scaled, y_train))  # Точность на тренировочном наборе\n",
    "    val_acc.append(clf.score(X_val_scaled, y_val))        # Точность на валидационном наборе\n",
    "\n",
    "# Построение графика зависимости точности от количества соседей\n",
    "plt.figure(figsize=(10, 6))\n",
    "plt.plot(kneighbors, train_acc, 'or-', label='Train Accuracy')  # o: точки, r: красный, -: линия\n",
    "plt.plot(kneighbors, val_acc, 'ob-', label='Validation Accuracy')  # o: точки, b: синий, -: линия\n",
    "plt.xlabel('Number of Neighbors (k)')\n",
    "plt.ylabel('Accuracy')\n",
    "plt.title('Accuracy vs Number of Neighbors (k)')\n",
    "plt.legend()\n",
    "plt.show()"
   ]
  },
  {
   "cell_type": "code",
   "execution_count": 44,
   "id": "af6ad8fc-aa4a-4e4f-bd62-b20db590eea3",
   "metadata": {},
   "outputs": [
    {
     "name": "stdout",
     "output_type": "stream",
     "text": [
      "Лучшие параметры для kNN: {'n_neighbors': 9, 'weights': 'distance'}\n"
     ]
    }
   ],
   "source": [
    "from sklearn.neighbors import KNeighborsClassifier\n",
    "from sklearn.model_selection import GridSearchCV\n",
    "from sklearn.preprocessing import StandardScaler\n",
    "\n",
    "# Шаг 1: Масштабирование данных\n",
    "scaler = StandardScaler()\n",
    "X_train_scaled = scaler.fit_transform(X_train)\n",
    "X_val_scaled = scaler.transform(X_val)\n",
    "X_test_scaled = scaler.transform(X_test)\n",
    "\n",
    "# Шаг 2: Определение параметров для настройки модели kNN\n",
    "knn_params = {\n",
    "    'n_neighbors': [3, 5, 7, 9, 11],  # Количество соседей\n",
    "    'weights': ['uniform', 'distance'],  # Способы взвешивания\n",
    "}\n",
    "\n",
    "# Шаг 3: Создание и обучение модели kNN с GridSearchCV\n",
    "knn_model = KNeighborsClassifier()\n",
    "knn_grid = GridSearchCV(knn_model, knn_params, scoring='f1', cv=5)\n",
    "knn_grid.fit(X_train_scaled, y_train)\n",
    "\n",
    "# Лучшая модель и её параметры\n",
    "best_knn = knn_grid.best_estimator_\n",
    "print(\"Лучшие параметры для kNN:\", knn_grid.best_params_)\n"
   ]
  },
  {
   "cell_type": "code",
   "execution_count": 45,
   "id": "c7b8467a-f1ce-4254-8ace-096f08e33747",
   "metadata": {},
   "outputs": [
    {
     "name": "stdout",
     "output_type": "stream",
     "text": [
      "Validation F1 Score (kNN): 0.6853\n",
      "Validation AUC (kNN): 0.8320\n",
      "Validation Accuracy (kNN): 0.7750\n"
     ]
    }
   ],
   "source": [
    "# Оценка модели на валидационном наборе\n",
    "y_val_pred_knn = best_knn.predict(X_val_scaled)\n",
    "f1_val_knn = f1_score(y_val, y_val_pred_knn)\n",
    "auc_val_knn = roc_auc_score(y_val, best_knn.predict_proba(X_val_scaled)[:, 1])\n",
    "accuracy_val_knn = accuracy_score(y_val, y_val_pred_knn)\n",
    "\n",
    "print(f\"Validation F1 Score (kNN): {f1_val_knn:.4f}\")\n",
    "print(f\"Validation AUC (kNN): {auc_val_knn:.4f}\")\n",
    "print(f\"Validation Accuracy (kNN): {accuracy_val_knn:.4f}\")\n"
   ]
  },
  {
   "cell_type": "markdown",
   "id": "bde64bad-901b-4882-90a0-f3bb43fcdc3d",
   "metadata": {},
   "source": [
    "**Решающее дерево показало лучший результат чем кНН, поэтому выбираем его и тестируем на тестовых данных**"
   ]
  },
  {
   "cell_type": "code",
   "execution_count": 46,
   "id": "e3bac8be-4a83-4b5a-83fd-d976618e897c",
   "metadata": {},
   "outputs": [
    {
     "name": "stdout",
     "output_type": "stream",
     "text": [
      "Test F1 Score: 0.8000\n",
      "Test AUC: 0.8725\n",
      "Test Accuracy: 0.8600\n"
     ]
    },
    {
     "data": {
      "image/png": "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",
      "text/plain": [
       "<Figure size 640x480 with 1 Axes>"
      ]
     },
     "metadata": {},
     "output_type": "display_data"
    }
   ],
   "source": [
    "# Применяем one-hot кодирование ко всем данным сразу\n",
    "X_temp = pd.get_dummies(pd.concat([X_train, X_val, X_test]), drop_first=True)\n",
    "\n",
    "# Разделяем обратно на тренировочные, валидационные и тестовые наборы\n",
    "X_train = X_temp.iloc[:X_train.shape[0]]\n",
    "X_val = X_temp.iloc[X_train.shape[0]:X_train.shape[0] + X_val.shape[0]]\n",
    "X_test = X_temp.iloc[X_train.shape[0] + X_val.shape[0]:]\n",
    "\n",
    "# Убедимся, что все наборы имеют одинаковые столбцы\n",
    "X_train, X_val = X_train.align(X_val, join='outer', axis=1, fill_value=0)\n",
    "X_train, X_test = X_train.align(X_test, join='outer', axis=1, fill_value=0)\n",
    "\n",
    "# Теперь можно делать предсказание на тестовом наборе\n",
    "y_test_pred = best_tree.predict(X_test)\n",
    "y_test_proba = best_tree.predict_proba(X_test)[:, 1]\n",
    "\n",
    "# Оценка модели на тестовом наборе\n",
    "f1_test = f1_score(y_test, y_test_pred)\n",
    "auc_test = roc_auc_score(y_test, y_test_proba)\n",
    "accuracy_test = accuracy_score(y_test, y_test_pred)\n",
    "\n",
    "print(f\"Test F1 Score: {f1_test:.4f}\")\n",
    "print(f\"Test AUC: {auc_test:.4f}\")\n",
    "print(f\"Test Accuracy: {accuracy_test:.4f}\")\n",
    "\n",
    "# ROC-кривая на тестовом наборе\n",
    "fpr, tpr, thresholds = roc_curve(y_test, y_test_proba)\n",
    "plt.figure()\n",
    "plt.plot(fpr, tpr, label=f\"AUC = {auc_test:.4f}\")\n",
    "plt.plot([0, 1], [0, 1], linestyle='--')\n",
    "plt.xlabel(\"False Positive Rate\")\n",
    "plt.ylabel(\"True Positive Rate\")\n",
    "plt.title(\"ROC Curve on Test Set\")\n",
    "plt.legend(loc=\"lower right\")\n",
    "plt.show()"
   ]
  },
  {
   "cell_type": "code",
   "execution_count": 50,
   "id": "376d9620-7c65-440e-abc9-5362489f09ee",
   "metadata": {},
   "outputs": [
    {
     "name": "stdout",
     "output_type": "stream",
     "text": [
      "<class 'pandas.core.frame.DataFrame'>\n",
      "RangeIndex: 1000 entries, 0 to 999\n",
      "Data columns (total 47 columns):\n",
      " #   Column                  Non-Null Count  Dtype  \n",
      "---  ------                  --------------  -----  \n",
      " 0   ID                      1000 non-null   int64  \n",
      " 1   survived                1000 non-null   int64  \n",
      " 2   age                     796 non-null    float64\n",
      " 3   sibsp                   1000 non-null   int64  \n",
      " 4   parch                   1000 non-null   int64  \n",
      " 5   fare                    1000 non-null   float64\n",
      " 6   name_length             1000 non-null   int64  \n",
      " 7   ticket_length           1000 non-null   int64  \n",
      " 8   pclass_2                1000 non-null   bool   \n",
      " 9   pclass_3                1000 non-null   bool   \n",
      " 10  sex_1                   1000 non-null   bool   \n",
      " 11  embarked_Q              1000 non-null   bool   \n",
      " 12  embarked_S              1000 non-null   bool   \n",
      " 13  cabin_section_B         1000 non-null   bool   \n",
      " 14  cabin_section_C         1000 non-null   bool   \n",
      " 15  cabin_section_D         1000 non-null   bool   \n",
      " 16  cabin_section_E         1000 non-null   bool   \n",
      " 17  cabin_section_F         1000 non-null   bool   \n",
      " 18  cabin_section_G         1000 non-null   bool   \n",
      " 19  cabin_section_T         1000 non-null   bool   \n",
      " 20  cabin_section_Unknown   1000 non-null   bool   \n",
      " 21  title_Col               1000 non-null   bool   \n",
      " 22  title_Countess          1000 non-null   bool   \n",
      " 23  title_Don               1000 non-null   bool   \n",
      " 24  title_Dona              1000 non-null   bool   \n",
      " 25  title_Dr                1000 non-null   bool   \n",
      " 26  title_Lady              1000 non-null   bool   \n",
      " 27  title_Master            1000 non-null   bool   \n",
      " 28  title_Miss              1000 non-null   bool   \n",
      " 29  title_Mlle              1000 non-null   bool   \n",
      " 30  title_Mme               1000 non-null   bool   \n",
      " 31  title_Mr                1000 non-null   bool   \n",
      " 32  title_Mrs               1000 non-null   bool   \n",
      " 33  title_Ms                1000 non-null   bool   \n",
      " 34  title_Rev               1000 non-null   bool   \n",
      " 35  title_Sir               1000 non-null   bool   \n",
      " 36  ticket_prefix_C         1000 non-null   bool   \n",
      " 37  ticket_prefix_CA        1000 non-null   bool   \n",
      " 38  ticket_prefix_F         1000 non-null   bool   \n",
      " 39  ticket_prefix_NoPrefix  1000 non-null   bool   \n",
      " 40  ticket_prefix_Other     1000 non-null   bool   \n",
      " 41  ticket_prefix_PC        1000 non-null   bool   \n",
      " 42  ticket_prefix_S         1000 non-null   bool   \n",
      " 43  ticket_prefix_SC        1000 non-null   bool   \n",
      " 44  ticket_prefix_SOTON     1000 non-null   bool   \n",
      " 45  ticket_prefix_STON      1000 non-null   bool   \n",
      " 46  ticket_prefix_W         1000 non-null   bool   \n",
      "dtypes: bool(39), float64(2), int64(6)\n",
      "memory usage: 100.7 KB\n"
     ]
    }
   ],
   "source": []
  },
  {
   "cell_type": "code",
   "execution_count": 51,
   "id": "13be9a96-16cb-4e82-b66f-e17ce74796a2",
   "metadata": {},
   "outputs": [
    {
     "ename": "NameError",
     "evalue": "name 'read_csv' is not defined",
     "output_type": "error",
     "traceback": [
      "\u001b[1;31m---------------------------------------------------------------------------\u001b[0m",
      "\u001b[1;31mNameError\u001b[0m                                 Traceback (most recent call last)",
      "Cell \u001b[1;32mIn[51], line 1\u001b[0m\n\u001b[1;32m----> 1\u001b[0m df_evaluation \u001b[38;5;241m=\u001b[39m \u001b[43mread_csv\u001b[49m(\u001b[38;5;124m'\u001b[39m\u001b[38;5;124mevaluation.csv\u001b[39m\u001b[38;5;124m'\u001b[39m)\n\u001b[0;32m      2\u001b[0m df_evaluation\u001b[38;5;241m.\u001b[39minfo()\n",
      "\u001b[1;31mNameError\u001b[0m: name 'read_csv' is not defined"
     ]
    }
   ],
   "source": [
    "df_evaluation = read_csv('evaluation.csv')\n",
    "df_evaluation.info()"
   ]
  },
  {
   "cell_type": "code",
   "execution_count": null,
   "id": "8de4263b-348e-4a94-8226-982db4ceb468",
   "metadata": {},
   "outputs": [],
   "source": []
  },
  {
   "cell_type": "code",
   "execution_count": null,
   "id": "b8023d3f-0ea0-4d91-b271-52761cf79581",
   "metadata": {},
   "outputs": [],
   "source": []
  },
  {
   "cell_type": "code",
   "execution_count": null,
   "id": "81bf2237-9f42-4f9e-a9af-f9a7d5ee4651",
   "metadata": {},
   "outputs": [],
   "source": []
>>>>>>> f44b4cfdf414091b3907688ab60245b28ea9cdef
  }
 ],
 "metadata": {
  "kernelspec": {
   "display_name": "Python 3 (ipykernel)",
   "language": "python",
   "name": "python3"
  },
  "language_info": {
   "codemirror_mode": {
    "name": "ipython",
    "version": 3
   },
   "file_extension": ".py",
   "mimetype": "text/x-python",
   "name": "python",
   "nbconvert_exporter": "python",
   "pygments_lexer": "ipython3",
<<<<<<< HEAD
   "version": "3.10.11"
=======
   "version": "3.12.7"
>>>>>>> f44b4cfdf414091b3907688ab60245b28ea9cdef
  }
 },
 "nbformat": 4,
 "nbformat_minor": 5
}
