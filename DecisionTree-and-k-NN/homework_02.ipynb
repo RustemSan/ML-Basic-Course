{
 "cells": [
  {
   "cell_type": "markdown",
   "id": "0cf75ab4-bd4d-4ec2-a708-74797dbfce44",
   "metadata": {},
   "source": [
    "# Úkol č. 2 - regrese\n",
    "\n",
    "* Termíny jsou uvedeny na [courses.fit.cvut.cz/BI-ML1/homeworks/index.html](https://courses.fit.cvut.cz/BI-ML1/homeworks/index.html).\n",
    "* Pokud odevzdáte úkol po prvním termínu, ale před nejzazším termínem, budete penalizování -12 body, pozdější odevzdání je bez bodu.\n",
    "* V rámci tohoto úkolu se musíte vypořádat s regresní úlohou, s příznaky různých typů a s chybějícími hodnotami.\n",
    "* Před tím, než na nich postavíte predikční model, je třeba je nějakým způsobem převést do číselné reprezentace.\n",
    "    \n",
    "> **Úkoly jsou zadány tak, aby Vám daly prostor pro invenci. Vymyslet _jak přesně_ budete úkol řešit, je důležitou součástí zadání a originalita či nápaditost bude také hodnocena!**\n",
    "\n",
    "Využívejte buňky typu `Markdown` k vysvětlování Vašeho postupu. Za nepřehlednost budeme strhávat body.\n",
    "\n",
    "## Zdroj dat\n",
    "\n",
    "Budeme se zabývat predikcí délky dožití v různých zemích a letech.\n",
    "K dispozici máte trénovací data v souboru `data.csv` a data na vyhodnocení v souboru `evaluation.csv`.\n",
    "\n",
    "#### Seznam příznaků:\n",
    "\n",
    "* Year - Rok\n",
    "* Status - Status rozvinuté nebo rozvojové země\n",
    "* Life expectancy - Délka dožití v letech - **cílová proměnná, kterou budete predikovat**\n",
    "* Adult Mortality - Úmrtnost dospělých bez ohledu na pohlaví (pravděpodobnost, že osoby, které dosáhly věku 15 let, zemřou před dosažením věku 60 let (uvedeno na 1 000 osob)).\n",
    "* infant deaths - počet zemřelých kojenců na 1000 obyvatel\n",
    "* Alcohol - Alkohol, zaznamenaná spotřeba na obyvatele (15+) (v litrech čistého alkoholu)\n",
    "* percentage expenditure - Výdaje na zdravotnictví v procentech hrubého domácího produktu na obyvatele (%)\n",
    "* Hepatitis B - pokrytí očkováním proti hepatitidě B (HepB) u dětí ve věku 1 roku (%)\n",
    "* Measles - Spalničky - počet hlášených případů na 1000 obyvatel\n",
    "* BMI - průměrný index tělesné hmotnosti celé populace\n",
    "* under-five deaths - počet úmrtí dětí do pěti let na 1000 obyvatel\n",
    "* Polio - proočkovanost proti dětské obrně (Pol3) u dětí ve věku 1 roku (%)\n",
    "* Total expenditure - Výdaje vládních institucí na zdravotnictví jako procento celkových vládních výdajů (%)\n",
    "* Diphtheria - pokrytí očkováním proti záškrtu, tetanu a černému kašli (DTP3) u jednoletých dětí (%)\n",
    "* HIV/AIDS - počet úmrtí na 1 000 živě narozených dětí na HIV/AIDS (0-4 roky)\n",
    "* GDP - hrubý domácí produkt na obyvatele (v USD)\n",
    "* Population - počet obyvatel země\n",
    "* thinness 1-19 years - podíl dětí ve věku 10-19 let s indexem tělesné hmotnosti (BMI) menším než 2 směrodatné odchylky pod mediánem (%)\n",
    "* thinness 5-9 years - podíl dětí ve věku 5-9 let s indexem tělesné hmotnosti (BMI) menším než 2 směrodatné odchylky pod mediánem (%)\n",
    "* Income composition of resources - Index lidského rozvoje z hlediska příjmového složení zdrojů (index v rozmezí 0 až 1)\n",
    "* Schooling - počet let školní docházky (roky)\n",
    "\n",
    "\n",
    "## Pokyny k vypracování\n",
    "\n",
    "**Body zadání**, za jejichž (poctivé) vypracování získáte **25 bodů**: \n",
    "  * V notebooku načtěte data ze souboru `data.csv`. Vhodným způsobem si je rozdělte na podmnožiny, které Vám poslouží pro trénování (trénovací), porovnávání modelů (validační) a následnou predikci výkonnosti finálního modelu (testovací).\n",
    "    \n",
    "  * Proveďte základní předzpracování dat:\n",
    "    * Projděte si jednotlivé příznaky a transformujte je do vhodné podoby pro použití ve vybraném regresním modelu.\n",
    "    * Nějakým způsobem (klidně triviálním) se vypořádejte s chybějícími hodnotami. _Pozor na metodické chyby!_\n",
    "    * Můžete využívat i vizualizace. Vše stručně ale náležitě komentujte.\n",
    "<br /><br />\n",
    "  * Vytvořte **vlastní implementaci náhodného lesa**. Použijte k tomu níže předpřipravenou kostru.\n",
    "  \n",
    "  * Na připravená data postupně aplikujte Vaši předchozí implementaci modelu náhodného lesa, dále jeden z modelů **lineární regrese** nebo **hřebenové regrese**, a alespoň jeden další model podle Vašeho uvážení, přičemž pro každý z těchto modelů přiměřeně:\n",
    "    * Okomentujte vhodnost daného modelu pro daný typ úlohy.\n",
    "    * Experimentujte s normalizací (standardizace/min-max), pokud pro daný model očekáváte její příznivý vliv.\n",
    "    * Vyberte si hlavní hyperparametry k ladění a najděte jejich nejlepší hodnoty (vzhledem k RMSE).\n",
    "    * Pro model s nejlepšími hodnotami hyperparametrů na validační množině určete jeho chybu pomocí RMSE a MAE.\n",
    "    * Získané výsledky vždy řádně okomentujte.\n",
    "<br /><br />\n",
    "  * Ze všech zkoušených možností v předchozím kroku vyberte finální model a správně odhadněte, jakou chybu (RMSE) můžete očekávat na nových datech, která jste doposud neměli k dispozici. _Pozor na metodické chyby!_\n",
    "    \n",
    "  * Nakonec načtěte vyhodnocovací data ze souboru `evaluation.csv`. Pomocí finálního modelu napočítejte predikce pro tyto data. Vytvořte soubor `results.csv`, ve kterém získané predikce uložíte do sloupce **Life expectancy** a jednotlivé body identifikujete pomocí sloupců **Country** a **Year** (dodržte názvy sloupců!). Tento soubor též odevzdejte (uložte do repozitáře vedle notebooku).\n",
    "\n",
    "  * Ukázka, jak by mělo vypadat prvních několik řádků souboru `results.csv` (obecně s jinými hodnotami Life expectancy):\n",
    "  \n",
    "```\n",
    "Country,Year,Life expectancy\n",
    "Peru,2012,71.4\n",
    "Peru,2013,72.6\n",
    "...\n",
    "```\n",
    "\n",
    "\n",
    "## Poznámky k odevzdání\n",
    "\n",
    "  * Řiďte se pokyny ze stránky https://courses.fit.cvut.cz/BI-ML1/homeworks/index.html."
   ]
  },
  {
   "cell_type": "markdown",
   "id": "79977392-2878-4762-84d5-5af1d7f452ac",
   "metadata": {},
   "source": [
    " **Importing necessary libraries to complete the task**"
   ]
  },
  {
   "cell_type": "code",
   "execution_count": 32,
   "id": "56c15c56-1f59-40fe-83c3-314c0a06fa62",
   "metadata": {},
   "outputs": [],
   "source": [
    "import seaborn as sns\n",
    "import matplotlib.pyplot as plt\n",
    "import pandas as pd\n",
    "import numpy as np\n",
    "%matplotlib inline\n",
    "from sklearn.tree import DecisionTreeRegressor\n",
    "from sklearn.metrics import root_mean_squared_error, mean_absolute_error\n",
    "from sklearn.preprocessing import LabelEncoder\n",
    "from sklearn.model_selection import train_test_split\n",
    "from sklearn.model_selection import ParameterGrid\n",
    "from sklearn.preprocessing import MinMaxScaler\n",
    "from sklearn.preprocessing import StandardScaler\n",
    "import sklearn.metrics as metrics\n",
    "from sklearn.utils import resample\n",
    "\n",
    "# Global random seed for reproducibility\n",
    "RANDOM_SEED = 42\n",
    "np.random.seed(RANDOM_SEED)"
   ]
  },
  {
   "cell_type": "markdown",
   "id": "9cb53f5a-a1ff-4b3e-9e27-6e91e298c984",
   "metadata": {},
   "source": [
    "# Data Preparation"
   ]
  },
  {
   "cell_type": "markdown",
   "id": "f5ae85ab-dd0d-442d-a2f9-5156c46a7534",
   "metadata": {},
   "source": [
    " Read the data and look at the information about the data"
   ]
  },
  {
   "cell_type": "code",
   "execution_count": 33,
   "id": "3029b6c8-cf58-49a5-8d85-63815af1292f",
   "metadata": {},
   "outputs": [
    {
     "name": "stdout",
     "output_type": "stream",
     "text": [
      "<class 'pandas.core.frame.DataFrame'>\n",
      "RangeIndex: 2718 entries, 0 to 2717\n",
      "Data columns (total 22 columns):\n",
      " #   Column                           Non-Null Count  Dtype  \n",
      "---  ------                           --------------  -----  \n",
      " 0   Country                          2718 non-null   object \n",
      " 1   Year                             2718 non-null   int64  \n",
      " 2   Status                           2718 non-null   object \n",
      " 3   Life expectancy                  2718 non-null   float64\n",
      " 4   Adult Mortality                  2718 non-null   float64\n",
      " 5   infant deaths                    2718 non-null   int64  \n",
      " 6   Alcohol                          2558 non-null   float64\n",
      " 7   percentage expenditure           2718 non-null   float64\n",
      " 8   Hepatitis B                      2187 non-null   float64\n",
      " 9   Measles                          2718 non-null   int64  \n",
      " 10  BMI                              2686 non-null   float64\n",
      " 11  under-five deaths                2718 non-null   int64  \n",
      " 12  Polio                            2699 non-null   float64\n",
      " 13  Total expenditure                2526 non-null   float64\n",
      " 14  Diphtheria                       2699 non-null   float64\n",
      " 15  HIV/AIDS                         2718 non-null   float64\n",
      " 16  GDP                              2311 non-null   float64\n",
      " 17  Population                       2104 non-null   float64\n",
      " 18  thinness  1-19 years             2686 non-null   float64\n",
      " 19  thinness 5-9 years               2686 non-null   float64\n",
      " 20  Income composition of resources  2570 non-null   float64\n",
      " 21  Schooling                        2570 non-null   float64\n",
      "dtypes: float64(16), int64(4), object(2)\n",
      "memory usage: 467.3+ KB\n"
     ]
    },
    {
     "data": {
      "text/html": [
       "<div>\n",
       "<style scoped>\n",
       "    .dataframe tbody tr th:only-of-type {\n",
       "        vertical-align: middle;\n",
       "    }\n",
       "\n",
       "    .dataframe tbody tr th {\n",
       "        vertical-align: top;\n",
       "    }\n",
       "\n",
       "    .dataframe thead th {\n",
       "        text-align: right;\n",
       "    }\n",
       "</style>\n",
       "<table border=\"1\" class=\"dataframe\">\n",
       "  <thead>\n",
       "    <tr style=\"text-align: right;\">\n",
       "      <th></th>\n",
       "      <th>Year</th>\n",
       "      <th>Life expectancy</th>\n",
       "      <th>Adult Mortality</th>\n",
       "      <th>infant deaths</th>\n",
       "      <th>Alcohol</th>\n",
       "      <th>percentage expenditure</th>\n",
       "      <th>Hepatitis B</th>\n",
       "      <th>Measles</th>\n",
       "      <th>BMI</th>\n",
       "      <th>under-five deaths</th>\n",
       "      <th>Polio</th>\n",
       "      <th>Total expenditure</th>\n",
       "      <th>Diphtheria</th>\n",
       "      <th>HIV/AIDS</th>\n",
       "      <th>GDP</th>\n",
       "      <th>Population</th>\n",
       "      <th>thinness  1-19 years</th>\n",
       "      <th>thinness 5-9 years</th>\n",
       "      <th>Income composition of resources</th>\n",
       "      <th>Schooling</th>\n",
       "    </tr>\n",
       "  </thead>\n",
       "  <tbody>\n",
       "    <tr>\n",
       "      <th>count</th>\n",
       "      <td>2718.000000</td>\n",
       "      <td>2718.000000</td>\n",
       "      <td>2718.000000</td>\n",
       "      <td>2718.000000</td>\n",
       "      <td>2558.000000</td>\n",
       "      <td>2718.000000</td>\n",
       "      <td>2187.000000</td>\n",
       "      <td>2718.000000</td>\n",
       "      <td>2686.000000</td>\n",
       "      <td>2718.000000</td>\n",
       "      <td>2699.000000</td>\n",
       "      <td>2526.000000</td>\n",
       "      <td>2699.000000</td>\n",
       "      <td>2718.000000</td>\n",
       "      <td>2311.000000</td>\n",
       "      <td>2.104000e+03</td>\n",
       "      <td>2686.000000</td>\n",
       "      <td>2686.000000</td>\n",
       "      <td>2570.000000</td>\n",
       "      <td>2570.000000</td>\n",
       "    </tr>\n",
       "    <tr>\n",
       "      <th>mean</th>\n",
       "      <td>2007.113687</td>\n",
       "      <td>69.059308</td>\n",
       "      <td>165.771523</td>\n",
       "      <td>31.811994</td>\n",
       "      <td>4.581040</td>\n",
       "      <td>752.607792</td>\n",
       "      <td>80.838592</td>\n",
       "      <td>2571.444812</td>\n",
       "      <td>37.633060</td>\n",
       "      <td>44.077631</td>\n",
       "      <td>82.564283</td>\n",
       "      <td>5.859426</td>\n",
       "      <td>82.166358</td>\n",
       "      <td>1.826343</td>\n",
       "      <td>7498.829210</td>\n",
       "      <td>1.325711e+07</td>\n",
       "      <td>4.953611</td>\n",
       "      <td>4.995272</td>\n",
       "      <td>0.622851</td>\n",
       "      <td>11.922218</td>\n",
       "    </tr>\n",
       "    <tr>\n",
       "      <th>std</th>\n",
       "      <td>4.537979</td>\n",
       "      <td>9.562092</td>\n",
       "      <td>125.544472</td>\n",
       "      <td>122.257704</td>\n",
       "      <td>4.033137</td>\n",
       "      <td>2012.366099</td>\n",
       "      <td>25.264167</td>\n",
       "      <td>11893.625719</td>\n",
       "      <td>19.812908</td>\n",
       "      <td>166.281655</td>\n",
       "      <td>23.380578</td>\n",
       "      <td>2.431144</td>\n",
       "      <td>23.937591</td>\n",
       "      <td>5.257269</td>\n",
       "      <td>14387.883939</td>\n",
       "      <td>6.340774e+07</td>\n",
       "      <td>4.512805</td>\n",
       "      <td>4.606148</td>\n",
       "      <td>0.213593</td>\n",
       "      <td>3.367619</td>\n",
       "    </tr>\n",
       "    <tr>\n",
       "      <th>min</th>\n",
       "      <td>2000.000000</td>\n",
       "      <td>39.000000</td>\n",
       "      <td>1.000000</td>\n",
       "      <td>0.000000</td>\n",
       "      <td>0.010000</td>\n",
       "      <td>0.000000</td>\n",
       "      <td>1.000000</td>\n",
       "      <td>0.000000</td>\n",
       "      <td>1.000000</td>\n",
       "      <td>0.000000</td>\n",
       "      <td>3.000000</td>\n",
       "      <td>0.370000</td>\n",
       "      <td>2.000000</td>\n",
       "      <td>0.100000</td>\n",
       "      <td>1.681350</td>\n",
       "      <td>3.400000e+01</td>\n",
       "      <td>0.100000</td>\n",
       "      <td>0.100000</td>\n",
       "      <td>0.000000</td>\n",
       "      <td>0.000000</td>\n",
       "    </tr>\n",
       "    <tr>\n",
       "      <th>25%</th>\n",
       "      <td>2003.000000</td>\n",
       "      <td>63.000000</td>\n",
       "      <td>74.000000</td>\n",
       "      <td>0.000000</td>\n",
       "      <td>0.930000</td>\n",
       "      <td>5.664238</td>\n",
       "      <td>77.000000</td>\n",
       "      <td>0.000000</td>\n",
       "      <td>18.900000</td>\n",
       "      <td>0.000000</td>\n",
       "      <td>78.000000</td>\n",
       "      <td>4.220000</td>\n",
       "      <td>78.000000</td>\n",
       "      <td>0.100000</td>\n",
       "      <td>451.964816</td>\n",
       "      <td>1.966738e+05</td>\n",
       "      <td>1.600000</td>\n",
       "      <td>1.600000</td>\n",
       "      <td>0.492000</td>\n",
       "      <td>10.100000</td>\n",
       "    </tr>\n",
       "    <tr>\n",
       "      <th>50%</th>\n",
       "      <td>2007.000000</td>\n",
       "      <td>71.900000</td>\n",
       "      <td>144.000000</td>\n",
       "      <td>3.000000</td>\n",
       "      <td>3.675000</td>\n",
       "      <td>65.268121</td>\n",
       "      <td>92.000000</td>\n",
       "      <td>18.000000</td>\n",
       "      <td>42.200000</td>\n",
       "      <td>4.000000</td>\n",
       "      <td>93.000000</td>\n",
       "      <td>5.665000</td>\n",
       "      <td>93.000000</td>\n",
       "      <td>0.100000</td>\n",
       "      <td>1721.973863</td>\n",
       "      <td>1.396923e+06</td>\n",
       "      <td>3.400000</td>\n",
       "      <td>3.400000</td>\n",
       "      <td>0.673000</td>\n",
       "      <td>12.300000</td>\n",
       "    </tr>\n",
       "    <tr>\n",
       "      <th>75%</th>\n",
       "      <td>2011.000000</td>\n",
       "      <td>75.500000</td>\n",
       "      <td>227.000000</td>\n",
       "      <td>23.000000</td>\n",
       "      <td>7.600000</td>\n",
       "      <td>443.087991</td>\n",
       "      <td>97.000000</td>\n",
       "      <td>408.000000</td>\n",
       "      <td>55.700000</td>\n",
       "      <td>30.000000</td>\n",
       "      <td>97.000000</td>\n",
       "      <td>7.440000</td>\n",
       "      <td>97.000000</td>\n",
       "      <td>0.800000</td>\n",
       "      <td>5848.736168</td>\n",
       "      <td>7.523594e+06</td>\n",
       "      <td>7.300000</td>\n",
       "      <td>7.300000</td>\n",
       "      <td>0.776000</td>\n",
       "      <td>14.200000</td>\n",
       "    </tr>\n",
       "    <tr>\n",
       "      <th>max</th>\n",
       "      <td>2015.000000</td>\n",
       "      <td>89.000000</td>\n",
       "      <td>723.000000</td>\n",
       "      <td>1800.000000</td>\n",
       "      <td>17.870000</td>\n",
       "      <td>19479.911610</td>\n",
       "      <td>99.000000</td>\n",
       "      <td>212183.000000</td>\n",
       "      <td>77.600000</td>\n",
       "      <td>2500.000000</td>\n",
       "      <td>99.000000</td>\n",
       "      <td>17.000000</td>\n",
       "      <td>99.000000</td>\n",
       "      <td>50.600000</td>\n",
       "      <td>119172.741800</td>\n",
       "      <td>1.293859e+09</td>\n",
       "      <td>27.700000</td>\n",
       "      <td>28.600000</td>\n",
       "      <td>0.938000</td>\n",
       "      <td>20.700000</td>\n",
       "    </tr>\n",
       "  </tbody>\n",
       "</table>\n",
       "</div>"
      ],
      "text/plain": [
       "              Year  Life expectancy  Adult Mortality  infant deaths  \\\n",
       "count  2718.000000      2718.000000      2718.000000    2718.000000   \n",
       "mean   2007.113687        69.059308       165.771523      31.811994   \n",
       "std       4.537979         9.562092       125.544472     122.257704   \n",
       "min    2000.000000        39.000000         1.000000       0.000000   \n",
       "25%    2003.000000        63.000000        74.000000       0.000000   \n",
       "50%    2007.000000        71.900000       144.000000       3.000000   \n",
       "75%    2011.000000        75.500000       227.000000      23.000000   \n",
       "max    2015.000000        89.000000       723.000000    1800.000000   \n",
       "\n",
       "           Alcohol  percentage expenditure  Hepatitis B        Measles  \\\n",
       "count  2558.000000             2718.000000  2187.000000    2718.000000   \n",
       "mean      4.581040              752.607792    80.838592    2571.444812   \n",
       "std       4.033137             2012.366099    25.264167   11893.625719   \n",
       "min       0.010000                0.000000     1.000000       0.000000   \n",
       "25%       0.930000                5.664238    77.000000       0.000000   \n",
       "50%       3.675000               65.268121    92.000000      18.000000   \n",
       "75%       7.600000              443.087991    97.000000     408.000000   \n",
       "max      17.870000            19479.911610    99.000000  212183.000000   \n",
       "\n",
       "               BMI  under-five deaths        Polio  Total expenditure  \\\n",
       "count  2686.000000        2718.000000  2699.000000        2526.000000   \n",
       "mean     37.633060          44.077631    82.564283           5.859426   \n",
       "std      19.812908         166.281655    23.380578           2.431144   \n",
       "min       1.000000           0.000000     3.000000           0.370000   \n",
       "25%      18.900000           0.000000    78.000000           4.220000   \n",
       "50%      42.200000           4.000000    93.000000           5.665000   \n",
       "75%      55.700000          30.000000    97.000000           7.440000   \n",
       "max      77.600000        2500.000000    99.000000          17.000000   \n",
       "\n",
       "        Diphtheria     HIV/AIDS            GDP    Population  \\\n",
       "count  2699.000000  2718.000000    2311.000000  2.104000e+03   \n",
       "mean     82.166358     1.826343    7498.829210  1.325711e+07   \n",
       "std      23.937591     5.257269   14387.883939  6.340774e+07   \n",
       "min       2.000000     0.100000       1.681350  3.400000e+01   \n",
       "25%      78.000000     0.100000     451.964816  1.966738e+05   \n",
       "50%      93.000000     0.100000    1721.973863  1.396923e+06   \n",
       "75%      97.000000     0.800000    5848.736168  7.523594e+06   \n",
       "max      99.000000    50.600000  119172.741800  1.293859e+09   \n",
       "\n",
       "       thinness  1-19 years  thinness 5-9 years  \\\n",
       "count           2686.000000         2686.000000   \n",
       "mean               4.953611            4.995272   \n",
       "std                4.512805            4.606148   \n",
       "min                0.100000            0.100000   \n",
       "25%                1.600000            1.600000   \n",
       "50%                3.400000            3.400000   \n",
       "75%                7.300000            7.300000   \n",
       "max               27.700000           28.600000   \n",
       "\n",
       "       Income composition of resources    Schooling  \n",
       "count                      2570.000000  2570.000000  \n",
       "mean                          0.622851    11.922218  \n",
       "std                           0.213593     3.367619  \n",
       "min                           0.000000     0.000000  \n",
       "25%                           0.492000    10.100000  \n",
       "50%                           0.673000    12.300000  \n",
       "75%                           0.776000    14.200000  \n",
       "max                           0.938000    20.700000  "
      ]
     },
     "execution_count": 33,
     "metadata": {},
     "output_type": "execute_result"
    }
   ],
   "source": [
    "df_data = pd.read_csv(\"data.csv\")\n",
    "df_data.info()\n",
    "df_data.describe()"
   ]
  },
  {
   "cell_type": "markdown",
   "id": "64cc112f-e11b-42d2-acbb-1c6cb2d351a7",
   "metadata": {},
   "source": [
    " Check how many duplicate records exist"
   ]
  },
  {
   "cell_type": "code",
   "execution_count": 34,
   "id": "608acd01-5cf6-4b71-83f4-80cc75414784",
   "metadata": {},
   "outputs": [
    {
     "name": "stdout",
     "output_type": "stream",
     "text": [
      "0\n"
     ]
    }
   ],
   "source": [
    "print(df_data.duplicated().sum())"
   ]
  },
  {
   "cell_type": "markdown",
   "id": "53cabc6b-8a5d-499f-a1c5-410fe621a922",
   "metadata": {},
   "source": [
    "There are no duplicate records in the dataset"
   ]
  },
  {
   "cell_type": "markdown",
   "id": "2ad3bad9-9fca-42b9-ad9e-1283a33b801c",
   "metadata": {},
   "source": [
    "Check how many missing values are in the data"
   ]
  },
  {
   "cell_type": "code",
   "execution_count": 35,
   "id": "479aff44-966b-48d1-8bdb-c32639dfd248",
   "metadata": {},
   "outputs": [
    {
     "data": {
      "text/plain": [
       "Country                              0\n",
       "Year                                 0\n",
       "Status                               0\n",
       "Life expectancy                      0\n",
       "Adult Mortality                      0\n",
       "infant deaths                        0\n",
       "Alcohol                            160\n",
       "percentage expenditure               0\n",
       "Hepatitis B                        531\n",
       "Measles                              0\n",
       "BMI                                 32\n",
       "under-five deaths                    0\n",
       "Polio                               19\n",
       "Total expenditure                  192\n",
       "Diphtheria                          19\n",
       "HIV/AIDS                             0\n",
       "GDP                                407\n",
       "Population                         614\n",
       "thinness  1-19 years                32\n",
       "thinness 5-9 years                  32\n",
       "Income composition of resources    148\n",
       "Schooling                          148\n",
       "dtype: int64"
      ]
     },
     "execution_count": 35,
     "metadata": {},
     "output_type": "execute_result"
    }
   ],
   "source": [
    "df_data.isnull().sum()"
   ]
  },
  {
   "cell_type": "markdown",
   "id": "67355a94-b579-48c7-b25b-453f5ce246a0",
   "metadata": {},
   "source": [
    "The data contains missing values across multiple columns"
   ]
  },
  {
   "cell_type": "markdown",
   "id": "d8229978-8d7f-43cb-bd21-535787a01b4f",
   "metadata": {},
   "source": [
    "We temporarily encode all categorical columns into numerical values using their category codes.  \n",
    "This transformation allows us to compute the correlation matrix, which is used to identify relationships between all features.  \n",
    "The original DataFrame remains unchanged after this operation"
   ]
  },
  {
   "cell_type": "code",
   "execution_count": 36,
   "id": "2f133c7a-6c51-46b4-a2be-0771b589a035",
   "metadata": {},
   "outputs": [
    {
     "name": "stdout",
     "output_type": "stream",
     "text": [
      "Highly correlated feature pairs (|correlation| > 0.8):\n",
      "\n",
      "under-five deaths <--> infant deaths: correlation = 1.00\n",
      "GDP <--> percentage expenditure: correlation = 0.90\n",
      "infant deaths <--> under-five deaths: correlation = 1.00\n",
      "percentage expenditure <--> GDP: correlation = 0.90\n",
      "thinness 5-9 years <--> thinness  1-19 years: correlation = 0.94\n",
      "thinness  1-19 years <--> thinness 5-9 years: correlation = 0.94\n"
     ]
    }
   ],
   "source": [
    "temp_df = df_data.copy()\n",
    "\n",
    "string_cols = temp_df.select_dtypes(['object']).columns\n",
    "temp_df[string_cols] = temp_df[string_cols].astype('category').apply(lambda x: x.cat.codes)\n",
    "\n",
    "correlation_matrix = temp_df.corr()\n",
    "\n",
    "threshold = 0.8\n",
    "high_corr_pairs = []\n",
    "\n",
    "for col in correlation_matrix.columns:\n",
    "    for idx in correlation_matrix.index:\n",
    "        if abs(correlation_matrix.loc[idx, col]) > threshold and idx != col:\n",
    "            high_corr_pairs.append((idx, col, correlation_matrix.loc[idx, col]))\n",
    "\n",
    "print(\"Highly correlated feature pairs (|correlation| > 0.8):\\n\")\n",
    "for pair in high_corr_pairs:\n",
    "    print(f\"{pair[0]} <--> {pair[1]}: correlation = {pair[2]:.2f}\")"
   ]
  },
  {
   "cell_type": "markdown",
   "id": "85d48eae-8308-4e36-8490-7439024243ed",
   "metadata": {},
   "source": [
    "We have identified features with high correlation, which contain redundant information.  \n",
    "To avoid multicollinearity and improve model performance, we will now remove these features from the dataset."
   ]
  },
  {
   "cell_type": "code",
   "execution_count": 37,
   "id": "0b17073d-eea6-4c83-beb4-abc553e4aca7",
   "metadata": {},
   "outputs": [
    {
     "name": "stdout",
     "output_type": "stream",
     "text": [
      "Features dropped due to high correlation: ['under-five deaths', 'percentage expenditure', 'thinness 5-9 years']\n",
      "\n",
      "Updated DataFrame:\n",
      "<class 'pandas.core.frame.DataFrame'>\n",
      "RangeIndex: 2718 entries, 0 to 2717\n",
      "Data columns (total 19 columns):\n",
      " #   Column                           Non-Null Count  Dtype  \n",
      "---  ------                           --------------  -----  \n",
      " 0   Country                          2718 non-null   object \n",
      " 1   Year                             2718 non-null   int64  \n",
      " 2   Status                           2718 non-null   object \n",
      " 3   Life expectancy                  2718 non-null   float64\n",
      " 4   Adult Mortality                  2718 non-null   float64\n",
      " 5   infant deaths                    2718 non-null   int64  \n",
      " 6   Alcohol                          2558 non-null   float64\n",
      " 7   Hepatitis B                      2187 non-null   float64\n",
      " 8   Measles                          2718 non-null   int64  \n",
      " 9   BMI                              2686 non-null   float64\n",
      " 10  Polio                            2699 non-null   float64\n",
      " 11  Total expenditure                2526 non-null   float64\n",
      " 12  Diphtheria                       2699 non-null   float64\n",
      " 13  HIV/AIDS                         2718 non-null   float64\n",
      " 14  GDP                              2311 non-null   float64\n",
      " 15  Population                       2104 non-null   float64\n",
      " 16  thinness  1-19 years             2686 non-null   float64\n",
      " 17  Income composition of resources  2570 non-null   float64\n",
      " 18  Schooling                        2570 non-null   float64\n",
      "dtypes: float64(14), int64(3), object(2)\n",
      "memory usage: 403.6+ KB\n",
      "None\n"
     ]
    }
   ],
   "source": [
    "features_to_drop = ['under-five deaths', 'percentage expenditure', 'thinness 5-9 years']\n",
    "\n",
    "df_data_reduced = df_data.drop(columns=features_to_drop)\n",
    "\n",
    "print(\"Features dropped due to high correlation:\", features_to_drop)\n",
    "print(\"\\nUpdated DataFrame:\")\n",
    "print(df_data_reduced.info())"
   ]
  },
  {
   "cell_type": "markdown",
   "id": "c458e57f-e6ae-4a21-8cd3-d92444b4f133",
   "metadata": {},
   "source": [
    "Encode all string (object) columns "
   ]
  },
  {
   "cell_type": "code",
   "execution_count": 38,
   "id": "66272a76-3d32-4933-9737-3c46c3c33495",
   "metadata": {},
   "outputs": [
    {
     "name": "stdout",
     "output_type": "stream",
     "text": [
      "Country                              int16\n",
      "Year                                 int64\n",
      "Status                                int8\n",
      "Life expectancy                    float64\n",
      "Adult Mortality                    float64\n",
      "infant deaths                        int64\n",
      "Alcohol                            float64\n",
      "Hepatitis B                        float64\n",
      "Measles                              int64\n",
      "BMI                                float64\n",
      "Polio                              float64\n",
      "Total expenditure                  float64\n",
      "Diphtheria                         float64\n",
      "HIV/AIDS                           float64\n",
      "GDP                                float64\n",
      "Population                         float64\n",
      "thinness  1-19 years               float64\n",
      "Income composition of resources    float64\n",
      "Schooling                          float64\n",
      "dtype: object\n"
     ]
    }
   ],
   "source": [
    "# Encode object columns in df_data_reduced\n",
    "string_cols = df_data_reduced.select_dtypes(['object']).columns\n",
    "df_data_reduced[string_cols] = df_data_reduced[string_cols].astype('category').apply(lambda x: x.cat.codes)\n",
    "\n",
    "print(df_data_reduced.dtypes)"
   ]
  },
  {
   "cell_type": "markdown",
   "id": "f58a081b-18ef-4e25-a071-473b5bc6f5d6",
   "metadata": {},
   "source": [
    "**I have preprocessed the dataset by removing highly correlated features.**  \n",
    "**However, missing values have not yet been handled.**  \n",
    "**To ensure proper evaluation and avoid data leakage, we will first split the dataset into training, validation, and test sets**  \n",
    "**Afterward, we will handle missing values using the median, calculated only from the training data.**"
   ]
  },
  {
   "cell_type": "code",
   "execution_count": 39,
   "id": "a3d1f9ae-5edb-498b-a7b8-ab2b19bf7cc5",
   "metadata": {},
   "outputs": [
    {
     "name": "stdout",
     "output_type": "stream",
     "text": [
      "Training set size: 1630 samples\n",
      "Validation set size: 544 samples\n",
      "Test set size: 544 samples\n"
     ]
    }
   ],
   "source": [
    "X = df_data_reduced.drop(columns=['Life expectancy'])\n",
    "y = df_data_reduced['Life expectancy']\n",
    "\n",
    "# Split the data into training (60%) and temp (40%) sets\n",
    "X_train, X_temp, y_train, y_temp = train_test_split(X, y, test_size=0.4, random_state=RANDOM_SEED)\n",
    "\n",
    "# Split the temp set further into validation (20%) and test (20%) sets\n",
    "X_val, X_test, y_val, y_test = train_test_split(X_temp, y_temp, test_size=0.5, random_state=RANDOM_SEED)\n",
    "\n",
    "print(f\"Training set size: {X_train.shape[0]} samples\")\n",
    "print(f\"Validation set size: {X_val.shape[0]} samples\")\n",
    "print(f\"Test set size: {X_test.shape[0]} samples\")"
   ]
  },
  {
   "cell_type": "markdown",
   "id": "e6d003ee-c988-4239-9138-f7cd7ef48c70",
   "metadata": {},
   "source": [
    "The data has been successfully split into training, validation, and test sets.  \n",
    "We can now proceed to handle missing values by filling them with the median, calculated from the training set, to prevent data leakage."
   ]
  },
  {
   "cell_type": "code",
   "execution_count": 40,
   "id": "7993e5a1-7d4d-4266-9f90-184a40d3fd90",
   "metadata": {},
   "outputs": [],
   "source": [
    "# Calculate the median for each column in the training set\n",
    "train_medians = X_train.median()\n",
    "\n",
    "X_train = X_train.fillna(train_medians)\n",
    "X_val = X_val.fillna(train_medians)\n",
    "X_test = X_test.fillna(train_medians)"
   ]
  },
  {
   "cell_type": "markdown",
   "id": "3af96575-a88f-4ebe-83de-00e74276f971",
   "metadata": {},
   "source": [
    "CLarifying that there is no missing values in all of 3 parts of data"
   ]
  },
  {
   "cell_type": "code",
   "execution_count": 41,
   "id": "88dfc228-5f96-46aa-a0df-af74da016bbf",
   "metadata": {},
   "outputs": [
    {
     "name": "stdout",
     "output_type": "stream",
     "text": [
      "Missing values have been filled with the median from the training set.\n",
      "Number of missing values in training set: 0\n",
      "Number of missing values in validation set: 0\n",
      "Number of missing values in test set: 0\n"
     ]
    }
   ],
   "source": [
    "print(\"Missing values have been filled with the median from the training set.\")\n",
    "print(f\"Number of missing values in training set: {X_train.isnull().sum().sum()}\")\n",
    "print(f\"Number of missing values in validation set: {X_val.isnull().sum().sum()}\")\n",
    "print(f\"Number of missing values in test set: {X_test.isnull().sum().sum()}\")"
   ]
  },
  {
   "cell_type": "markdown",
   "id": "44d4427b-4feb-4e84-b0db-19a90f166e46",
   "metadata": {},
   "source": [
    "### Data preprocessing complete\n",
    "I have now successfully preprocessed the data:\n",
    "1. Categorical features have been converted to numerical codes.\n",
    "2. Missing values have been filled using the median from the training set.\n",
    "3. Redundant features with high correlation have been dropped.\n",
    "\n",
    "**Next Step**: Implement and train the Custom Random Forest model."
   ]
  },
  {
   "cell_type": "markdown",
   "id": "737a0a1f-d127-4063-a90f-33e15b216911",
   "metadata": {},
   "source": [
    "# 1️⃣ Implementation of Random Forest"
   ]
  },
  {
   "cell_type": "markdown",
   "id": "270bc05d-09fa-4672-8cb3-9df599da897a",
   "metadata": {},
   "source": [
    "# **🔶Suitability of the model:**\n",
    "\n",
    "Random Forest is well-suited for this regression task as it combines multiple decision trees to reduce overfitting and improve generalization. By utilizing bootstrap sampling and averaging predictions, it balances bias and variance effectively, ensuring robust performance on unseen data. This approach works well with both numerical and categorical features, and it can handle non-linear relationships within the data."
   ]
  },
  {
   "cell_type": "markdown",
   "id": "ef527043-0440-4804-a51a-87eee4afdfb7",
   "metadata": {},
   "source": [
    "Next, i will implement a custom Random Forest model to train and predict on the given dataset."
   ]
  },
  {
   "cell_type": "code",
   "execution_count": 42,
   "id": "6f331af5-fc26-4dd6-99bf-d91549ded499",
   "metadata": {},
   "outputs": [],
   "source": [
    "class CustomRandomForest:\n",
    "    \"\"\"\n",
    "    Custom implementation of a Random Forest model for regression.\n",
    "    Uses DecisionTreeRegressor from sklearn as base learners.\n",
    "    \"\"\"\n",
    "    def __init__(self, n_estimators=10, max_samples=0.8, max_depth=None, **kwargs):\n",
    "        \"\"\"\n",
    "        Initialize the Random Forest model.\n",
    "        \n",
    "        Parameters:\n",
    "        - n_estimators: Number of trees in the forest.\n",
    "        - max_samples: Proportion (0-1) or count of samples for each tree (bootstrap sampling).\n",
    "        - max_depth: Maximum depth for each decision tree.\n",
    "        - kwargs: Additional parameters for DecisionTreeRegressor.\n",
    "        \"\"\"\n",
    "        self.n_estimators = n_estimators\n",
    "        self.max_samples = max_samples\n",
    "        self.max_depth = max_depth\n",
    "        self.kwargs = kwargs\n",
    "        self.trees = [] \n",
    "    \n",
    "    def fit(self, X, y):\n",
    "        \"\"\"\n",
    "        Train the Random Forest model using bootstrap sampling.\n",
    "        \n",
    "        Parameters:\n",
    "        - X: Training features (DataFrame or numpy array).\n",
    "        - y: Target values.\n",
    "        \"\"\"\n",
    "        n_samples = X.shape[0]\n",
    "        if isinstance(self.max_samples, float):\n",
    "            sample_size = int(self.max_samples * n_samples)\n",
    "        else:\n",
    "            sample_size = min(self.max_samples, n_samples)\n",
    "\n",
    "        self.trees = [] \n",
    "        \n",
    "        for i in range(self.n_estimators):\n",
    "            X_sample, y_sample = resample(X, y, n_samples=sample_size, random_state=RANDOM_SEED)\n",
    "            \n",
    "            tree = DecisionTreeRegressor(max_depth=self.max_depth, **self.kwargs)\n",
    "            tree.fit(X_sample, y_sample)\n",
    "            self.trees.append(tree)\n",
    "    \n",
    "    def predict(self, X):\n",
    "        \"\"\"\n",
    "        Predict target values using the trained Random Forest model.\n",
    "        \n",
    "        Parameters:\n",
    "        - X: Input features for prediction.\n",
    "        \n",
    "        Returns:\n",
    "        - Averaged predictions from all trees.\n",
    "        \"\"\"\n",
    "        tree_predictions = np.zeros((X.shape[0], self.n_estimators))\n",
    "        \n",
    "        for i, tree in enumerate(self.trees):\n",
    "            tree_predictions[:, i] = tree.predict(X)\n",
    "        \n",
    "        y_predicted = np.mean(tree_predictions, axis=1)\n",
    "        return y_predicted"
   ]
  },
  {
   "cell_type": "markdown",
   "id": "40dd4034-08bc-4148-b7a9-92ca2d81ebdd",
   "metadata": {},
   "source": [
    "**Train the CustomRandomForest model**"
   ]
  },
  {
   "cell_type": "code",
   "execution_count": 43,
   "id": "4d353ae1-935f-488d-9c5a-de3f1ca979f7",
   "metadata": {},
   "outputs": [
    {
     "name": "stdout",
     "output_type": "stream",
     "text": [
      "Training RMSE: 2.77740\n"
     ]
    }
   ],
   "source": [
    "clfRF = CustomRandomForest(n_estimators=100, max_samples=0.5, max_depth=10, random_state=RANDOM_SEED)\n",
    "\n",
    "clfRF.fit(X_train, y_train)\n",
    "clfRF_train_predictions = clfRF.predict(X_train)\n",
    "RMSE_train_clfRF = root_mean_squared_error(y_train, clfRF_train_predictions)\n",
    "\n",
    "print(f'Training RMSE: {RMSE_train_clfRF:.5f}')"
   ]
  },
  {
   "cell_type": "markdown",
   "id": "4c074aaa-3926-4737-9aac-a4b2fb8fadda",
   "metadata": {},
   "source": [
    "**Performing hyperparameter tuning for the Custom Random Forest model**"
   ]
  },
  {
   "cell_type": "code",
   "execution_count": 44,
   "id": "4a45e8bf-d03d-47ac-ba06-f88601477795",
   "metadata": {},
   "outputs": [
    {
     "name": "stdout",
     "output_type": "stream",
     "text": [
      "Best RMSE: 3.0522 with parameters: {'max_depth': 7, 'n_estimators': 45}\n"
     ]
    },
    {
     "data": {
      "image/png": "[encoded data removed]",
      "text/plain": [
       "<Figure size 1200x800 with 2 Axes>"
      ]
     },
     "metadata": {},
     "output_type": "display_data"
    },
    {
     "data": {
      "image/png": "[encoded data removed]",
      "text/plain": [
       "<Figure size 1000x600 with 1 Axes>"
      ]
     },
     "metadata": {},
     "output_type": "display_data"
    }
   ],
   "source": [
    "param_grid = {\n",
    "    'n_estimators': range(5, 100, 5),\n",
    "    'max_depth': range(1, 10)\n",
    "}\n",
    "param_comb = list(ParameterGrid(param_grid))\n",
    "\n",
    "val_metric = []\n",
    "best_rmse = float(\"inf\")\n",
    "best_params = None\n",
    "best_model = None\n",
    "\n",
    "for params in param_comb:\n",
    "    clf = CustomRandomForest(n_estimators=params['n_estimators'], \n",
    "                             max_depth=params['max_depth'], \n",
    "                             random_state=RANDOM_SEED)\n",
    "    clf.fit(X_train, y_train)\n",
    "    val_predictions = clf.predict(X_val)\n",
    "    rmse = root_mean_squared_error(y_val, val_predictions)\n",
    "    val_metric.append(rmse)\n",
    "    \n",
    "    if rmse < best_rmse:\n",
    "        best_rmse = rmse\n",
    "        best_params = params\n",
    "        best_model = clf  \n",
    "\n",
    "print(f\"Best RMSE: {best_rmse:.4f} with parameters: {best_params}\")\n",
    "\n",
    "rmse_matrix = []\n",
    "n_estimators_range = range(5, 100, 5)\n",
    "max_depth_range = range(1, 10)\n",
    "\n",
    "for max_depth in max_depth_range:\n",
    "    row = []\n",
    "    for n_estimators in n_estimators_range:\n",
    "        idx = next(i for i, p in enumerate(param_comb) \n",
    "                   if p['n_estimators'] == n_estimators and p['max_depth'] == max_depth)\n",
    "        row.append(val_metric[idx])\n",
    "    rmse_matrix.append(row)\n",
    "\n",
    "plt.figure(figsize=(12, 8))\n",
    "sns.heatmap(rmse_matrix, annot=True, fmt=\".2f\", xticklabels=n_estimators_range, yticklabels=max_depth_range, cmap=\"viridis\")\n",
    "plt.title(\"RMSE across n_estimators and max_depth\")\n",
    "plt.xlabel(\"n_estimators\")\n",
    "plt.ylabel(\"max_depth\")\n",
    "plt.show()\n",
    "\n",
    "plt.figure(figsize=(10, 6))\n",
    "final_predictions = best_model.predict(X_val) \n",
    "plt.scatter(y_val, final_predictions, alpha=0.5)\n",
    "plt.plot([y_val.min(), y_val.max()], [y_val.min(), y_val.max()], 'k--', lw=2)\n",
    "plt.xlabel(\"True Values\")\n",
    "plt.ylabel(\"Predicted Values\")\n",
    "plt.title(\"True Values vs Predicted Values (Best Model)\")\n",
    "plt.show()"
   ]
  },
  {
   "cell_type": "markdown",
   "id": "7a6f81bb-e4d7-40ef-a093-8718807f44d0",
   "metadata": {},
   "source": [
    "The best parameters (n_estimators = 5-95 and max_depth = 9) achieve the lowest validation RMSE (3.03)"
   ]
  },
  {
   "cell_type": "markdown",
   "id": "f30312e7-379e-4d1f-8d72-0580b3268889",
   "metadata": {},
   "source": [
    "**Evaluate the model on both training and validation sets**\n",
    "\n",
    "In this step, we calculate the RMSE and MAE for the training and validation sets to evaluate the model's performance. This helps assess whether the model has overfitted the training data or generalizes well to unseen data."
   ]
  },
  {
   "cell_type": "code",
   "execution_count": 58,
   "id": "550c8e1e-5a57-4e80-8f73-bb6cfadf16ea",
   "metadata": {},
   "outputs": [
    {
     "name": "stdout",
     "output_type": "stream",
     "text": [
      "Training RMSE: 2.6209\n",
      "Training MAE: 1.6509\n",
      "Validation RMSE: 3.0522\n",
      "Validation MAE: 2.0754\n"
     ]
    }
   ],
   "source": [
    "best_n_estimators = 50  \n",
    "best_max_depth = 7\n",
    "\n",
    "final_model = CustomRandomForest(n_estimators=best_n_estimators, max_depth=best_max_depth, random_state=RANDOM_SEED)\n",
    "final_model.fit(X_train, y_train)\n",
    "\n",
    "train_rmse = root_mean_squared_error(y_train, final_model.predict(X_train))\n",
    "val_rmse = root_mean_squared_error(y_val, final_model.predict(X_val))\n",
    "\n",
    "train_mae = mean_absolute_error(y_train, final_model.predict(X_train))\n",
    "val_mae = mean_absolute_error(y_val, final_model.predict(X_val))\n",
    "\n",
    "print(f\"Training RMSE: {train_rmse:.4f}\")\n",
    "print(f\"Training MAE: {train_mae:.4f}\")\n",
    "print(f\"Validation RMSE: {val_rmse:.4f}\")\n",
    "print(f\"Validation MAE: {val_mae:.4f}\")"
   ]
  },
  {
   "cell_type": "markdown",
   "id": "a00c0c06-ebda-40de-a3e5-916cdbf92e5a",
   "metadata": {},
   "source": [
    "**🔷Conclusion:** \n",
    "\n",
    "The Random Forest model demonstrates strong performance with a training RMSE of 2.6209 and a validation RMSE of 3.0522, indicating that the model generalizes well to unseen data without significant overfitting. The MAE values of 1.6509 (train) and 2.0754 (validation) further confirm that the model provides accurate predictions, making it a reliable choice for predicting life expectancy."
   ]
  },
  {
   "cell_type": "markdown",
   "id": "db3c368c-2582-4e25-8e9b-576f993b5de1",
   "metadata": {},
   "source": [
    "# 2️⃣ Ridge Regression"
   ]
  },
  {
   "cell_type": "markdown",
   "id": "e795d8ef-5ac0-4cf1-b71c-ed8575ee37fc",
   "metadata": {},
   "source": [
    "# **🔶Suitability of the model:**\n",
    "\n",
    "**Ridge Regression is well-suited for this regression task because it handles multicollinearity effectively, which can occur when predictors (features) are highly correlated. Ridge Regression reduces the magnitude of coefficients, improving generalization to unseen data. This is especially useful when working with datasets containing multiple features, like in this case, where life expectancy prediction depends on diverse socio-economic and health-related indicators. Additionally, Ridge Regression benefits from feature scaling (normalization or standardization), which we tested to further optimize its performance.**"
   ]
  },
  {
   "cell_type": "markdown",
   "id": "33973b68-d88a-4d8c-893c-6b7c1cc6d140",
   "metadata": {},
   "source": [
    "At this point, I am uncertain which approach—standardization or normalization—will yield better results for Ridge Regression. To address this, I will train the Ridge Regression model separately on standardized data and normalized data. I will then compare their performance using RMSE on the training and validation sets. This comparison will help determine the most effective preprocessing technique for this task, ensuring the model generalizes well to unseen data."
   ]
  },
  {
   "cell_type": "markdown",
   "id": "c3f29529-0af8-4594-a355-c6007f4d12c7",
   "metadata": {},
   "source": [
    "**1) Standartization**"
   ]
  },
  {
   "cell_type": "code",
   "execution_count": 46,
   "id": "65e9d48a-5333-40b1-a99b-dccd64f136bf",
   "metadata": {},
   "outputs": [
    {
     "name": "stdout",
     "output_type": "stream",
     "text": [
      "Ridge Regression with Standardization:\n",
      "Training RMSE: 4.0600\n",
      "Validation RMSE: 4.4438\n"
     ]
    }
   ],
   "source": [
    "from sklearn.preprocessing import StandardScaler\n",
    "from sklearn.linear_model import Ridge\n",
    "from sklearn.metrics import root_mean_squared_error\n",
    "\n",
    "scaler_standard = StandardScaler().fit(X_train)\n",
    "X_train_standard = scaler_standard.transform(X_train)\n",
    "X_val_standard = scaler_standard.transform(X_val)\n",
    "\n",
    "# Ridge Regression\n",
    "ridge_standard = Ridge(alpha=1.0)\n",
    "ridge_standard.fit(X_train_standard, y_train)\n",
    "\n",
    "y_train_pred_standard = ridge_standard.predict(X_train_standard)\n",
    "y_val_pred_standard = ridge_standard.predict(X_val_standard)\n",
    "\n",
    "# RMSE\n",
    "train_rmse_standard = root_mean_squared_error(y_train, y_train_pred_standard)\n",
    "val_rmse_standard = root_mean_squared_error(y_val, y_val_pred_standard)\n",
    "\n",
    "print(\"Ridge Regression with Standardization:\")\n",
    "print(f\"Training RMSE: {train_rmse_standard:.4f}\")\n",
    "print(f\"Validation RMSE: {val_rmse_standard:.4f}\")"
   ]
  },
  {
   "cell_type": "markdown",
   "id": "d6afda4b-3fc3-4a41-af52-d82a62b0061f",
   "metadata": {},
   "source": [
    "**2) Normalization**"
   ]
  },
  {
   "cell_type": "code",
   "execution_count": 47,
   "id": "edf3a753-1d04-4504-8eb2-b098574471ee",
   "metadata": {},
   "outputs": [
    {
     "name": "stdout",
     "output_type": "stream",
     "text": [
      "Ridge Regression with Min-Max Normalization:\n",
      "Training RMSE: 4.0643\n",
      "Validation RMSE: 4.4498\n"
     ]
    }
   ],
   "source": [
    "from sklearn.preprocessing import MinMaxScaler\n",
    "\n",
    "scaler_minmax = MinMaxScaler().fit(X_train)\n",
    "X_train_minmax = scaler_minmax.transform(X_train)\n",
    "X_val_minmax = scaler_minmax.transform(X_val)\n",
    "\n",
    "ridge_minmax = Ridge(alpha=1.0)\n",
    "ridge_minmax.fit(X_train_minmax, y_train)\n",
    "\n",
    "y_train_pred_minmax = ridge_minmax.predict(X_train_minmax)\n",
    "y_val_pred_minmax = ridge_minmax.predict(X_val_minmax)\n",
    "\n",
    "train_rmse_minmax = root_mean_squared_error(y_train, y_train_pred_minmax)\n",
    "val_rmse_minmax = root_mean_squared_error(y_val, y_val_pred_minmax)\n",
    "\n",
    "print(\"Ridge Regression with Min-Max Normalization:\")\n",
    "print(f\"Training RMSE: {train_rmse_minmax:.4f}\")\n",
    "print(f\"Validation RMSE: {val_rmse_minmax:.4f}\")"
   ]
  },
  {
   "cell_type": "markdown",
   "id": "3e66e9d7-7832-4f94-90e2-6959a747b7b5",
   "metadata": {},
   "source": [
    "**🔷Conclusion:** \n",
    "\n",
    "Based on the results, it is evident that **standardization** provides a slightly **better performance** compared to Min-Max normalization. The Ridge Regression model trained on standardized data achieved a lower Validation RMSE of 4.4438 compared to 4.4498 with normalization. Therefore, **standardization** is **chosen as the preferred** preprocessing technique for this task."
   ]
  },
  {
   "cell_type": "markdown",
   "id": "9efe7cbf-5780-44cf-a5ec-1e72fb15dfc5",
   "metadata": {},
   "source": [
    "## Tuning Ridge Regression Hyperparameters"
   ]
  },
  {
   "cell_type": "code",
   "execution_count": 48,
   "id": "7254eab8-b9bb-449c-9f45-e9936e44db93",
   "metadata": {},
   "outputs": [
    {
     "data": {
      "image/png": "[encoded data removed]",
      "text/plain": [
       "<Figure size 640x480 with 1 Axes>"
      ]
     },
     "metadata": {},
     "output_type": "display_data"
    },
    {
     "name": "stdout",
     "output_type": "stream",
     "text": [
      "Optimal alpha: 0.1000\n",
      "\n",
      "\n",
      "Validation RMSE: 4.4437\n"
     ]
    },
    {
     "data": {
      "image/png": "[encoded data removed]",
      "text/plain": [
       "<Figure size 640x480 with 1 Axes>"
      ]
     },
     "metadata": {},
     "output_type": "display_data"
    }
   ],
   "source": [
    "from scipy import optimize\n",
    "\n",
    "scaler = StandardScaler().fit(X_train)\n",
    "X_train_standard = scaler.transform(X_train)\n",
    "X_val_standard = scaler.transform(X_val)\n",
    "X_test_standard = scaler.transform(X_test)  \n",
    "\n",
    "def get_opt_ridge_model(X_train, X_val, y_train, y_val):\n",
    "    def ridgemodel_eval(alpha):\n",
    "        clf = Ridge(alpha=alpha)\n",
    "        clf.fit(X_train, y_train)\n",
    "        return root_mean_squared_error(y_val, clf.predict(X_val))\n",
    "\n",
    "    alphas = np.linspace(1, 500, 100)\n",
    "    alphas_res = [ridgemodel_eval(alpha) for alpha in alphas]\n",
    "    plt.plot(alphas, alphas_res, 'o-')\n",
    "    plt.xlabel('Alpha')\n",
    "    plt.ylabel('Validation RMSE')\n",
    "    plt.title('Validation RMSE vs Alpha')\n",
    "    plt.grid()\n",
    "    plt.show()\n",
    "\n",
    "    opt_alpha = optimize.minimize_scalar(ridgemodel_eval, bounds=(0.1, 400), method='bounded')\n",
    "    print(f\"Optimal alpha: {opt_alpha.x:.4f}\")\n",
    "    print(\"\\n\")\n",
    "\n",
    "    clf_opt_ridge = Ridge(alpha=opt_alpha.x)\n",
    "    clf_opt_ridge.fit(X_train, y_train)\n",
    "    return clf_opt_ridge\n",
    "\n",
    "clf_opt_ridge = get_opt_ridge_model(X_train_standard, X_val_standard, y_train, y_val)\n",
    "\n",
    "val_rmse = root_mean_squared_error(y_val, clf_opt_ridge.predict(X_val_standard))\n",
    "\n",
    "print(f\"Validation RMSE: {val_rmse:.4f}\")\n",
    "\n",
    "plt.plot(clf_opt_ridge.coef_, 'b+', label=\"Optimal Ridge Regression\")\n",
    "plt.legend()\n",
    "plt.title(\"Comparison of Ridge Coefficients\")\n",
    "plt.show()"
   ]
  },
  {
   "cell_type": "markdown",
   "id": "2cc1632d-709e-4fe3-bfc9-6dd5fe2742e4",
   "metadata": {},
   "source": [
    "The coefficients plot shows that the Ridge Regression model with alpha = 0.1 stabilizes the coefficients while maintaining a good fit to the data."
   ]
  },
  {
   "cell_type": "code",
   "execution_count": 49,
   "id": "0ecb51a6-a71d-404e-b185-d61fdf15fc32",
   "metadata": {},
   "outputs": [
    {
     "name": "stdout",
     "output_type": "stream",
     "text": [
      "Final Ridge Regression Results with Optimal Alpha:\n",
      "Optimal Alpha: 0.1000\n",
      "Training RMSE: 4.0600\n",
      "Validation RMSE: 4.4437\n"
     ]
    }
   ],
   "source": [
    "final_alpha=0.1\n",
    "ridge_final = Ridge(alpha=0.1)\n",
    "ridge_final.fit(X_train_standard, y_train)\n",
    "\n",
    "y_train_pred_final = ridge_final.predict(X_train_standard)\n",
    "y_val_pred_final = ridge_final.predict(X_val_standard)\n",
    "\n",
    "train_rmse_final = root_mean_squared_error(y_train, y_train_pred_final)\n",
    "val_rmse_final = root_mean_squared_error(y_val, y_val_pred_final)\n",
    "\n",
    "print(\"Final Ridge Regression Results with Optimal Alpha:\")\n",
    "print(f\"Optimal Alpha: {final_alpha:.4f}\")\n",
    "print(f\"Training RMSE: {train_rmse_final:.4f}\")\n",
    "print(f\"Validation RMSE: {val_rmse_final:.4f}\")"
   ]
  },
  {
   "cell_type": "markdown",
   "id": "21487915-61c4-438e-8713-8e2204cf277c",
   "metadata": {},
   "source": [
    "**🔷Conclusion:** \n",
    "\n",
    "The Ridge Regression model with the optimized alpha value of 0.1 achieves a Training RMSE of 4.0600, a Validation RMSE of 4.4437"
   ]
  },
  {
   "cell_type": "markdown",
   "id": "8b76861b-d2bd-48f2-ac1b-c83b782bdaf3",
   "metadata": {},
   "source": [
    "# 3️⃣ Lasso Regression"
   ]
  },
  {
   "cell_type": "markdown",
   "id": "0cc00012-f39f-4335-93f3-fecef1427c02",
   "metadata": {},
   "source": [
    "# **🔶Suitability of the model:**\n",
    "**Lasso Regression is a suitable choice for this task as it effectively performs feature selection by shrinking less important coefficients to zero, which simplifies the model and improves interpretability. Its ability to handle multicollinearity ensures that highly correlated predictors do not distort the model, while L1 regularization helps prevent overfitting by balancing bias and variance. This makes Lasso an efficient and interpretable approach for predicting life expectancy.**"
   ]
  },
  {
   "cell_type": "markdown",
   "id": "b1f8d05c-5ad4-46e6-9127-3258b7b790ac",
   "metadata": {},
   "source": [
    " Now i will standardize the data and use LassoCV to find the optimal alpha value with cross-validation, then evaluate the model's performance."
   ]
  },
  {
   "cell_type": "code",
   "execution_count": 50,
   "id": "12c88982-24c5-4404-8cd8-08f362a91d85",
   "metadata": {},
   "outputs": [
    {
     "name": "stdout",
     "output_type": "stream",
     "text": [
      "Optimal alpha: 0.03907\n",
      "Validation RMSE: 2.1066\n",
      "Validation MAE: 3.3425\n"
     ]
    },
    {
     "data": {
      "image/png": "[encoded data removed]",
      "text/plain": [
       "<Figure size 1000x600 with 1 Axes>"
      ]
     },
     "metadata": {},
     "output_type": "display_data"
    }
   ],
   "source": [
    "from sklearn.linear_model import LassoCV\n",
    "from math import sqrt\n",
    "\n",
    "scaler = StandardScaler()\n",
    "X_train_scaled = scaler.fit_transform(X_train)\n",
    "X_val_scaled = scaler.transform(X_val)\n",
    "X_test_scaled = scaler.transform(X_test)\n",
    "\n",
    "lasso_cv = LassoCV(alphas=np.logspace(-3, 3, 50), cv=5, max_iter=10000, random_state=RANDOM_SEED)\n",
    "\n",
    "lasso_cv.fit(X_train_scaled, y_train)\n",
    "\n",
    "y_val_pred = lasso_cv.predict(X_val_scaled)\n",
    "\n",
    "val_rmse = sqrt(root_mean_squared_error(y_val, y_val_pred))\n",
    "val_mae = mean_absolute_error(y_val, y_val_pred)\n",
    "\n",
    "best_alpha = lasso_cv.alpha_\n",
    "\n",
    "print(f\"Optimal alpha: {best_alpha:.5f}\")\n",
    "print(f\"Validation RMSE: {val_rmse:.4f}\")\n",
    "print(f\"Validation MAE: {val_mae:.4f}\")\n",
    "\n",
    "plt.figure(figsize=(10, 6))\n",
    "plt.plot(lasso_cv.coef_, marker='o', linestyle='none')\n",
    "plt.title(\"Lasso Coefficients\")\n",
    "plt.xlabel(\"Feature Index\")\n",
    "plt.ylabel(\"Coefficient Value\")\n",
    "plt.axhline(y=0, color='r', linestyle='--')\n",
    "plt.show()"
   ]
  },
  {
   "cell_type": "markdown",
   "id": "06b77d0b-0c1d-498d-af1d-8b0e17ca3e3d",
   "metadata": {},
   "source": [
    "**🔷Conclusion:** \n",
    "\n",
    "The Lasso Regression model with an optimal alpha of 0.03907 achieving a Validation RMSE of 2.1066. It also shows a Validation MAE of 3.3425"
   ]
  },
  {
   "cell_type": "markdown",
   "id": "357893bc-d677-4710-9fef-28fbed5e629e",
   "metadata": {},
   "source": [
    "# ♦️Final Conclusion\n",
    "\n",
    "After evaluating **Ridge Regression, Lasso Regression, and Random Forest**, the **Lasso Regression model** is **chosen as the final model** for predicting life expectancy due to its superior performance.\n",
    "\n",
    "**Ridge Regression** achieved a Validation RMSE of 4.4437 and Training RMSE of 4.0600, providing stable results but **underperforming compared to the other models**.\n",
    "\n",
    "**Random Forest** demonstrated competitive performance with a Validation RMSE of 3.0522 and Training RMSE of 2.6209, showcasing its ability to capture complex patterns but not outperforming Lasso Regression.\n",
    "\n",
    "**Lasso Regression**, with an optimal alpha of 0.03907, **achieved the best result** with a Validation RMSE of 2.1066, indicating its efficiency in feature selection and generalization.\n",
    "\n",
    "**Final Decision:**\n",
    "\n",
    "The **Lasso Regression model** is **selected as the final model** for its minimal validation error and effective handling of multicollinearity, making it the most suitable choice for predicting life expectancy."
   ]
  },
  {
   "cell_type": "markdown",
   "id": "a4366c88-af39-4249-ab8e-4fc1235450cd",
   "metadata": {},
   "source": [
    "I will evaluate the performance of the selected Lasso Regression model on the test dataset."
   ]
  },
  {
   "cell_type": "code",
   "execution_count": 51,
   "id": "460fbf5e-1cec-47b9-9a91-463c003db824",
   "metadata": {},
   "outputs": [
    {
     "name": "stdout",
     "output_type": "stream",
     "text": [
      "Test RMSE for Lasso Regression: 2.0422\n",
      "Test MAE for Lasso Regression: 4.1707\n"
     ]
    }
   ],
   "source": [
    "y_test_pred = lasso_cv.predict(X_test_scaled)\n",
    "\n",
    "test_rmse = sqrt(root_mean_squared_error(y_test, y_test_pred))\n",
    "test_mae = root_mean_squared_error(y_test, y_test_pred)\n",
    "\n",
    "print(f\"Test RMSE for Lasso Regression: {test_rmse:.4f}\")\n",
    "print(f\"Test MAE for Lasso Regression: {test_mae:.4f}\")"
   ]
  },
  {
   "cell_type": "markdown",
   "id": "219d591e-4bc5-441a-84a6-600ac109354c",
   "metadata": {},
   "source": [
    "The model achieves a Test RMSE of 2.0422 and a Test MAE of 4.1707, confirming its strong predictive ability and generalization to unseen data."
   ]
  },
  {
   "cell_type": "markdown",
   "id": "a0079721-340f-4f96-8854-31d82bbafb65",
   "metadata": {},
   "source": [
    "# Evaluation"
   ]
  },
  {
   "cell_type": "markdown",
   "id": "1857583b-eee6-4f8d-b3f6-e9abb8060d9d",
   "metadata": {},
   "source": [
    "Same steps of Data preparation as before with \"data.csv\""
   ]
  },
  {
   "cell_type": "code",
   "execution_count": 52,
   "id": "6e5ec01a-77cf-44c0-aec8-b07303b75a17",
   "metadata": {},
   "outputs": [
    {
     "name": "stdout",
     "output_type": "stream",
     "text": [
      "<class 'pandas.core.frame.DataFrame'>\n",
      "RangeIndex: 210 entries, 0 to 209\n",
      "Data columns (total 21 columns):\n",
      " #   Column                           Non-Null Count  Dtype  \n",
      "---  ------                           --------------  -----  \n",
      " 0   Country                          210 non-null    object \n",
      " 1   Year                             210 non-null    int64  \n",
      " 2   Status                           210 non-null    object \n",
      " 3   Adult Mortality                  210 non-null    float64\n",
      " 4   infant deaths                    210 non-null    int64  \n",
      " 5   Alcohol                          177 non-null    float64\n",
      " 6   percentage expenditure           210 non-null    float64\n",
      " 7   Hepatitis B                      188 non-null    float64\n",
      " 8   Measles                          210 non-null    int64  \n",
      " 9   BMI                              210 non-null    float64\n",
      " 10  under-five deaths                210 non-null    int64  \n",
      " 11  Polio                            210 non-null    float64\n",
      " 12  Total expenditure                176 non-null    float64\n",
      " 13  Diphtheria                       210 non-null    float64\n",
      " 14  HIV/AIDS                         210 non-null    float64\n",
      " 15  GDP                              174 non-null    float64\n",
      " 16  Population                       180 non-null    float64\n",
      " 17  thinness  1-19 years             210 non-null    float64\n",
      " 18  thinness 5-9 years               210 non-null    float64\n",
      " 19  Income composition of resources  198 non-null    float64\n",
      " 20  Schooling                        198 non-null    float64\n",
      "dtypes: float64(15), int64(4), object(2)\n",
      "memory usage: 34.6+ KB\n"
     ]
    },
    {
     "data": {
      "text/html": [
       "<div>\n",
       "<style scoped>\n",
       "    .dataframe tbody tr th:only-of-type {\n",
       "        vertical-align: middle;\n",
       "    }\n",
       "\n",
       "    .dataframe tbody tr th {\n",
       "        vertical-align: top;\n",
       "    }\n",
       "\n",
       "    .dataframe thead th {\n",
       "        text-align: right;\n",
       "    }\n",
       "</style>\n",
       "<table border=\"1\" class=\"dataframe\">\n",
       "  <thead>\n",
       "    <tr style=\"text-align: right;\">\n",
       "      <th></th>\n",
       "      <th>Year</th>\n",
       "      <th>Adult Mortality</th>\n",
       "      <th>infant deaths</th>\n",
       "      <th>Alcohol</th>\n",
       "      <th>percentage expenditure</th>\n",
       "      <th>Hepatitis B</th>\n",
       "      <th>Measles</th>\n",
       "      <th>BMI</th>\n",
       "      <th>under-five deaths</th>\n",
       "      <th>Polio</th>\n",
       "      <th>Total expenditure</th>\n",
       "      <th>Diphtheria</th>\n",
       "      <th>HIV/AIDS</th>\n",
       "      <th>GDP</th>\n",
       "      <th>Population</th>\n",
       "      <th>thinness  1-19 years</th>\n",
       "      <th>thinness 5-9 years</th>\n",
       "      <th>Income composition of resources</th>\n",
       "      <th>Schooling</th>\n",
       "    </tr>\n",
       "  </thead>\n",
       "  <tbody>\n",
       "    <tr>\n",
       "      <th>count</th>\n",
       "      <td>210.000000</td>\n",
       "      <td>210.000000</td>\n",
       "      <td>210.000000</td>\n",
       "      <td>177.000000</td>\n",
       "      <td>210.000000</td>\n",
       "      <td>188.000000</td>\n",
       "      <td>210.000000</td>\n",
       "      <td>210.000000</td>\n",
       "      <td>210.000000</td>\n",
       "      <td>210.000000</td>\n",
       "      <td>176.000000</td>\n",
       "      <td>210.000000</td>\n",
       "      <td>210.000000</td>\n",
       "      <td>174.000000</td>\n",
       "      <td>1.800000e+02</td>\n",
       "      <td>210.000000</td>\n",
       "      <td>210.000000</td>\n",
       "      <td>198.000000</td>\n",
       "      <td>198.000000</td>\n",
       "    </tr>\n",
       "    <tr>\n",
       "      <th>mean</th>\n",
       "      <td>2012.500000</td>\n",
       "      <td>152.176190</td>\n",
       "      <td>12.228571</td>\n",
       "      <td>5.103559</td>\n",
       "      <td>581.297386</td>\n",
       "      <td>82.382979</td>\n",
       "      <td>569.404762</td>\n",
       "      <td>45.939524</td>\n",
       "      <td>17.609524</td>\n",
       "      <td>82.342857</td>\n",
       "      <td>6.945398</td>\n",
       "      <td>84.314286</td>\n",
       "      <td>0.730000</td>\n",
       "      <td>7432.869733</td>\n",
       "      <td>7.007017e+06</td>\n",
       "      <td>3.533333</td>\n",
       "      <td>3.425238</td>\n",
       "      <td>0.686707</td>\n",
       "      <td>13.004545</td>\n",
       "    </tr>\n",
       "    <tr>\n",
       "      <th>std</th>\n",
       "      <td>1.711906</td>\n",
       "      <td>106.218752</td>\n",
       "      <td>26.703317</td>\n",
       "      <td>4.279429</td>\n",
       "      <td>1685.180434</td>\n",
       "      <td>21.967213</td>\n",
       "      <td>2218.063935</td>\n",
       "      <td>20.271625</td>\n",
       "      <td>39.633366</td>\n",
       "      <td>23.931653</td>\n",
       "      <td>2.964691</td>\n",
       "      <td>20.453619</td>\n",
       "      <td>1.332517</td>\n",
       "      <td>12834.306456</td>\n",
       "      <td>1.565265e+07</td>\n",
       "      <td>2.683537</td>\n",
       "      <td>2.613634</td>\n",
       "      <td>0.162654</td>\n",
       "      <td>2.882369</td>\n",
       "    </tr>\n",
       "    <tr>\n",
       "      <th>min</th>\n",
       "      <td>2010.000000</td>\n",
       "      <td>6.000000</td>\n",
       "      <td>0.000000</td>\n",
       "      <td>0.010000</td>\n",
       "      <td>0.000000</td>\n",
       "      <td>2.000000</td>\n",
       "      <td>0.000000</td>\n",
       "      <td>2.700000</td>\n",
       "      <td>0.000000</td>\n",
       "      <td>5.000000</td>\n",
       "      <td>1.320000</td>\n",
       "      <td>6.000000</td>\n",
       "      <td>0.100000</td>\n",
       "      <td>45.128418</td>\n",
       "      <td>1.230000e+02</td>\n",
       "      <td>0.200000</td>\n",
       "      <td>0.100000</td>\n",
       "      <td>0.380000</td>\n",
       "      <td>7.300000</td>\n",
       "    </tr>\n",
       "    <tr>\n",
       "      <th>25%</th>\n",
       "      <td>2011.000000</td>\n",
       "      <td>75.250000</td>\n",
       "      <td>0.000000</td>\n",
       "      <td>0.600000</td>\n",
       "      <td>0.000000</td>\n",
       "      <td>81.000000</td>\n",
       "      <td>0.000000</td>\n",
       "      <td>25.425000</td>\n",
       "      <td>0.000000</td>\n",
       "      <td>82.250000</td>\n",
       "      <td>5.490000</td>\n",
       "      <td>81.250000</td>\n",
       "      <td>0.100000</td>\n",
       "      <td>669.884611</td>\n",
       "      <td>2.079250e+05</td>\n",
       "      <td>1.400000</td>\n",
       "      <td>1.400000</td>\n",
       "      <td>0.566250</td>\n",
       "      <td>11.500000</td>\n",
       "    </tr>\n",
       "    <tr>\n",
       "      <th>50%</th>\n",
       "      <td>2012.500000</td>\n",
       "      <td>135.000000</td>\n",
       "      <td>1.000000</td>\n",
       "      <td>4.440000</td>\n",
       "      <td>67.717727</td>\n",
       "      <td>91.000000</td>\n",
       "      <td>9.000000</td>\n",
       "      <td>54.900000</td>\n",
       "      <td>1.000000</td>\n",
       "      <td>92.000000</td>\n",
       "      <td>6.635000</td>\n",
       "      <td>92.000000</td>\n",
       "      <td>0.100000</td>\n",
       "      <td>3853.815910</td>\n",
       "      <td>9.868550e+05</td>\n",
       "      <td>2.500000</td>\n",
       "      <td>2.500000</td>\n",
       "      <td>0.727000</td>\n",
       "      <td>13.200000</td>\n",
       "    </tr>\n",
       "    <tr>\n",
       "      <th>75%</th>\n",
       "      <td>2014.000000</td>\n",
       "      <td>236.250000</td>\n",
       "      <td>14.000000</td>\n",
       "      <td>8.960000</td>\n",
       "      <td>436.495092</td>\n",
       "      <td>95.000000</td>\n",
       "      <td>82.750000</td>\n",
       "      <td>61.300000</td>\n",
       "      <td>18.750000</td>\n",
       "      <td>96.000000</td>\n",
       "      <td>8.135000</td>\n",
       "      <td>96.000000</td>\n",
       "      <td>0.600000</td>\n",
       "      <td>8756.611031</td>\n",
       "      <td>4.605584e+06</td>\n",
       "      <td>6.275000</td>\n",
       "      <td>6.025000</td>\n",
       "      <td>0.817750</td>\n",
       "      <td>15.050000</td>\n",
       "    </tr>\n",
       "    <tr>\n",
       "      <th>max</th>\n",
       "      <td>2015.000000</td>\n",
       "      <td>682.000000</td>\n",
       "      <td>162.000000</td>\n",
       "      <td>15.190000</td>\n",
       "      <td>15268.064450</td>\n",
       "      <td>99.000000</td>\n",
       "      <td>17745.000000</td>\n",
       "      <td>74.700000</td>\n",
       "      <td>243.000000</td>\n",
       "      <td>99.000000</td>\n",
       "      <td>17.600000</td>\n",
       "      <td>99.000000</td>\n",
       "      <td>6.800000</td>\n",
       "      <td>87646.753460</td>\n",
       "      <td>9.736677e+07</td>\n",
       "      <td>11.000000</td>\n",
       "      <td>9.900000</td>\n",
       "      <td>0.948000</td>\n",
       "      <td>19.200000</td>\n",
       "    </tr>\n",
       "  </tbody>\n",
       "</table>\n",
       "</div>"
      ],
      "text/plain": [
       "              Year  Adult Mortality  infant deaths     Alcohol  \\\n",
       "count   210.000000       210.000000     210.000000  177.000000   \n",
       "mean   2012.500000       152.176190      12.228571    5.103559   \n",
       "std       1.711906       106.218752      26.703317    4.279429   \n",
       "min    2010.000000         6.000000       0.000000    0.010000   \n",
       "25%    2011.000000        75.250000       0.000000    0.600000   \n",
       "50%    2012.500000       135.000000       1.000000    4.440000   \n",
       "75%    2014.000000       236.250000      14.000000    8.960000   \n",
       "max    2015.000000       682.000000     162.000000   15.190000   \n",
       "\n",
       "       percentage expenditure  Hepatitis B       Measles         BMI  \\\n",
       "count              210.000000   188.000000    210.000000  210.000000   \n",
       "mean               581.297386    82.382979    569.404762   45.939524   \n",
       "std               1685.180434    21.967213   2218.063935   20.271625   \n",
       "min                  0.000000     2.000000      0.000000    2.700000   \n",
       "25%                  0.000000    81.000000      0.000000   25.425000   \n",
       "50%                 67.717727    91.000000      9.000000   54.900000   \n",
       "75%                436.495092    95.000000     82.750000   61.300000   \n",
       "max              15268.064450    99.000000  17745.000000   74.700000   \n",
       "\n",
       "       under-five deaths       Polio  Total expenditure  Diphtheria  \\\n",
       "count         210.000000  210.000000         176.000000  210.000000   \n",
       "mean           17.609524   82.342857           6.945398   84.314286   \n",
       "std            39.633366   23.931653           2.964691   20.453619   \n",
       "min             0.000000    5.000000           1.320000    6.000000   \n",
       "25%             0.000000   82.250000           5.490000   81.250000   \n",
       "50%             1.000000   92.000000           6.635000   92.000000   \n",
       "75%            18.750000   96.000000           8.135000   96.000000   \n",
       "max           243.000000   99.000000          17.600000   99.000000   \n",
       "\n",
       "         HIV/AIDS           GDP    Population  thinness  1-19 years  \\\n",
       "count  210.000000    174.000000  1.800000e+02            210.000000   \n",
       "mean     0.730000   7432.869733  7.007017e+06              3.533333   \n",
       "std      1.332517  12834.306456  1.565265e+07              2.683537   \n",
       "min      0.100000     45.128418  1.230000e+02              0.200000   \n",
       "25%      0.100000    669.884611  2.079250e+05              1.400000   \n",
       "50%      0.100000   3853.815910  9.868550e+05              2.500000   \n",
       "75%      0.600000   8756.611031  4.605584e+06              6.275000   \n",
       "max      6.800000  87646.753460  9.736677e+07             11.000000   \n",
       "\n",
       "       thinness 5-9 years  Income composition of resources   Schooling  \n",
       "count          210.000000                       198.000000  198.000000  \n",
       "mean             3.425238                         0.686707   13.004545  \n",
       "std              2.613634                         0.162654    2.882369  \n",
       "min              0.100000                         0.380000    7.300000  \n",
       "25%              1.400000                         0.566250   11.500000  \n",
       "50%              2.500000                         0.727000   13.200000  \n",
       "75%              6.025000                         0.817750   15.050000  \n",
       "max              9.900000                         0.948000   19.200000  "
      ]
     },
     "execution_count": 52,
     "metadata": {},
     "output_type": "execute_result"
    }
   ],
   "source": [
    "df_eval = pd.read_csv(\"evaluation.csv\")\n",
    "df_eval.info()\n",
    "df_eval.describe()"
   ]
  },
  {
   "cell_type": "markdown",
   "id": "c5ff85d6-f9cd-4bbc-98dc-d60cafcc869e",
   "metadata": {},
   "source": [
    "Check for duplicates and missing values"
   ]
  },
  {
   "cell_type": "code",
   "execution_count": 53,
   "id": "57268f95-37f7-455f-a790-b3801635b29a",
   "metadata": {},
   "outputs": [
    {
     "name": "stdout",
     "output_type": "stream",
     "text": [
      "Number of duplicates: 0\n",
      "\n",
      "Missing values per column:\n",
      "Country                             0\n",
      "Year                                0\n",
      "Status                              0\n",
      "Adult Mortality                     0\n",
      "infant deaths                       0\n",
      "Alcohol                            33\n",
      "percentage expenditure              0\n",
      "Hepatitis B                        22\n",
      "Measles                             0\n",
      "BMI                                 0\n",
      "under-five deaths                   0\n",
      "Polio                               0\n",
      "Total expenditure                  34\n",
      "Diphtheria                          0\n",
      "HIV/AIDS                            0\n",
      "GDP                                36\n",
      "Population                         30\n",
      "thinness  1-19 years                0\n",
      "thinness 5-9 years                  0\n",
      "Income composition of resources    12\n",
      "Schooling                          12\n",
      "dtype: int64\n"
     ]
    }
   ],
   "source": [
    "print(f\"Number of duplicates: {df_eval.duplicated().sum()}\")\n",
    "print(\"\\nMissing values per column:\")\n",
    "print(df_eval.isnull().sum())"
   ]
  },
  {
   "cell_type": "markdown",
   "id": "a5bea0cb-a07c-4d18-a61a-d7c0fa7791e6",
   "metadata": {},
   "source": [
    "Deleting High-Correlating Features "
   ]
  },
  {
   "cell_type": "code",
   "execution_count": 54,
   "id": "5011b54e-f44a-48e1-9445-410966e33529",
   "metadata": {},
   "outputs": [
    {
     "name": "stdout",
     "output_type": "stream",
     "text": [
      "\n",
      "Features dropped due to high correlation: ['under-five deaths', 'percentage expenditure', 'thinness 5-9 years']\n",
      "\n",
      "Updated DataFrame:\n",
      "<class 'pandas.core.frame.DataFrame'>\n",
      "RangeIndex: 210 entries, 0 to 209\n",
      "Data columns (total 18 columns):\n",
      " #   Column                           Non-Null Count  Dtype  \n",
      "---  ------                           --------------  -----  \n",
      " 0   Country                          210 non-null    object \n",
      " 1   Year                             210 non-null    int64  \n",
      " 2   Status                           210 non-null    object \n",
      " 3   Adult Mortality                  210 non-null    float64\n",
      " 4   infant deaths                    210 non-null    int64  \n",
      " 5   Alcohol                          177 non-null    float64\n",
      " 6   Hepatitis B                      188 non-null    float64\n",
      " 7   Measles                          210 non-null    int64  \n",
      " 8   BMI                              210 non-null    float64\n",
      " 9   Polio                            210 non-null    float64\n",
      " 10  Total expenditure                176 non-null    float64\n",
      " 11  Diphtheria                       210 non-null    float64\n",
      " 12  HIV/AIDS                         210 non-null    float64\n",
      " 13  GDP                              174 non-null    float64\n",
      " 14  Population                       180 non-null    float64\n",
      " 15  thinness  1-19 years             210 non-null    float64\n",
      " 16  Income composition of resources  198 non-null    float64\n",
      " 17  Schooling                        198 non-null    float64\n",
      "dtypes: float64(13), int64(3), object(2)\n",
      "memory usage: 29.7+ KB\n",
      "None\n"
     ]
    }
   ],
   "source": [
    "features_to_drop = ['under-five deaths', 'percentage expenditure', 'thinness 5-9 years']\n",
    "df_eval_reduced = df_eval.drop(columns=features_to_drop)\n",
    "print(\"\\nFeatures dropped due to high correlation:\", features_to_drop)\n",
    "print(\"\\nUpdated DataFrame:\")\n",
    "print(df_eval_reduced.info())"
   ]
  },
  {
   "cell_type": "markdown",
   "id": "86e6a088-7c57-4cab-88ea-078464871249",
   "metadata": {},
   "source": [
    "Encoding object columns"
   ]
  },
  {
   "cell_type": "code",
   "execution_count": 55,
   "id": "119c94cd-603e-465b-8a1d-97ec02331b81",
   "metadata": {},
   "outputs": [
    {
     "name": "stdout",
     "output_type": "stream",
     "text": [
      "\n",
      "Data types after encoding:\n",
      "Country                               int8\n",
      "Year                                 int64\n",
      "Status                                int8\n",
      "Adult Mortality                    float64\n",
      "infant deaths                        int64\n",
      "Alcohol                            float64\n",
      "Hepatitis B                        float64\n",
      "Measles                              int64\n",
      "BMI                                float64\n",
      "Polio                              float64\n",
      "Total expenditure                  float64\n",
      "Diphtheria                         float64\n",
      "HIV/AIDS                           float64\n",
      "GDP                                float64\n",
      "Population                         float64\n",
      "thinness  1-19 years               float64\n",
      "Income composition of resources    float64\n",
      "Schooling                          float64\n",
      "dtype: object\n"
     ]
    }
   ],
   "source": [
    "string_cols = df_eval_reduced.select_dtypes(['object']).columns\n",
    "df_eval_reduced[string_cols] = df_eval_reduced[string_cols].astype('category').apply(lambda x: x.cat.codes)\n",
    "\n",
    "print(\"\\nData types after encoding:\")\n",
    "print(df_eval_reduced.dtypes)"
   ]
  },
  {
   "cell_type": "markdown",
   "id": "11b151eb-554d-4cb8-a8a9-8e8e2b61829c",
   "metadata": {},
   "source": [
    "Filling missing values with median "
   ]
  },
  {
   "cell_type": "code",
   "execution_count": 56,
   "id": "bfa68474-ebc5-4d3a-869d-d12c4058e818",
   "metadata": {},
   "outputs": [
    {
     "name": "stdout",
     "output_type": "stream",
     "text": [
      "\n",
      "Missing values after filling with median:\n",
      "Country                            0\n",
      "Year                               0\n",
      "Status                             0\n",
      "Adult Mortality                    0\n",
      "infant deaths                      0\n",
      "Alcohol                            0\n",
      "Hepatitis B                        0\n",
      "Measles                            0\n",
      "BMI                                0\n",
      "Polio                              0\n",
      "Total expenditure                  0\n",
      "Diphtheria                         0\n",
      "HIV/AIDS                           0\n",
      "GDP                                0\n",
      "Population                         0\n",
      "thinness  1-19 years               0\n",
      "Income composition of resources    0\n",
      "Schooling                          0\n",
      "dtype: int64\n"
     ]
    }
   ],
   "source": [
    "df_eval_reduced = df_eval_reduced.fillna(df_eval_reduced.median())\n",
    "\n",
    "print(\"\\nMissing values after filling with median:\")\n",
    "print(df_eval_reduced.isnull().sum())"
   ]
  },
  {
   "cell_type": "markdown",
   "id": "eaa5293f-f2a6-4079-9793-ba2cdaea56f0",
   "metadata": {},
   "source": [
    "Get predictions on the evaluation dataset ans save them into \"results.csv\""
   ]
  },
  {
   "cell_type": "code",
   "execution_count": 57,
   "id": "35e138fb-71f2-4510-9d56-6f8da9b9096c",
   "metadata": {},
   "outputs": [
    {
     "name": "stdout",
     "output_type": "stream",
     "text": [
      "Predictions saved to results.csv\n"
     ]
    }
   ],
   "source": [
    "df_eval_scaled = scaler.transform(df_eval_reduced)\n",
    "\n",
    "df_eval_predictions = lasso_cv.predict(df_eval_scaled)\n",
    "\n",
    "df_results = df_eval[['Country', 'Year']].copy()\n",
    "df_results['Life expectancy'] = df_eval_predictions\n",
    "\n",
    "df_results.to_csv('results.csv', index=False)\n",
    "\n",
    "print(\"Predictions saved to results.csv\")"
   ]
  }
 ],
 "metadata": {
  "kernelspec": {
   "display_name": "Python 3 (ipykernel)",
   "language": "python",
   "name": "python3"
  },
  "language_info": {
   "codemirror_mode": {
    "name": "ipython",
    "version": 3
   },
   "file_extension": ".py",
   "mimetype": "text/x-python",
   "name": "python",
   "nbconvert_exporter": "python",
   "pygments_lexer": "ipython3",
   "version": "3.12.8"
  }
 },
 "nbformat": 4,
 "nbformat_minor": 5
}
